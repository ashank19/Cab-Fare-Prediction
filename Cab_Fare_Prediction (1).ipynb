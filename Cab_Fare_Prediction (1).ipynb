{
  "nbformat": 4,
  "nbformat_minor": 0,
  "metadata": {
    "colab": {
      "name": "Cab Fare Prediction.ipynb",
      "provenance": [],
      "collapsed_sections": []
    },
    "kernelspec": {
      "name": "python3",
      "display_name": "Python 3"
    },
    "accelerator": "GPU"
  },
  "cells": [
    {
      "cell_type": "markdown",
      "metadata": {
        "colab_type": "text",
        "id": "V-i8qGA3Kow8"
      },
      "source": [
        "# Project on Cab Fare Prediction\n",
        "\n",
        "## Contents\n",
        "### Introduction\n",
        "### Assessing the Data\n",
        "### Cleaning the data\n",
        "### Feature Engineering\n",
        "### Exploratory Analysis\n",
        "### Feature Selection\n",
        "### Feature Scaling\n",
        "### Building the model\n"
      ]
    },
    {
      "cell_type": "markdown",
      "metadata": {
        "colab_type": "text",
        "id": "NL95GUV8Mx_t"
      },
      "source": [
        "# Introduction\n",
        "\n",
        "Problem Statement -\n",
        "You are a cab rental start-up company. You have successfully run the pilot project and\n",
        "now want to launch your cab service across the country. You have collected the\n",
        "historical data from your pilot project and now have a requirement to apply analytics for\n",
        "fare prediction. You need to design a system that predicts the fare amount for a cab ride\n",
        "in the city.\n",
        "\n",
        "\n",
        "> Number of attributes:\n",
        "\n",
        "> pickup_datetime - timestamp value indicating when the cab ride started.\n",
        "\n",
        "> pickup_longitude - float for longitude coordinate of where the cab ride started.\n",
        "\n",
        "> pickup_latitude - float for latitude coordinate of where the cab ride started.\n",
        "\n",
        "> dropoff_longitude - float for longitude coordinate of where the cab ride ended.\n",
        "\n",
        "> dropoff_latitude - float for latitude coordinate of where the cab ride ended.\n",
        "\n",
        "> passenger_count - an integer indicating the number of passengers in the cab\n",
        "ride.\n",
        "\n",
        "Missing Values: Yes"
      ]
    },
    {
      "cell_type": "markdown",
      "metadata": {
        "id": "bPUU4LCAmNVz",
        "colab_type": "text"
      },
      "source": [
        "Loading the dataset in google colab for processing"
      ]
    },
    {
      "cell_type": "code",
      "metadata": {
        "colab_type": "code",
        "id": "hVEHF0rVtVae",
        "colab": {}
      },
      "source": [
        "from google.colab import files"
      ],
      "execution_count": 0,
      "outputs": []
    },
    {
      "cell_type": "code",
      "metadata": {
        "colab_type": "code",
        "id": "d8blAKwct5h0",
        "outputId": "eb0a74ea-34b6-4b4d-a8bf-b52bca7d30a4",
        "colab": {
          "resources": {
            "http://localhost:8080/nbextensions/google.colab/files.js": {
              "data": "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",
              "ok": true,
              "headers": [
                [
                  "content-type",
                  "application/javascript"
                ]
              ],
              "status": 200,
              "status_text": ""
            }
          },
          "base_uri": "https://localhost:8080/",
          "height": 74
        }
      },
      "source": [
        "uploaded = files.upload()"
      ],
      "execution_count": 8,
      "outputs": [
        {
          "output_type": "display_data",
          "data": {
            "text/html": [
              "\n",
              "     <input type=\"file\" id=\"files-0d5fbd91-ff74-4f4c-9de2-4885927e48fd\" name=\"files[]\" multiple disabled />\n",
              "     <output id=\"result-0d5fbd91-ff74-4f4c-9de2-4885927e48fd\">\n",
              "      Upload widget is only available when the cell has been executed in the\n",
              "      current browser session. Please rerun this cell to enable.\n",
              "      </output>\n",
              "      <script src=\"/nbextensions/google.colab/files.js\"></script> "
            ],
            "text/plain": [
              "<IPython.core.display.HTML object>"
            ]
          },
          "metadata": {
            "tags": []
          }
        },
        {
          "output_type": "stream",
          "text": [
            "Saving test.csv to test.csv\n"
          ],
          "name": "stdout"
        }
      ]
    },
    {
      "cell_type": "code",
      "metadata": {
        "colab_type": "code",
        "id": "RpdqQTaNt_67",
        "outputId": "d33ca53e-b5ee-4573-ffff-a6978cfd19ae",
        "colab": {
          "base_uri": "https://localhost:8080/",
          "height": 34
        }
      },
      "source": [
        "for fn in uploaded.keys():\n",
        "  print('User uploaded file \"{name}\" with length {length} bytes'.format(\n",
        "      name=fn, length=len(uploaded[fn])))"
      ],
      "execution_count": 9,
      "outputs": [
        {
          "output_type": "stream",
          "text": [
            "User uploaded file \"test.csv\" with length 682559 bytes\n"
          ],
          "name": "stdout"
        }
      ]
    },
    {
      "cell_type": "code",
      "metadata": {
        "colab_type": "code",
        "id": "qAw62UB3uQ3u",
        "colab": {}
      },
      "source": [
        "# Importing relevant libraries\n",
        "import numpy as np\n",
        "import pandas as pd\n",
        "import matplotlib.pyplot as plt\n",
        "import seaborn as sb\n",
        "%matplotlib inline"
      ],
      "execution_count": 0,
      "outputs": []
    },
    {
      "cell_type": "code",
      "metadata": {
        "id": "7TUnxigwwWno",
        "colab_type": "code",
        "colab": {}
      },
      "source": [
        "# Reading the training and testing set into a pandas dataframe\n",
        "train=pd.read_csv('train_cab.csv')"
      ],
      "execution_count": 0,
      "outputs": []
    },
    {
      "cell_type": "code",
      "metadata": {
        "id": "JvBXAkj_wfYv",
        "colab_type": "code",
        "colab": {}
      },
      "source": [
        "test=pd.read_csv('test.csv')"
      ],
      "execution_count": 0,
      "outputs": []
    },
    {
      "cell_type": "code",
      "metadata": {
        "id": "Y2aIUkMcxkHz",
        "colab_type": "code",
        "colab": {}
      },
      "source": [
        "# Creating a copy of the dataset\n",
        "df=train.copy()\n",
        "df1=test.copy()"
      ],
      "execution_count": 0,
      "outputs": []
    },
    {
      "cell_type": "markdown",
      "metadata": {
        "id": "sj_cp6n-nv1R",
        "colab_type": "text"
      },
      "source": [
        "## Assessing the Data"
      ]
    },
    {
      "cell_type": "code",
      "metadata": {
        "id": "3RyfQPwewudw",
        "colab_type": "code",
        "outputId": "c98b98cf-35b7-4540-e62c-0c147c62148b",
        "colab": {
          "base_uri": "https://localhost:8080/",
          "height": 221
        }
      },
      "source": [
        "# Information of the columns both training and testing set\n",
        "train.info()"
      ],
      "execution_count": 12,
      "outputs": [
        {
          "output_type": "stream",
          "text": [
            "<class 'pandas.core.frame.DataFrame'>\n",
            "RangeIndex: 16067 entries, 0 to 16066\n",
            "Data columns (total 7 columns):\n",
            "fare_amount          16043 non-null object\n",
            "pickup_datetime      16067 non-null object\n",
            "pickup_longitude     16067 non-null float64\n",
            "pickup_latitude      16067 non-null float64\n",
            "dropoff_longitude    16067 non-null float64\n",
            "dropoff_latitude     16067 non-null float64\n",
            "passenger_count      16012 non-null float64\n",
            "dtypes: float64(5), object(2)\n",
            "memory usage: 878.8+ KB\n"
          ],
          "name": "stdout"
        }
      ]
    },
    {
      "cell_type": "code",
      "metadata": {
        "id": "fgs19ji7kALx",
        "colab_type": "code",
        "outputId": "7e9b082c-9740-4e81-cd7a-b0068c2993ca",
        "colab": {
          "base_uri": "https://localhost:8080/",
          "height": 204
        }
      },
      "source": [
        "test.info()"
      ],
      "execution_count": 13,
      "outputs": [
        {
          "output_type": "stream",
          "text": [
            "<class 'pandas.core.frame.DataFrame'>\n",
            "RangeIndex: 9914 entries, 0 to 9913\n",
            "Data columns (total 6 columns):\n",
            "pickup_datetime      9914 non-null object\n",
            "pickup_longitude     9914 non-null float64\n",
            "pickup_latitude      9914 non-null float64\n",
            "dropoff_longitude    9914 non-null float64\n",
            "dropoff_latitude     9914 non-null float64\n",
            "passenger_count      9914 non-null int64\n",
            "dtypes: float64(4), int64(1), object(1)\n",
            "memory usage: 464.8+ KB\n"
          ],
          "name": "stdout"
        }
      ]
    },
    {
      "cell_type": "code",
      "metadata": {
        "id": "dtrbYCQew4Zh",
        "colab_type": "code",
        "outputId": "798c1639-63cb-4e98-e382-fd5e2ff1f537",
        "colab": {
          "base_uri": "https://localhost:8080/",
          "height": 204
        }
      },
      "source": [
        "# First few rows of the training set\n",
        "train.head()"
      ],
      "execution_count": 14,
      "outputs": [
        {
          "output_type": "execute_result",
          "data": {
            "text/html": [
              "<div>\n",
              "<style scoped>\n",
              "    .dataframe tbody tr th:only-of-type {\n",
              "        vertical-align: middle;\n",
              "    }\n",
              "\n",
              "    .dataframe tbody tr th {\n",
              "        vertical-align: top;\n",
              "    }\n",
              "\n",
              "    .dataframe thead th {\n",
              "        text-align: right;\n",
              "    }\n",
              "</style>\n",
              "<table border=\"1\" class=\"dataframe\">\n",
              "  <thead>\n",
              "    <tr style=\"text-align: right;\">\n",
              "      <th></th>\n",
              "      <th>fare_amount</th>\n",
              "      <th>pickup_datetime</th>\n",
              "      <th>pickup_longitude</th>\n",
              "      <th>pickup_latitude</th>\n",
              "      <th>dropoff_longitude</th>\n",
              "      <th>dropoff_latitude</th>\n",
              "      <th>passenger_count</th>\n",
              "    </tr>\n",
              "  </thead>\n",
              "  <tbody>\n",
              "    <tr>\n",
              "      <th>0</th>\n",
              "      <td>4.5</td>\n",
              "      <td>2009-06-15 17:26:21 UTC</td>\n",
              "      <td>-73.844311</td>\n",
              "      <td>40.721319</td>\n",
              "      <td>-73.841610</td>\n",
              "      <td>40.712278</td>\n",
              "      <td>1.0</td>\n",
              "    </tr>\n",
              "    <tr>\n",
              "      <th>1</th>\n",
              "      <td>16.9</td>\n",
              "      <td>2010-01-05 16:52:16 UTC</td>\n",
              "      <td>-74.016048</td>\n",
              "      <td>40.711303</td>\n",
              "      <td>-73.979268</td>\n",
              "      <td>40.782004</td>\n",
              "      <td>1.0</td>\n",
              "    </tr>\n",
              "    <tr>\n",
              "      <th>2</th>\n",
              "      <td>5.7</td>\n",
              "      <td>2011-08-18 00:35:00 UTC</td>\n",
              "      <td>-73.982738</td>\n",
              "      <td>40.761270</td>\n",
              "      <td>-73.991242</td>\n",
              "      <td>40.750562</td>\n",
              "      <td>2.0</td>\n",
              "    </tr>\n",
              "    <tr>\n",
              "      <th>3</th>\n",
              "      <td>7.7</td>\n",
              "      <td>2012-04-21 04:30:42 UTC</td>\n",
              "      <td>-73.987130</td>\n",
              "      <td>40.733143</td>\n",
              "      <td>-73.991567</td>\n",
              "      <td>40.758092</td>\n",
              "      <td>1.0</td>\n",
              "    </tr>\n",
              "    <tr>\n",
              "      <th>4</th>\n",
              "      <td>5.3</td>\n",
              "      <td>2010-03-09 07:51:00 UTC</td>\n",
              "      <td>-73.968095</td>\n",
              "      <td>40.768008</td>\n",
              "      <td>-73.956655</td>\n",
              "      <td>40.783762</td>\n",
              "      <td>1.0</td>\n",
              "    </tr>\n",
              "  </tbody>\n",
              "</table>\n",
              "</div>"
            ],
            "text/plain": [
              "  fare_amount          pickup_datetime  ...  dropoff_latitude  passenger_count\n",
              "0         4.5  2009-06-15 17:26:21 UTC  ...         40.712278              1.0\n",
              "1        16.9  2010-01-05 16:52:16 UTC  ...         40.782004              1.0\n",
              "2         5.7  2011-08-18 00:35:00 UTC  ...         40.750562              2.0\n",
              "3         7.7  2012-04-21 04:30:42 UTC  ...         40.758092              1.0\n",
              "4         5.3  2010-03-09 07:51:00 UTC  ...         40.783762              1.0\n",
              "\n",
              "[5 rows x 7 columns]"
            ]
          },
          "metadata": {
            "tags": []
          },
          "execution_count": 14
        }
      ]
    },
    {
      "cell_type": "code",
      "metadata": {
        "id": "1mo_ipn4kFJ5",
        "colab_type": "code",
        "outputId": "80d177ff-2cee-4419-c7e9-79d906ed9c36",
        "colab": {
          "base_uri": "https://localhost:8080/",
          "height": 297
        }
      },
      "source": [
        "# Descriptive statistics of the training set\n",
        "train.describe()"
      ],
      "execution_count": 15,
      "outputs": [
        {
          "output_type": "execute_result",
          "data": {
            "text/html": [
              "<div>\n",
              "<style scoped>\n",
              "    .dataframe tbody tr th:only-of-type {\n",
              "        vertical-align: middle;\n",
              "    }\n",
              "\n",
              "    .dataframe tbody tr th {\n",
              "        vertical-align: top;\n",
              "    }\n",
              "\n",
              "    .dataframe thead th {\n",
              "        text-align: right;\n",
              "    }\n",
              "</style>\n",
              "<table border=\"1\" class=\"dataframe\">\n",
              "  <thead>\n",
              "    <tr style=\"text-align: right;\">\n",
              "      <th></th>\n",
              "      <th>pickup_longitude</th>\n",
              "      <th>pickup_latitude</th>\n",
              "      <th>dropoff_longitude</th>\n",
              "      <th>dropoff_latitude</th>\n",
              "      <th>passenger_count</th>\n",
              "    </tr>\n",
              "  </thead>\n",
              "  <tbody>\n",
              "    <tr>\n",
              "      <th>count</th>\n",
              "      <td>16067.000000</td>\n",
              "      <td>16067.000000</td>\n",
              "      <td>16067.000000</td>\n",
              "      <td>16067.000000</td>\n",
              "      <td>16012.000000</td>\n",
              "    </tr>\n",
              "    <tr>\n",
              "      <th>mean</th>\n",
              "      <td>-72.462787</td>\n",
              "      <td>39.914725</td>\n",
              "      <td>-72.462328</td>\n",
              "      <td>39.897906</td>\n",
              "      <td>2.625070</td>\n",
              "    </tr>\n",
              "    <tr>\n",
              "      <th>std</th>\n",
              "      <td>10.578384</td>\n",
              "      <td>6.826587</td>\n",
              "      <td>10.575062</td>\n",
              "      <td>6.187087</td>\n",
              "      <td>60.844122</td>\n",
              "    </tr>\n",
              "    <tr>\n",
              "      <th>min</th>\n",
              "      <td>-74.438233</td>\n",
              "      <td>-74.006893</td>\n",
              "      <td>-74.429332</td>\n",
              "      <td>-74.006377</td>\n",
              "      <td>0.000000</td>\n",
              "    </tr>\n",
              "    <tr>\n",
              "      <th>25%</th>\n",
              "      <td>-73.992156</td>\n",
              "      <td>40.734927</td>\n",
              "      <td>-73.991182</td>\n",
              "      <td>40.734651</td>\n",
              "      <td>1.000000</td>\n",
              "    </tr>\n",
              "    <tr>\n",
              "      <th>50%</th>\n",
              "      <td>-73.981698</td>\n",
              "      <td>40.752603</td>\n",
              "      <td>-73.980172</td>\n",
              "      <td>40.753567</td>\n",
              "      <td>1.000000</td>\n",
              "    </tr>\n",
              "    <tr>\n",
              "      <th>75%</th>\n",
              "      <td>-73.966838</td>\n",
              "      <td>40.767381</td>\n",
              "      <td>-73.963643</td>\n",
              "      <td>40.768013</td>\n",
              "      <td>2.000000</td>\n",
              "    </tr>\n",
              "    <tr>\n",
              "      <th>max</th>\n",
              "      <td>40.766125</td>\n",
              "      <td>401.083332</td>\n",
              "      <td>40.802437</td>\n",
              "      <td>41.366138</td>\n",
              "      <td>5345.000000</td>\n",
              "    </tr>\n",
              "  </tbody>\n",
              "</table>\n",
              "</div>"
            ],
            "text/plain": [
              "       pickup_longitude  pickup_latitude  ...  dropoff_latitude  passenger_count\n",
              "count      16067.000000     16067.000000  ...      16067.000000     16012.000000\n",
              "mean         -72.462787        39.914725  ...         39.897906         2.625070\n",
              "std           10.578384         6.826587  ...          6.187087        60.844122\n",
              "min          -74.438233       -74.006893  ...        -74.006377         0.000000\n",
              "25%          -73.992156        40.734927  ...         40.734651         1.000000\n",
              "50%          -73.981698        40.752603  ...         40.753567         1.000000\n",
              "75%          -73.966838        40.767381  ...         40.768013         2.000000\n",
              "max           40.766125       401.083332  ...         41.366138      5345.000000\n",
              "\n",
              "[8 rows x 5 columns]"
            ]
          },
          "metadata": {
            "tags": []
          },
          "execution_count": 15
        }
      ]
    },
    {
      "cell_type": "code",
      "metadata": {
        "id": "HGbxBougkNdj",
        "colab_type": "code",
        "outputId": "ffc20129-e313-48c5-8187-7ceb77615a75",
        "colab": {
          "base_uri": "https://localhost:8080/",
          "height": 297
        }
      },
      "source": [
        "# Descriptive srtatistics of the testing set\n",
        "test.describe()"
      ],
      "execution_count": 16,
      "outputs": [
        {
          "output_type": "execute_result",
          "data": {
            "text/html": [
              "<div>\n",
              "<style scoped>\n",
              "    .dataframe tbody tr th:only-of-type {\n",
              "        vertical-align: middle;\n",
              "    }\n",
              "\n",
              "    .dataframe tbody tr th {\n",
              "        vertical-align: top;\n",
              "    }\n",
              "\n",
              "    .dataframe thead th {\n",
              "        text-align: right;\n",
              "    }\n",
              "</style>\n",
              "<table border=\"1\" class=\"dataframe\">\n",
              "  <thead>\n",
              "    <tr style=\"text-align: right;\">\n",
              "      <th></th>\n",
              "      <th>pickup_longitude</th>\n",
              "      <th>pickup_latitude</th>\n",
              "      <th>dropoff_longitude</th>\n",
              "      <th>dropoff_latitude</th>\n",
              "      <th>passenger_count</th>\n",
              "    </tr>\n",
              "  </thead>\n",
              "  <tbody>\n",
              "    <tr>\n",
              "      <th>count</th>\n",
              "      <td>9914.000000</td>\n",
              "      <td>9914.000000</td>\n",
              "      <td>9914.000000</td>\n",
              "      <td>9914.000000</td>\n",
              "      <td>9914.000000</td>\n",
              "    </tr>\n",
              "    <tr>\n",
              "      <th>mean</th>\n",
              "      <td>-73.974722</td>\n",
              "      <td>40.751041</td>\n",
              "      <td>-73.973657</td>\n",
              "      <td>40.751743</td>\n",
              "      <td>1.671273</td>\n",
              "    </tr>\n",
              "    <tr>\n",
              "      <th>std</th>\n",
              "      <td>0.042774</td>\n",
              "      <td>0.033541</td>\n",
              "      <td>0.039072</td>\n",
              "      <td>0.035435</td>\n",
              "      <td>1.278747</td>\n",
              "    </tr>\n",
              "    <tr>\n",
              "      <th>min</th>\n",
              "      <td>-74.252193</td>\n",
              "      <td>40.573143</td>\n",
              "      <td>-74.263242</td>\n",
              "      <td>40.568973</td>\n",
              "      <td>1.000000</td>\n",
              "    </tr>\n",
              "    <tr>\n",
              "      <th>25%</th>\n",
              "      <td>-73.992501</td>\n",
              "      <td>40.736125</td>\n",
              "      <td>-73.991247</td>\n",
              "      <td>40.735254</td>\n",
              "      <td>1.000000</td>\n",
              "    </tr>\n",
              "    <tr>\n",
              "      <th>50%</th>\n",
              "      <td>-73.982326</td>\n",
              "      <td>40.753051</td>\n",
              "      <td>-73.980015</td>\n",
              "      <td>40.754065</td>\n",
              "      <td>1.000000</td>\n",
              "    </tr>\n",
              "    <tr>\n",
              "      <th>75%</th>\n",
              "      <td>-73.968013</td>\n",
              "      <td>40.767113</td>\n",
              "      <td>-73.964059</td>\n",
              "      <td>40.768757</td>\n",
              "      <td>2.000000</td>\n",
              "    </tr>\n",
              "    <tr>\n",
              "      <th>max</th>\n",
              "      <td>-72.986532</td>\n",
              "      <td>41.709555</td>\n",
              "      <td>-72.990963</td>\n",
              "      <td>41.696683</td>\n",
              "      <td>6.000000</td>\n",
              "    </tr>\n",
              "  </tbody>\n",
              "</table>\n",
              "</div>"
            ],
            "text/plain": [
              "       pickup_longitude  pickup_latitude  ...  dropoff_latitude  passenger_count\n",
              "count       9914.000000      9914.000000  ...       9914.000000      9914.000000\n",
              "mean         -73.974722        40.751041  ...         40.751743         1.671273\n",
              "std            0.042774         0.033541  ...          0.035435         1.278747\n",
              "min          -74.252193        40.573143  ...         40.568973         1.000000\n",
              "25%          -73.992501        40.736125  ...         40.735254         1.000000\n",
              "50%          -73.982326        40.753051  ...         40.754065         1.000000\n",
              "75%          -73.968013        40.767113  ...         40.768757         2.000000\n",
              "max          -72.986532        41.709555  ...         41.696683         6.000000\n",
              "\n",
              "[8 rows x 5 columns]"
            ]
          },
          "metadata": {
            "tags": []
          },
          "execution_count": 16
        }
      ]
    },
    {
      "cell_type": "markdown",
      "metadata": {
        "id": "6KW90YAvnzOc",
        "colab_type": "text"
      },
      "source": [
        "## Cleaning the data"
      ]
    },
    {
      "cell_type": "code",
      "metadata": {
        "id": "hQfMv1Vvy79p",
        "colab_type": "code",
        "outputId": "aebd9ebf-8169-4a45-b946-5d0b330e19b6",
        "colab": {
          "base_uri": "https://localhost:8080/",
          "height": 513
        }
      },
      "source": [
        "# Converting the pickup date time column to datime format\n",
        "train['pickup_datetime'] =  pd.to_datetime(train['pickup_datetime'], format='%Y-%m-%d %H:%M:%S UTC')"
      ],
      "execution_count": 17,
      "outputs": [
        {
          "output_type": "error",
          "ename": "ValueError",
          "evalue": "ignored",
          "traceback": [
            "\u001b[0;31m---------------------------------------------------------------------------\u001b[0m",
            "\u001b[0;31mTypeError\u001b[0m                                 Traceback (most recent call last)",
            "\u001b[0;32m/usr/local/lib/python3.6/dist-packages/pandas/core/tools/datetimes.py\u001b[0m in \u001b[0;36m_convert_listlike_datetimes\u001b[0;34m(arg, box, format, name, tz, unit, errors, infer_datetime_format, dayfirst, yearfirst, exact)\u001b[0m\n\u001b[1;32m    447\u001b[0m             \u001b[0;32mtry\u001b[0m\u001b[0;34m:\u001b[0m\u001b[0;34m\u001b[0m\u001b[0;34m\u001b[0m\u001b[0m\n\u001b[0;32m--> 448\u001b[0;31m                 \u001b[0mvalues\u001b[0m\u001b[0;34m,\u001b[0m \u001b[0mtz\u001b[0m \u001b[0;34m=\u001b[0m \u001b[0mconversion\u001b[0m\u001b[0;34m.\u001b[0m\u001b[0mdatetime_to_datetime64\u001b[0m\u001b[0;34m(\u001b[0m\u001b[0marg\u001b[0m\u001b[0;34m)\u001b[0m\u001b[0;34m\u001b[0m\u001b[0;34m\u001b[0m\u001b[0m\n\u001b[0m\u001b[1;32m    449\u001b[0m                 \u001b[0;32mreturn\u001b[0m \u001b[0mDatetimeIndex\u001b[0m\u001b[0;34m.\u001b[0m\u001b[0m_simple_new\u001b[0m\u001b[0;34m(\u001b[0m\u001b[0mvalues\u001b[0m\u001b[0;34m,\u001b[0m \u001b[0mname\u001b[0m\u001b[0;34m=\u001b[0m\u001b[0mname\u001b[0m\u001b[0;34m,\u001b[0m \u001b[0mtz\u001b[0m\u001b[0;34m=\u001b[0m\u001b[0mtz\u001b[0m\u001b[0;34m)\u001b[0m\u001b[0;34m\u001b[0m\u001b[0;34m\u001b[0m\u001b[0m\n",
            "\u001b[0;32mpandas/_libs/tslibs/conversion.pyx\u001b[0m in \u001b[0;36mpandas._libs.tslibs.conversion.datetime_to_datetime64\u001b[0;34m()\u001b[0m\n",
            "\u001b[0;31mTypeError\u001b[0m: Unrecognized value type: <class 'str'>",
            "\nDuring handling of the above exception, another exception occurred:\n",
            "\u001b[0;31mValueError\u001b[0m                                Traceback (most recent call last)",
            "\u001b[0;32m<ipython-input-17-655a2681d6d4>\u001b[0m in \u001b[0;36m<module>\u001b[0;34m()\u001b[0m\n\u001b[0;32m----> 1\u001b[0;31m \u001b[0mtrain\u001b[0m\u001b[0;34m[\u001b[0m\u001b[0;34m'pickup_datetime'\u001b[0m\u001b[0;34m]\u001b[0m \u001b[0;34m=\u001b[0m  \u001b[0mpd\u001b[0m\u001b[0;34m.\u001b[0m\u001b[0mto_datetime\u001b[0m\u001b[0;34m(\u001b[0m\u001b[0mtrain\u001b[0m\u001b[0;34m[\u001b[0m\u001b[0;34m'pickup_datetime'\u001b[0m\u001b[0;34m]\u001b[0m\u001b[0;34m,\u001b[0m \u001b[0mformat\u001b[0m\u001b[0;34m=\u001b[0m\u001b[0;34m'%Y-%m-%d %H:%M:%S UTC'\u001b[0m\u001b[0;34m)\u001b[0m\u001b[0;34m\u001b[0m\u001b[0;34m\u001b[0m\u001b[0m\n\u001b[0m",
            "\u001b[0;32m/usr/local/lib/python3.6/dist-packages/pandas/util/_decorators.py\u001b[0m in \u001b[0;36mwrapper\u001b[0;34m(*args, **kwargs)\u001b[0m\n\u001b[1;32m    206\u001b[0m                 \u001b[0;32melse\u001b[0m\u001b[0;34m:\u001b[0m\u001b[0;34m\u001b[0m\u001b[0;34m\u001b[0m\u001b[0m\n\u001b[1;32m    207\u001b[0m                     \u001b[0mkwargs\u001b[0m\u001b[0;34m[\u001b[0m\u001b[0mnew_arg_name\u001b[0m\u001b[0;34m]\u001b[0m \u001b[0;34m=\u001b[0m \u001b[0mnew_arg_value\u001b[0m\u001b[0;34m\u001b[0m\u001b[0;34m\u001b[0m\u001b[0m\n\u001b[0;32m--> 208\u001b[0;31m             \u001b[0;32mreturn\u001b[0m \u001b[0mfunc\u001b[0m\u001b[0;34m(\u001b[0m\u001b[0;34m*\u001b[0m\u001b[0margs\u001b[0m\u001b[0;34m,\u001b[0m \u001b[0;34m**\u001b[0m\u001b[0mkwargs\u001b[0m\u001b[0;34m)\u001b[0m\u001b[0;34m\u001b[0m\u001b[0;34m\u001b[0m\u001b[0m\n\u001b[0m\u001b[1;32m    209\u001b[0m \u001b[0;34m\u001b[0m\u001b[0m\n\u001b[1;32m    210\u001b[0m         \u001b[0;32mreturn\u001b[0m \u001b[0mwrapper\u001b[0m\u001b[0;34m\u001b[0m\u001b[0;34m\u001b[0m\u001b[0m\n",
            "\u001b[0;32m/usr/local/lib/python3.6/dist-packages/pandas/core/tools/datetimes.py\u001b[0m in \u001b[0;36mto_datetime\u001b[0;34m(arg, errors, dayfirst, yearfirst, utc, box, format, exact, unit, infer_datetime_format, origin, cache)\u001b[0m\n\u001b[1;32m    776\u001b[0m             \u001b[0mresult\u001b[0m \u001b[0;34m=\u001b[0m \u001b[0marg\u001b[0m\u001b[0;34m.\u001b[0m\u001b[0mmap\u001b[0m\u001b[0;34m(\u001b[0m\u001b[0mcache_array\u001b[0m\u001b[0;34m)\u001b[0m\u001b[0;34m\u001b[0m\u001b[0;34m\u001b[0m\u001b[0m\n\u001b[1;32m    777\u001b[0m         \u001b[0;32melse\u001b[0m\u001b[0;34m:\u001b[0m\u001b[0;34m\u001b[0m\u001b[0;34m\u001b[0m\u001b[0m\n\u001b[0;32m--> 778\u001b[0;31m             \u001b[0mvalues\u001b[0m \u001b[0;34m=\u001b[0m \u001b[0mconvert_listlike\u001b[0m\u001b[0;34m(\u001b[0m\u001b[0marg\u001b[0m\u001b[0;34m.\u001b[0m\u001b[0m_values\u001b[0m\u001b[0;34m,\u001b[0m \u001b[0;32mTrue\u001b[0m\u001b[0;34m,\u001b[0m \u001b[0mformat\u001b[0m\u001b[0;34m)\u001b[0m\u001b[0;34m\u001b[0m\u001b[0;34m\u001b[0m\u001b[0m\n\u001b[0m\u001b[1;32m    779\u001b[0m             \u001b[0mresult\u001b[0m \u001b[0;34m=\u001b[0m \u001b[0marg\u001b[0m\u001b[0;34m.\u001b[0m\u001b[0m_constructor\u001b[0m\u001b[0;34m(\u001b[0m\u001b[0mvalues\u001b[0m\u001b[0;34m,\u001b[0m \u001b[0mindex\u001b[0m\u001b[0;34m=\u001b[0m\u001b[0marg\u001b[0m\u001b[0;34m.\u001b[0m\u001b[0mindex\u001b[0m\u001b[0;34m,\u001b[0m \u001b[0mname\u001b[0m\u001b[0;34m=\u001b[0m\u001b[0marg\u001b[0m\u001b[0;34m.\u001b[0m\u001b[0mname\u001b[0m\u001b[0;34m)\u001b[0m\u001b[0;34m\u001b[0m\u001b[0;34m\u001b[0m\u001b[0m\n\u001b[1;32m    780\u001b[0m     \u001b[0;32melif\u001b[0m \u001b[0misinstance\u001b[0m\u001b[0;34m(\u001b[0m\u001b[0marg\u001b[0m\u001b[0;34m,\u001b[0m \u001b[0;34m(\u001b[0m\u001b[0mABCDataFrame\u001b[0m\u001b[0;34m,\u001b[0m \u001b[0mabc\u001b[0m\u001b[0;34m.\u001b[0m\u001b[0mMutableMapping\u001b[0m\u001b[0;34m)\u001b[0m\u001b[0;34m)\u001b[0m\u001b[0;34m:\u001b[0m\u001b[0;34m\u001b[0m\u001b[0;34m\u001b[0m\u001b[0m\n",
            "\u001b[0;32m/usr/local/lib/python3.6/dist-packages/pandas/core/tools/datetimes.py\u001b[0m in \u001b[0;36m_convert_listlike_datetimes\u001b[0;34m(arg, box, format, name, tz, unit, errors, infer_datetime_format, dayfirst, yearfirst, exact)\u001b[0m\n\u001b[1;32m    449\u001b[0m                 \u001b[0;32mreturn\u001b[0m \u001b[0mDatetimeIndex\u001b[0m\u001b[0;34m.\u001b[0m\u001b[0m_simple_new\u001b[0m\u001b[0;34m(\u001b[0m\u001b[0mvalues\u001b[0m\u001b[0;34m,\u001b[0m \u001b[0mname\u001b[0m\u001b[0;34m=\u001b[0m\u001b[0mname\u001b[0m\u001b[0;34m,\u001b[0m \u001b[0mtz\u001b[0m\u001b[0;34m=\u001b[0m\u001b[0mtz\u001b[0m\u001b[0;34m)\u001b[0m\u001b[0;34m\u001b[0m\u001b[0;34m\u001b[0m\u001b[0m\n\u001b[1;32m    450\u001b[0m             \u001b[0;32mexcept\u001b[0m \u001b[0;34m(\u001b[0m\u001b[0mValueError\u001b[0m\u001b[0;34m,\u001b[0m \u001b[0mTypeError\u001b[0m\u001b[0;34m)\u001b[0m\u001b[0;34m:\u001b[0m\u001b[0;34m\u001b[0m\u001b[0;34m\u001b[0m\u001b[0m\n\u001b[0;32m--> 451\u001b[0;31m                 \u001b[0;32mraise\u001b[0m \u001b[0me\u001b[0m\u001b[0;34m\u001b[0m\u001b[0;34m\u001b[0m\u001b[0m\n\u001b[0m\u001b[1;32m    452\u001b[0m \u001b[0;34m\u001b[0m\u001b[0m\n\u001b[1;32m    453\u001b[0m     \u001b[0;32mif\u001b[0m \u001b[0mresult\u001b[0m \u001b[0;32mis\u001b[0m \u001b[0;32mNone\u001b[0m\u001b[0;34m:\u001b[0m\u001b[0;34m\u001b[0m\u001b[0;34m\u001b[0m\u001b[0m\n",
            "\u001b[0;32m/usr/local/lib/python3.6/dist-packages/pandas/core/tools/datetimes.py\u001b[0m in \u001b[0;36m_convert_listlike_datetimes\u001b[0;34m(arg, box, format, name, tz, unit, errors, infer_datetime_format, dayfirst, yearfirst, exact)\u001b[0m\n\u001b[1;32m    414\u001b[0m                 \u001b[0;32mtry\u001b[0m\u001b[0;34m:\u001b[0m\u001b[0;34m\u001b[0m\u001b[0;34m\u001b[0m\u001b[0m\n\u001b[1;32m    415\u001b[0m                     result, timezones = array_strptime(\n\u001b[0;32m--> 416\u001b[0;31m                         \u001b[0marg\u001b[0m\u001b[0;34m,\u001b[0m \u001b[0mformat\u001b[0m\u001b[0;34m,\u001b[0m \u001b[0mexact\u001b[0m\u001b[0;34m=\u001b[0m\u001b[0mexact\u001b[0m\u001b[0;34m,\u001b[0m \u001b[0merrors\u001b[0m\u001b[0;34m=\u001b[0m\u001b[0merrors\u001b[0m\u001b[0;34m\u001b[0m\u001b[0;34m\u001b[0m\u001b[0m\n\u001b[0m\u001b[1;32m    417\u001b[0m                     )\n\u001b[1;32m    418\u001b[0m                     \u001b[0;32mif\u001b[0m \u001b[0;34m\"%Z\"\u001b[0m \u001b[0;32min\u001b[0m \u001b[0mformat\u001b[0m \u001b[0;32mor\u001b[0m \u001b[0;34m\"%z\"\u001b[0m \u001b[0;32min\u001b[0m \u001b[0mformat\u001b[0m\u001b[0;34m:\u001b[0m\u001b[0;34m\u001b[0m\u001b[0;34m\u001b[0m\u001b[0m\n",
            "\u001b[0;32mpandas/_libs/tslibs/strptime.pyx\u001b[0m in \u001b[0;36mpandas._libs.tslibs.strptime.array_strptime\u001b[0;34m()\u001b[0m\n",
            "\u001b[0;31mValueError\u001b[0m: time data '43' does not match format '%Y-%m-%d %H:%M:%S UTC' (match)"
          ]
        }
      ]
    },
    {
      "cell_type": "markdown",
      "metadata": {
        "id": "Idg70k3EnAHk",
        "colab_type": "text"
      },
      "source": [
        "> It is evident from the above that the pickup_datetime column contains 43 which is not in date time format,also it is not possible to impute a date time column so we are dropping that particular record from the dataset."
      ]
    },
    {
      "cell_type": "code",
      "metadata": {
        "id": "gc98faH8kY2t",
        "colab_type": "code",
        "colab": {}
      },
      "source": [
        "# Doing the same operation for testing set\n",
        "test['pickup_datetime'] =  pd.to_datetime(test['pickup_datetime'], format='%Y-%m-%d %H:%M:%S UTC')"
      ],
      "execution_count": 0,
      "outputs": []
    },
    {
      "cell_type": "code",
      "metadata": {
        "id": "YarsHhua05yx",
        "colab_type": "code",
        "outputId": "30937afe-e7af-42f5-b599-6cce4e7c7854",
        "colab": {
          "base_uri": "https://localhost:8080/",
          "height": 80
        }
      },
      "source": [
        "train[train['pickup_datetime']=='43']"
      ],
      "execution_count": 19,
      "outputs": [
        {
          "output_type": "execute_result",
          "data": {
            "text/html": [
              "<div>\n",
              "<style scoped>\n",
              "    .dataframe tbody tr th:only-of-type {\n",
              "        vertical-align: middle;\n",
              "    }\n",
              "\n",
              "    .dataframe tbody tr th {\n",
              "        vertical-align: top;\n",
              "    }\n",
              "\n",
              "    .dataframe thead th {\n",
              "        text-align: right;\n",
              "    }\n",
              "</style>\n",
              "<table border=\"1\" class=\"dataframe\">\n",
              "  <thead>\n",
              "    <tr style=\"text-align: right;\">\n",
              "      <th></th>\n",
              "      <th>fare_amount</th>\n",
              "      <th>pickup_datetime</th>\n",
              "      <th>pickup_longitude</th>\n",
              "      <th>pickup_latitude</th>\n",
              "      <th>dropoff_longitude</th>\n",
              "      <th>dropoff_latitude</th>\n",
              "      <th>passenger_count</th>\n",
              "    </tr>\n",
              "  </thead>\n",
              "  <tbody>\n",
              "    <tr>\n",
              "      <th>1327</th>\n",
              "      <td>11.5</td>\n",
              "      <td>43</td>\n",
              "      <td>-73.981947</td>\n",
              "      <td>40.7282</td>\n",
              "      <td>-73.988582</td>\n",
              "      <td>40.759202</td>\n",
              "      <td>1.0</td>\n",
              "    </tr>\n",
              "  </tbody>\n",
              "</table>\n",
              "</div>"
            ],
            "text/plain": [
              "     fare_amount pickup_datetime  ...  dropoff_latitude  passenger_count\n",
              "1327        11.5              43  ...         40.759202              1.0\n",
              "\n",
              "[1 rows x 7 columns]"
            ]
          },
          "metadata": {
            "tags": []
          },
          "execution_count": 19
        }
      ]
    },
    {
      "cell_type": "code",
      "metadata": {
        "id": "MEUQ40RnuAjy",
        "colab_type": "code",
        "colab": {}
      },
      "source": [
        "# Removing the above row from the data set.\n",
        "train.drop(index=1327,axis=0,inplace=True)"
      ],
      "execution_count": 0,
      "outputs": []
    },
    {
      "cell_type": "code",
      "metadata": {
        "id": "o6tNGaO7uNpg",
        "colab_type": "code",
        "outputId": "0493afa1-2b3d-4e99-a4e6-fb112f1735d5",
        "colab": {
          "base_uri": "https://localhost:8080/",
          "height": 221
        }
      },
      "source": [
        "# checking for the above operation\n",
        "train.info()"
      ],
      "execution_count": 21,
      "outputs": [
        {
          "output_type": "stream",
          "text": [
            "<class 'pandas.core.frame.DataFrame'>\n",
            "Int64Index: 16066 entries, 0 to 16066\n",
            "Data columns (total 7 columns):\n",
            "fare_amount          16042 non-null object\n",
            "pickup_datetime      16066 non-null object\n",
            "pickup_longitude     16066 non-null float64\n",
            "pickup_latitude      16066 non-null float64\n",
            "dropoff_longitude    16066 non-null float64\n",
            "dropoff_latitude     16066 non-null float64\n",
            "passenger_count      16011 non-null float64\n",
            "dtypes: float64(5), object(2)\n",
            "memory usage: 1004.1+ KB\n"
          ],
          "name": "stdout"
        }
      ]
    },
    {
      "cell_type": "code",
      "metadata": {
        "id": "TjrfrKcUDkmw",
        "colab_type": "code",
        "colab": {}
      },
      "source": [
        "# Resetting the index number for training set and dropping the index column simultaneously\n",
        "train=train.reset_index()\n",
        "train=train.drop(['index'],axis=1)"
      ],
      "execution_count": 0,
      "outputs": []
    },
    {
      "cell_type": "code",
      "metadata": {
        "id": "2LpQLg6uxMii",
        "colab_type": "code",
        "outputId": "864c2612-e648-4b7c-bfe2-ab5760c78529",
        "colab": {
          "base_uri": "https://localhost:8080/",
          "height": 221
        }
      },
      "source": [
        "# Checking for the above operation\n",
        "train.info()"
      ],
      "execution_count": 23,
      "outputs": [
        {
          "output_type": "stream",
          "text": [
            "<class 'pandas.core.frame.DataFrame'>\n",
            "RangeIndex: 16066 entries, 0 to 16065\n",
            "Data columns (total 7 columns):\n",
            "fare_amount          16042 non-null object\n",
            "pickup_datetime      16066 non-null object\n",
            "pickup_longitude     16066 non-null float64\n",
            "pickup_latitude      16066 non-null float64\n",
            "dropoff_longitude    16066 non-null float64\n",
            "dropoff_latitude     16066 non-null float64\n",
            "passenger_count      16011 non-null float64\n",
            "dtypes: float64(5), object(2)\n",
            "memory usage: 878.7+ KB\n"
          ],
          "name": "stdout"
        }
      ]
    },
    {
      "cell_type": "code",
      "metadata": {
        "id": "Bx5d1wnYxsTz",
        "colab_type": "code",
        "colab": {}
      },
      "source": [
        "# Converting the fare_amount column to numeric type with removing all the characters in that column.\n",
        "train[\"fare_amount\"] = pd.to_numeric(train[\"fare_amount\"],errors = \"coerce\")"
      ],
      "execution_count": 0,
      "outputs": []
    },
    {
      "cell_type": "code",
      "metadata": {
        "id": "-qr_XSwsuxcI",
        "colab_type": "code",
        "outputId": "05212cb3-bacf-4d90-b12c-5acad5bdaf4f",
        "colab": {
          "base_uri": "https://localhost:8080/",
          "height": 221
        }
      },
      "source": [
        "# Checking for the above operation\n",
        "train.info()"
      ],
      "execution_count": 25,
      "outputs": [
        {
          "output_type": "stream",
          "text": [
            "<class 'pandas.core.frame.DataFrame'>\n",
            "RangeIndex: 16066 entries, 0 to 16065\n",
            "Data columns (total 7 columns):\n",
            "fare_amount          16041 non-null float64\n",
            "pickup_datetime      16066 non-null object\n",
            "pickup_longitude     16066 non-null float64\n",
            "pickup_latitude      16066 non-null float64\n",
            "dropoff_longitude    16066 non-null float64\n",
            "dropoff_latitude     16066 non-null float64\n",
            "passenger_count      16011 non-null float64\n",
            "dtypes: float64(6), object(1)\n",
            "memory usage: 878.7+ KB\n"
          ],
          "name": "stdout"
        }
      ]
    },
    {
      "cell_type": "code",
      "metadata": {
        "id": "RosaMya6vDF0",
        "colab_type": "code",
        "outputId": "72d47999-2bed-4e8f-dd58-5bcda697e07c",
        "colab": {
          "base_uri": "https://localhost:8080/",
          "height": 297
        }
      },
      "source": [
        "train.describe()"
      ],
      "execution_count": 26,
      "outputs": [
        {
          "output_type": "execute_result",
          "data": {
            "text/html": [
              "<div>\n",
              "<style scoped>\n",
              "    .dataframe tbody tr th:only-of-type {\n",
              "        vertical-align: middle;\n",
              "    }\n",
              "\n",
              "    .dataframe tbody tr th {\n",
              "        vertical-align: top;\n",
              "    }\n",
              "\n",
              "    .dataframe thead th {\n",
              "        text-align: right;\n",
              "    }\n",
              "</style>\n",
              "<table border=\"1\" class=\"dataframe\">\n",
              "  <thead>\n",
              "    <tr style=\"text-align: right;\">\n",
              "      <th></th>\n",
              "      <th>fare_amount</th>\n",
              "      <th>pickup_longitude</th>\n",
              "      <th>pickup_latitude</th>\n",
              "      <th>dropoff_longitude</th>\n",
              "      <th>dropoff_latitude</th>\n",
              "      <th>passenger_count</th>\n",
              "    </tr>\n",
              "  </thead>\n",
              "  <tbody>\n",
              "    <tr>\n",
              "      <th>count</th>\n",
              "      <td>16041.000000</td>\n",
              "      <td>16066.000000</td>\n",
              "      <td>16066.000000</td>\n",
              "      <td>16066.000000</td>\n",
              "      <td>16066.000000</td>\n",
              "      <td>16011.000000</td>\n",
              "    </tr>\n",
              "    <tr>\n",
              "      <th>mean</th>\n",
              "      <td>15.015223</td>\n",
              "      <td>-72.462693</td>\n",
              "      <td>39.914675</td>\n",
              "      <td>-72.462233</td>\n",
              "      <td>39.897852</td>\n",
              "      <td>2.625171</td>\n",
              "    </tr>\n",
              "    <tr>\n",
              "      <th>std</th>\n",
              "      <td>430.474362</td>\n",
              "      <td>10.578707</td>\n",
              "      <td>6.826797</td>\n",
              "      <td>10.575384</td>\n",
              "      <td>6.187276</td>\n",
              "      <td>60.846021</td>\n",
              "    </tr>\n",
              "    <tr>\n",
              "      <th>min</th>\n",
              "      <td>-3.000000</td>\n",
              "      <td>-74.438233</td>\n",
              "      <td>-74.006893</td>\n",
              "      <td>-74.429332</td>\n",
              "      <td>-74.006377</td>\n",
              "      <td>0.000000</td>\n",
              "    </tr>\n",
              "    <tr>\n",
              "      <th>25%</th>\n",
              "      <td>6.000000</td>\n",
              "      <td>-73.992156</td>\n",
              "      <td>40.734935</td>\n",
              "      <td>-73.991182</td>\n",
              "      <td>40.734647</td>\n",
              "      <td>1.000000</td>\n",
              "    </tr>\n",
              "    <tr>\n",
              "      <th>50%</th>\n",
              "      <td>8.500000</td>\n",
              "      <td>-73.981697</td>\n",
              "      <td>40.752605</td>\n",
              "      <td>-73.980170</td>\n",
              "      <td>40.753566</td>\n",
              "      <td>1.000000</td>\n",
              "    </tr>\n",
              "    <tr>\n",
              "      <th>75%</th>\n",
              "      <td>12.500000</td>\n",
              "      <td>-73.966837</td>\n",
              "      <td>40.767381</td>\n",
              "      <td>-73.963642</td>\n",
              "      <td>40.768015</td>\n",
              "      <td>2.000000</td>\n",
              "    </tr>\n",
              "    <tr>\n",
              "      <th>max</th>\n",
              "      <td>54343.000000</td>\n",
              "      <td>40.766125</td>\n",
              "      <td>401.083332</td>\n",
              "      <td>40.802437</td>\n",
              "      <td>41.366138</td>\n",
              "      <td>5345.000000</td>\n",
              "    </tr>\n",
              "  </tbody>\n",
              "</table>\n",
              "</div>"
            ],
            "text/plain": [
              "        fare_amount  pickup_longitude  ...  dropoff_latitude  passenger_count\n",
              "count  16041.000000      16066.000000  ...      16066.000000     16011.000000\n",
              "mean      15.015223        -72.462693  ...         39.897852         2.625171\n",
              "std      430.474362         10.578707  ...          6.187276        60.846021\n",
              "min       -3.000000        -74.438233  ...        -74.006377         0.000000\n",
              "25%        6.000000        -73.992156  ...         40.734647         1.000000\n",
              "50%        8.500000        -73.981697  ...         40.753566         1.000000\n",
              "75%       12.500000        -73.966837  ...         40.768015         2.000000\n",
              "max    54343.000000         40.766125  ...         41.366138      5345.000000\n",
              "\n",
              "[8 rows x 6 columns]"
            ]
          },
          "metadata": {
            "tags": []
          },
          "execution_count": 26
        }
      ]
    },
    {
      "cell_type": "code",
      "metadata": {
        "id": "EyWV_rya3Qss",
        "colab_type": "code",
        "colab": {}
      },
      "source": [
        "# From the descriptive statistics it is clear that maximum value of latitude is exceeding 90 which is not possible so removing all the records having maximum value greater than 90.  \n",
        "train = train.drop((train[train['pickup_latitude']>90]).index, axis=0)"
      ],
      "execution_count": 0,
      "outputs": []
    },
    {
      "cell_type": "code",
      "metadata": {
        "id": "Wr8GEpvl3zot",
        "colab_type": "code",
        "colab": {}
      },
      "source": [
        "# Resetting the row index\n",
        "train=train.reset_index(drop=True)"
      ],
      "execution_count": 0,
      "outputs": []
    },
    {
      "cell_type": "code",
      "metadata": {
        "id": "bXH_AYaowfy2",
        "colab_type": "code",
        "colab": {}
      },
      "source": [
        "# Dropping all records containing more than 6 passengers as more than five passengers are not possible in a cab\n",
        "train = train.drop((train[train['passenger_count']>6]).index, axis=0)"
      ],
      "execution_count": 0,
      "outputs": []
    },
    {
      "cell_type": "code",
      "metadata": {
        "id": "VuaoFUNXw0DL",
        "colab_type": "code",
        "colab": {}
      },
      "source": [
        "# Resetting the row index for training set.\n",
        "train=train.reset_index(drop=True)"
      ],
      "execution_count": 0,
      "outputs": []
    },
    {
      "cell_type": "code",
      "metadata": {
        "id": "y5I0VJTF7Fez",
        "colab_type": "code",
        "colab": {}
      },
      "source": [
        "# Dropping all records containing 0 passengers as zero passengers are not possible in a cab in a ride\n",
        "train = train.drop((train[train['passenger_count']==0]).index, axis=0)"
      ],
      "execution_count": 0,
      "outputs": []
    },
    {
      "cell_type": "code",
      "metadata": {
        "id": "TMmAVucg7FZH",
        "colab_type": "code",
        "colab": {}
      },
      "source": [
        "# Resetting the row index for training set.\n",
        "train=train.reset_index(drop=True)"
      ],
      "execution_count": 0,
      "outputs": []
    },
    {
      "cell_type": "code",
      "metadata": {
        "id": "hcMjdNAnS4WQ",
        "colab_type": "code",
        "colab": {}
      },
      "source": [
        "# Dropping all records containing containing negative fareamount which is not possible.\n",
        "train = train.drop((train[train['fare_amount']<0]).index, axis=0)"
      ],
      "execution_count": 0,
      "outputs": []
    },
    {
      "cell_type": "code",
      "metadata": {
        "id": "NGu692PES4Q0",
        "colab_type": "code",
        "colab": {}
      },
      "source": [
        "# Resetting the row index for training set.\n",
        "train=train.reset_index(drop=True)"
      ],
      "execution_count": 0,
      "outputs": []
    },
    {
      "cell_type": "code",
      "metadata": {
        "id": "aJqDqHndTSC7",
        "colab_type": "code",
        "outputId": "0bf9051f-4d50-49c9-e392-1c51f0f9104e",
        "colab": {
          "base_uri": "https://localhost:8080/",
          "height": 297
        }
      },
      "source": [
        "train.describe()"
      ],
      "execution_count": 35,
      "outputs": [
        {
          "output_type": "execute_result",
          "data": {
            "text/html": [
              "<div>\n",
              "<style scoped>\n",
              "    .dataframe tbody tr th:only-of-type {\n",
              "        vertical-align: middle;\n",
              "    }\n",
              "\n",
              "    .dataframe tbody tr th {\n",
              "        vertical-align: top;\n",
              "    }\n",
              "\n",
              "    .dataframe thead th {\n",
              "        text-align: right;\n",
              "    }\n",
              "</style>\n",
              "<table border=\"1\" class=\"dataframe\">\n",
              "  <thead>\n",
              "    <tr style=\"text-align: right;\">\n",
              "      <th></th>\n",
              "      <th>fare_amount</th>\n",
              "      <th>pickup_longitude</th>\n",
              "      <th>pickup_latitude</th>\n",
              "      <th>dropoff_longitude</th>\n",
              "      <th>dropoff_latitude</th>\n",
              "      <th>passenger_count</th>\n",
              "    </tr>\n",
              "  </thead>\n",
              "  <tbody>\n",
              "    <tr>\n",
              "      <th>count</th>\n",
              "      <td>15961.000000</td>\n",
              "      <td>15985.000000</td>\n",
              "      <td>15985.000000</td>\n",
              "      <td>15985.000000</td>\n",
              "      <td>15985.000000</td>\n",
              "      <td>15930.000000</td>\n",
              "    </tr>\n",
              "    <tr>\n",
              "      <th>mean</th>\n",
              "      <td>15.048142</td>\n",
              "      <td>-72.473549</td>\n",
              "      <td>39.898117</td>\n",
              "      <td>-72.463841</td>\n",
              "      <td>39.898642</td>\n",
              "      <td>1.649556</td>\n",
              "    </tr>\n",
              "    <tr>\n",
              "      <th>std</th>\n",
              "      <td>431.551446</td>\n",
              "      <td>10.542817</td>\n",
              "      <td>6.186941</td>\n",
              "      <td>10.570583</td>\n",
              "      <td>6.186568</td>\n",
              "      <td>1.265934</td>\n",
              "    </tr>\n",
              "    <tr>\n",
              "      <th>min</th>\n",
              "      <td>0.000000</td>\n",
              "      <td>-74.438233</td>\n",
              "      <td>-74.006893</td>\n",
              "      <td>-74.429332</td>\n",
              "      <td>-74.006377</td>\n",
              "      <td>0.120000</td>\n",
              "    </tr>\n",
              "    <tr>\n",
              "      <th>25%</th>\n",
              "      <td>6.000000</td>\n",
              "      <td>-73.992157</td>\n",
              "      <td>40.734945</td>\n",
              "      <td>-73.991182</td>\n",
              "      <td>40.734700</td>\n",
              "      <td>1.000000</td>\n",
              "    </tr>\n",
              "    <tr>\n",
              "      <th>50%</th>\n",
              "      <td>8.500000</td>\n",
              "      <td>-73.981696</td>\n",
              "      <td>40.752633</td>\n",
              "      <td>-73.980167</td>\n",
              "      <td>40.753577</td>\n",
              "      <td>1.000000</td>\n",
              "    </tr>\n",
              "    <tr>\n",
              "      <th>75%</th>\n",
              "      <td>12.500000</td>\n",
              "      <td>-73.966835</td>\n",
              "      <td>40.767392</td>\n",
              "      <td>-73.963643</td>\n",
              "      <td>40.768026</td>\n",
              "      <td>2.000000</td>\n",
              "    </tr>\n",
              "    <tr>\n",
              "      <th>max</th>\n",
              "      <td>54343.000000</td>\n",
              "      <td>40.766125</td>\n",
              "      <td>41.366138</td>\n",
              "      <td>40.802437</td>\n",
              "      <td>41.366138</td>\n",
              "      <td>6.000000</td>\n",
              "    </tr>\n",
              "  </tbody>\n",
              "</table>\n",
              "</div>"
            ],
            "text/plain": [
              "        fare_amount  pickup_longitude  ...  dropoff_latitude  passenger_count\n",
              "count  15961.000000      15985.000000  ...      15985.000000     15930.000000\n",
              "mean      15.048142        -72.473549  ...         39.898642         1.649556\n",
              "std      431.551446         10.542817  ...          6.186568         1.265934\n",
              "min        0.000000        -74.438233  ...        -74.006377         0.120000\n",
              "25%        6.000000        -73.992157  ...         40.734700         1.000000\n",
              "50%        8.500000        -73.981696  ...         40.753577         1.000000\n",
              "75%       12.500000        -73.966835  ...         40.768026         2.000000\n",
              "max    54343.000000         40.766125  ...         41.366138         6.000000\n",
              "\n",
              "[8 rows x 6 columns]"
            ]
          },
          "metadata": {
            "tags": []
          },
          "execution_count": 35
        }
      ]
    },
    {
      "cell_type": "code",
      "metadata": {
        "id": "1PLoMspA7Z91",
        "colab_type": "code",
        "outputId": "b9d3fb41-14ea-471f-91e6-69c05ce07ad6",
        "colab": {
          "base_uri": "https://localhost:8080/",
          "height": 221
        }
      },
      "source": [
        "# Checking for above operations\n",
        "train.info()"
      ],
      "execution_count": 36,
      "outputs": [
        {
          "output_type": "stream",
          "text": [
            "<class 'pandas.core.frame.DataFrame'>\n",
            "RangeIndex: 15985 entries, 0 to 15984\n",
            "Data columns (total 7 columns):\n",
            "fare_amount          15961 non-null float64\n",
            "pickup_datetime      15985 non-null object\n",
            "pickup_longitude     15985 non-null float64\n",
            "pickup_latitude      15985 non-null float64\n",
            "dropoff_longitude    15985 non-null float64\n",
            "dropoff_latitude     15985 non-null float64\n",
            "passenger_count      15930 non-null float64\n",
            "dtypes: float64(6), object(1)\n",
            "memory usage: 874.3+ KB\n"
          ],
          "name": "stdout"
        }
      ]
    },
    {
      "cell_type": "markdown",
      "metadata": {
        "id": "6_Opr9Jlos8j",
        "colab_type": "text"
      },
      "source": [
        "> Missing Value Analysis"
      ]
    },
    {
      "cell_type": "code",
      "metadata": {
        "id": "0CKDEX9Cv3KH",
        "colab_type": "code",
        "colab": {}
      },
      "source": [
        "# Creating a list of continuous variables having null values\n",
        "miss_val=['fare_amount','passenger_count']"
      ],
      "execution_count": 0,
      "outputs": []
    },
    {
      "cell_type": "code",
      "metadata": {
        "id": "Y6Y9EzfMD2XC",
        "colab_type": "code",
        "outputId": "133eff62-4c56-474e-fb7a-7ae9ff404f45",
        "colab": {
          "base_uri": "https://localhost:8080/",
          "height": 68
        }
      },
      "source": [
        "train.columns"
      ],
      "execution_count": 38,
      "outputs": [
        {
          "output_type": "execute_result",
          "data": {
            "text/plain": [
              "Index(['fare_amount', 'pickup_datetime', 'pickup_longitude', 'pickup_latitude',\n",
              "       'dropoff_longitude', 'dropoff_latitude', 'passenger_count'],\n",
              "      dtype='object')"
            ]
          },
          "metadata": {
            "tags": []
          },
          "execution_count": 38
        }
      ]
    },
    {
      "cell_type": "code",
      "metadata": {
        "id": "X6LO0Ir3CFto",
        "colab_type": "code",
        "colab": {}
      },
      "source": [
        "k=train[['fare_amount', 'pickup_longitude', 'pickup_latitude',\n",
        "       'dropoff_longitude', 'dropoff_latitude', 'passenger_count']]"
      ],
      "execution_count": 0,
      "outputs": []
    },
    {
      "cell_type": "code",
      "metadata": {
        "id": "ZTQQerc_BiZP",
        "colab_type": "code",
        "outputId": "9514d8db-37fe-4250-9b30-a8ab4c0867a7",
        "colab": {
          "base_uri": "https://localhost:8080/",
          "height": 134
        }
      },
      "source": [
        "# Importing KNN \n",
        "from fancyimpute import KNN"
      ],
      "execution_count": 40,
      "outputs": [
        {
          "output_type": "stream",
          "text": [
            "/usr/local/lib/python3.6/dist-packages/sklearn/externals/six.py:31: DeprecationWarning: The module is deprecated in version 0.21 and will be removed in version 0.23 since we've dropped support for Python 2.7. Please rely on the official version of six (https://pypi.org/project/six/).\n",
            "  \"(https://pypi.org/project/six/).\", DeprecationWarning)\n",
            "Using TensorFlow backend.\n"
          ],
          "name": "stderr"
        },
        {
          "output_type": "display_data",
          "data": {
            "text/html": [
              "<p style=\"color: red;\">\n",
              "The default version of TensorFlow in Colab will soon switch to TensorFlow 2.x.<br>\n",
              "We recommend you <a href=\"https://www.tensorflow.org/guide/migrate\" target=\"_blank\">upgrade</a> now \n",
              "or ensure your notebook will continue to use TensorFlow 1.x via the <code>%tensorflow_version 1.x</code> magic:\n",
              "<a href=\"https://colab.research.google.com/notebooks/tensorflow_version.ipynb\" target=\"_blank\">more info</a>.</p>\n"
            ],
            "text/plain": [
              "<IPython.core.display.HTML object>"
            ]
          },
          "metadata": {
            "tags": []
          }
        }
      ]
    },
    {
      "cell_type": "code",
      "metadata": {
        "id": "E6KLKWllBnBE",
        "colab_type": "code",
        "colab": {}
      },
      "source": [
        "# Function for KNN imputation\n",
        "def knn(t,j):\n",
        "    z=t\n",
        "    z.loc[0,j]=np.NaN\n",
        "    z=pd.DataFrame(KNN(k=3).fit_transform(z),columns=z.columns)\n",
        "    return(z.loc[0,j])"
      ],
      "execution_count": 0,
      "outputs": []
    },
    {
      "cell_type": "code",
      "metadata": {
        "colab_type": "code",
        "id": "ExpywX8du50b",
        "colab": {}
      },
      "source": [
        "# Function for imputation using mean value.\n",
        "def mean(t,j):\n",
        "    z=t\n",
        "    z.loc[0,j]=np.NaN\n",
        "    z=z.loc[:,j].fillna(z.loc[:,j].mean())\n",
        "    return(z[0])"
      ],
      "execution_count": 0,
      "outputs": []
    },
    {
      "cell_type": "code",
      "metadata": {
        "colab_type": "code",
        "id": "kjHuZfX6vAMM",
        "colab": {}
      },
      "source": [
        "# Function for imputation using median value.\n",
        "def median(t,j):\n",
        "    z=t\n",
        "    z.loc[0,j]=np.NaN\n",
        "    z=z.loc[:,j].fillna(z.loc[:,j].median())\n",
        "    return(z[0])"
      ],
      "execution_count": 0,
      "outputs": []
    },
    {
      "cell_type": "code",
      "metadata": {
        "colab_type": "code",
        "id": "aO0_ktgBvC8-",
        "colab": {}
      },
      "source": [
        "# Function for imputing the missing values.\n",
        "# Here we have first stored a non null value of a particular column stored it in a separate variable and replaced it in the dataframe with nan.\n",
        "# Then we have imputed the missing value using the mean and median and depending upon which method imputes the value closes to the actual value is used for imputing the missing values in the dataset.\n",
        "def impute(t):\n",
        "    for j in miss_val:\n",
        "            if(sum(t.loc[:,j].isnull())!=0):\n",
        "                p=mean(t,j)\n",
        "                q=median(t,j)\n",
        "                r=knn(t,j)\n",
        "                if(abs(p-t.loc[0,j]) < abs(q-t.loc[0,j]) and abs(p-t.loc[0,j]) < abs(r-t.loc[0,j])):\n",
        "                    t.loc[:,j]=t.loc[:,j].fillna(t.loc[:,j].mean())\n",
        "                elif(abs(q-t.loc[0,j]) < abs(p-t.loc[0,j]) and abs(q-t.loc[0,j]) < abs(r-t.loc[0,j])):\n",
        "                    t.loc[:,j]=t.loc[:,j].fillna(t.loc[:,j].median())\n",
        "                else:\n",
        "                    t=pd.DataFrame(KNN(k=3).fit_transform(t),columns=t.columns)\n",
        "            else:\n",
        "                continue\n",
        "    return(t)"
      ],
      "execution_count": 0,
      "outputs": []
    },
    {
      "cell_type": "code",
      "metadata": {
        "id": "X2CaOHzQwZLp",
        "colab_type": "code",
        "outputId": "e8fea8e7-1c4a-45f5-93c4-203a08eeb50c",
        "colab": {
          "base_uri": "https://localhost:8080/",
          "height": 1000
        }
      },
      "source": [
        "# Imputing the missing values for the two columns\n",
        "k=impute(k)"
      ],
      "execution_count": 45,
      "outputs": [
        {
          "output_type": "stream",
          "text": [
            "/usr/local/lib/python3.6/dist-packages/pandas/core/indexing.py:205: SettingWithCopyWarning: \n",
            "A value is trying to be set on a copy of a slice from a DataFrame\n",
            "\n",
            "See the caveats in the documentation: http://pandas.pydata.org/pandas-docs/stable/user_guide/indexing.html#returning-a-view-versus-a-copy\n",
            "  self._setitem_with_indexer(indexer, value)\n",
            "/usr/local/lib/python3.6/dist-packages/ipykernel_launcher.py:3: SettingWithCopyWarning: \n",
            "A value is trying to be set on a copy of a slice from a DataFrame\n",
            "\n",
            "See the caveats in the documentation: http://pandas.pydata.org/pandas-docs/stable/user_guide/indexing.html#returning-a-view-versus-a-copy\n",
            "  This is separate from the ipykernel package so we can avoid doing imports until\n"
          ],
          "name": "stderr"
        },
        {
          "output_type": "stream",
          "text": [
            "Imputing row 1/15985 with 1 missing, elapsed time: 34.539\n",
            "Imputing row 101/15985 with 0 missing, elapsed time: 34.541\n",
            "Imputing row 201/15985 with 0 missing, elapsed time: 34.542\n",
            "Imputing row 301/15985 with 0 missing, elapsed time: 34.542\n",
            "Imputing row 401/15985 with 0 missing, elapsed time: 34.543\n",
            "Imputing row 501/15985 with 0 missing, elapsed time: 34.544\n",
            "Imputing row 601/15985 with 0 missing, elapsed time: 34.545\n",
            "Imputing row 701/15985 with 0 missing, elapsed time: 34.545\n",
            "Imputing row 801/15985 with 0 missing, elapsed time: 34.546\n",
            "Imputing row 901/15985 with 0 missing, elapsed time: 34.547\n",
            "Imputing row 1001/15985 with 0 missing, elapsed time: 34.547\n",
            "Imputing row 1101/15985 with 0 missing, elapsed time: 34.547\n",
            "Imputing row 1201/15985 with 0 missing, elapsed time: 34.548\n",
            "Imputing row 1301/15985 with 0 missing, elapsed time: 34.548\n",
            "Imputing row 1401/15985 with 0 missing, elapsed time: 34.549\n",
            "Imputing row 1501/15985 with 0 missing, elapsed time: 34.549\n",
            "Imputing row 1601/15985 with 0 missing, elapsed time: 34.550\n",
            "Imputing row 1701/15985 with 0 missing, elapsed time: 34.551\n",
            "Imputing row 1801/15985 with 0 missing, elapsed time: 34.551\n",
            "Imputing row 1901/15985 with 0 missing, elapsed time: 34.552\n",
            "Imputing row 2001/15985 with 0 missing, elapsed time: 34.553\n",
            "Imputing row 2101/15985 with 0 missing, elapsed time: 34.553\n",
            "Imputing row 2201/15985 with 0 missing, elapsed time: 34.553\n",
            "Imputing row 2301/15985 with 0 missing, elapsed time: 34.554\n",
            "Imputing row 2401/15985 with 0 missing, elapsed time: 34.555\n",
            "Imputing row 2501/15985 with 0 missing, elapsed time: 34.555\n",
            "Imputing row 2601/15985 with 0 missing, elapsed time: 34.556\n",
            "Imputing row 2701/15985 with 0 missing, elapsed time: 34.556\n",
            "Imputing row 2801/15985 with 0 missing, elapsed time: 34.556\n",
            "Imputing row 2901/15985 with 0 missing, elapsed time: 34.556\n",
            "Imputing row 3001/15985 with 0 missing, elapsed time: 34.557\n",
            "Imputing row 3101/15985 with 0 missing, elapsed time: 34.557\n",
            "Imputing row 3201/15985 with 0 missing, elapsed time: 34.557\n",
            "Imputing row 3301/15985 with 0 missing, elapsed time: 34.557\n",
            "Imputing row 3401/15985 with 0 missing, elapsed time: 34.558\n",
            "Imputing row 3501/15985 with 0 missing, elapsed time: 34.558\n",
            "Imputing row 3601/15985 with 0 missing, elapsed time: 34.558\n",
            "Imputing row 3701/15985 with 0 missing, elapsed time: 34.558\n",
            "Imputing row 3801/15985 with 0 missing, elapsed time: 34.559\n",
            "Imputing row 3901/15985 with 0 missing, elapsed time: 34.559\n",
            "Imputing row 4001/15985 with 0 missing, elapsed time: 34.559\n",
            "Imputing row 4101/15985 with 0 missing, elapsed time: 34.560\n",
            "Imputing row 4201/15985 with 0 missing, elapsed time: 34.560\n",
            "Imputing row 4301/15985 with 0 missing, elapsed time: 34.560\n",
            "Imputing row 4401/15985 with 0 missing, elapsed time: 34.560\n",
            "Imputing row 4501/15985 with 0 missing, elapsed time: 34.561\n",
            "Imputing row 4601/15985 with 0 missing, elapsed time: 34.561\n",
            "Imputing row 4701/15985 with 0 missing, elapsed time: 34.561\n",
            "Imputing row 4801/15985 with 0 missing, elapsed time: 34.561\n",
            "Imputing row 4901/15985 with 0 missing, elapsed time: 34.562\n",
            "Imputing row 5001/15985 with 0 missing, elapsed time: 34.562\n",
            "Imputing row 5101/15985 with 0 missing, elapsed time: 34.562\n",
            "Imputing row 5201/15985 with 0 missing, elapsed time: 34.563\n",
            "Imputing row 5301/15985 with 0 missing, elapsed time: 34.563\n",
            "Imputing row 5401/15985 with 0 missing, elapsed time: 34.563\n",
            "Imputing row 5501/15985 with 0 missing, elapsed time: 34.563\n",
            "Imputing row 5601/15985 with 0 missing, elapsed time: 34.564\n",
            "Imputing row 5701/15985 with 0 missing, elapsed time: 34.564\n",
            "Imputing row 5801/15985 with 0 missing, elapsed time: 34.564\n",
            "Imputing row 5901/15985 with 0 missing, elapsed time: 34.567\n",
            "Imputing row 6001/15985 with 0 missing, elapsed time: 34.567\n",
            "Imputing row 6101/15985 with 0 missing, elapsed time: 34.567\n",
            "Imputing row 6201/15985 with 0 missing, elapsed time: 34.568\n",
            "Imputing row 6301/15985 with 0 missing, elapsed time: 34.568\n",
            "Imputing row 6401/15985 with 0 missing, elapsed time: 34.568\n",
            "Imputing row 6501/15985 with 0 missing, elapsed time: 34.568\n",
            "Imputing row 6601/15985 with 0 missing, elapsed time: 34.569\n",
            "Imputing row 6701/15985 with 0 missing, elapsed time: 34.569\n",
            "Imputing row 6801/15985 with 0 missing, elapsed time: 34.569\n",
            "Imputing row 6901/15985 with 0 missing, elapsed time: 34.569\n",
            "Imputing row 7001/15985 with 0 missing, elapsed time: 34.570\n",
            "Imputing row 7101/15985 with 0 missing, elapsed time: 34.570\n",
            "Imputing row 7201/15985 with 0 missing, elapsed time: 34.570\n",
            "Imputing row 7301/15985 with 0 missing, elapsed time: 34.571\n",
            "Imputing row 7401/15985 with 0 missing, elapsed time: 34.571\n",
            "Imputing row 7501/15985 with 0 missing, elapsed time: 34.571\n",
            "Imputing row 7601/15985 with 0 missing, elapsed time: 34.571\n",
            "Imputing row 7701/15985 with 0 missing, elapsed time: 34.572\n",
            "Imputing row 7801/15985 with 0 missing, elapsed time: 34.574\n",
            "Imputing row 7901/15985 with 0 missing, elapsed time: 34.574\n",
            "Imputing row 8001/15985 with 0 missing, elapsed time: 34.575\n",
            "Imputing row 8101/15985 with 0 missing, elapsed time: 34.575\n",
            "Imputing row 8201/15985 with 0 missing, elapsed time: 34.576\n",
            "Imputing row 8301/15985 with 0 missing, elapsed time: 34.577\n",
            "Imputing row 8401/15985 with 0 missing, elapsed time: 34.577\n",
            "Imputing row 8501/15985 with 0 missing, elapsed time: 34.577\n",
            "Imputing row 8601/15985 with 0 missing, elapsed time: 34.577\n",
            "Imputing row 8701/15985 with 0 missing, elapsed time: 34.578\n",
            "Imputing row 8801/15985 with 0 missing, elapsed time: 34.578\n",
            "Imputing row 8901/15985 with 0 missing, elapsed time: 34.578\n",
            "Imputing row 9001/15985 with 0 missing, elapsed time: 34.578\n",
            "Imputing row 9101/15985 with 0 missing, elapsed time: 34.579\n",
            "Imputing row 9201/15985 with 0 missing, elapsed time: 34.579\n",
            "Imputing row 9301/15985 with 0 missing, elapsed time: 34.579\n",
            "Imputing row 9401/15985 with 0 missing, elapsed time: 34.579\n",
            "Imputing row 9501/15985 with 0 missing, elapsed time: 34.580\n",
            "Imputing row 9601/15985 with 0 missing, elapsed time: 34.580\n",
            "Imputing row 9701/15985 with 0 missing, elapsed time: 34.580\n",
            "Imputing row 9801/15985 with 0 missing, elapsed time: 34.580\n",
            "Imputing row 9901/15985 with 0 missing, elapsed time: 34.581\n",
            "Imputing row 10001/15985 with 0 missing, elapsed time: 34.581\n",
            "Imputing row 10101/15985 with 0 missing, elapsed time: 34.581\n",
            "Imputing row 10201/15985 with 0 missing, elapsed time: 34.581\n",
            "Imputing row 10301/15985 with 0 missing, elapsed time: 34.582\n",
            "Imputing row 10401/15985 with 0 missing, elapsed time: 34.582\n",
            "Imputing row 10501/15985 with 0 missing, elapsed time: 34.582\n",
            "Imputing row 10601/15985 with 0 missing, elapsed time: 34.582\n",
            "Imputing row 10701/15985 with 0 missing, elapsed time: 34.583\n",
            "Imputing row 10801/15985 with 0 missing, elapsed time: 34.583\n",
            "Imputing row 10901/15985 with 0 missing, elapsed time: 34.583\n",
            "Imputing row 11001/15985 with 0 missing, elapsed time: 34.583\n",
            "Imputing row 11101/15985 with 0 missing, elapsed time: 34.584\n",
            "Imputing row 11201/15985 with 0 missing, elapsed time: 34.584\n",
            "Imputing row 11301/15985 with 0 missing, elapsed time: 34.584\n",
            "Imputing row 11401/15985 with 0 missing, elapsed time: 34.585\n",
            "Imputing row 11501/15985 with 0 missing, elapsed time: 34.585\n",
            "Imputing row 11601/15985 with 0 missing, elapsed time: 34.585\n",
            "Imputing row 11701/15985 with 0 missing, elapsed time: 34.585\n",
            "Imputing row 11801/15985 with 0 missing, elapsed time: 34.586\n",
            "Imputing row 11901/15985 with 0 missing, elapsed time: 34.586\n",
            "Imputing row 12001/15985 with 0 missing, elapsed time: 34.586\n",
            "Imputing row 12101/15985 with 0 missing, elapsed time: 34.586\n",
            "Imputing row 12201/15985 with 0 missing, elapsed time: 34.587\n",
            "Imputing row 12301/15985 with 0 missing, elapsed time: 34.587\n",
            "Imputing row 12401/15985 with 0 missing, elapsed time: 34.587\n",
            "Imputing row 12501/15985 with 0 missing, elapsed time: 34.587\n",
            "Imputing row 12601/15985 with 0 missing, elapsed time: 34.588\n",
            "Imputing row 12701/15985 with 0 missing, elapsed time: 34.588\n",
            "Imputing row 12801/15985 with 0 missing, elapsed time: 34.588\n",
            "Imputing row 12901/15985 with 0 missing, elapsed time: 34.588\n",
            "Imputing row 13001/15985 with 0 missing, elapsed time: 34.589\n",
            "Imputing row 13101/15985 with 0 missing, elapsed time: 34.589\n",
            "Imputing row 13201/15985 with 0 missing, elapsed time: 34.589\n",
            "Imputing row 13301/15985 with 0 missing, elapsed time: 34.589\n",
            "Imputing row 13401/15985 with 0 missing, elapsed time: 34.590\n",
            "Imputing row 13501/15985 with 0 missing, elapsed time: 34.590\n",
            "Imputing row 13601/15985 with 0 missing, elapsed time: 34.590\n",
            "Imputing row 13701/15985 with 0 missing, elapsed time: 34.590\n",
            "Imputing row 13801/15985 with 0 missing, elapsed time: 34.591\n",
            "Imputing row 13901/15985 with 0 missing, elapsed time: 34.591\n",
            "Imputing row 14001/15985 with 0 missing, elapsed time: 34.591\n",
            "Imputing row 14101/15985 with 0 missing, elapsed time: 34.592\n",
            "Imputing row 14201/15985 with 0 missing, elapsed time: 34.592\n",
            "Imputing row 14301/15985 with 0 missing, elapsed time: 34.592\n",
            "Imputing row 14401/15985 with 0 missing, elapsed time: 34.592\n",
            "Imputing row 14501/15985 with 0 missing, elapsed time: 34.593\n",
            "Imputing row 14601/15985 with 0 missing, elapsed time: 34.593\n",
            "Imputing row 14701/15985 with 0 missing, elapsed time: 34.593\n",
            "Imputing row 14801/15985 with 0 missing, elapsed time: 34.593\n",
            "Imputing row 14901/15985 with 0 missing, elapsed time: 34.594\n",
            "Imputing row 15001/15985 with 0 missing, elapsed time: 34.594\n",
            "Imputing row 15101/15985 with 0 missing, elapsed time: 34.594\n",
            "Imputing row 15201/15985 with 0 missing, elapsed time: 34.594\n",
            "Imputing row 15301/15985 with 0 missing, elapsed time: 34.595\n",
            "Imputing row 15401/15985 with 0 missing, elapsed time: 34.595\n",
            "Imputing row 15501/15985 with 0 missing, elapsed time: 34.595\n",
            "Imputing row 15601/15985 with 0 missing, elapsed time: 34.595\n",
            "Imputing row 15701/15985 with 0 missing, elapsed time: 34.596\n",
            "Imputing row 15801/15985 with 0 missing, elapsed time: 34.596\n",
            "Imputing row 15901/15985 with 0 missing, elapsed time: 34.596\n",
            "Imputing row 1/15985 with 1 missing, elapsed time: 34.094\n",
            "Imputing row 101/15985 with 0 missing, elapsed time: 34.095\n",
            "Imputing row 201/15985 with 0 missing, elapsed time: 34.096\n",
            "Imputing row 301/15985 with 0 missing, elapsed time: 34.097\n",
            "Imputing row 401/15985 with 0 missing, elapsed time: 34.098\n",
            "Imputing row 501/15985 with 0 missing, elapsed time: 34.099\n",
            "Imputing row 601/15985 with 0 missing, elapsed time: 34.100\n",
            "Imputing row 701/15985 with 0 missing, elapsed time: 34.101\n",
            "Imputing row 801/15985 with 0 missing, elapsed time: 34.101\n",
            "Imputing row 901/15985 with 0 missing, elapsed time: 34.102\n",
            "Imputing row 1001/15985 with 0 missing, elapsed time: 34.103\n",
            "Imputing row 1101/15985 with 0 missing, elapsed time: 34.103\n",
            "Imputing row 1201/15985 with 0 missing, elapsed time: 34.103\n",
            "Imputing row 1301/15985 with 0 missing, elapsed time: 34.104\n",
            "Imputing row 1401/15985 with 0 missing, elapsed time: 34.104\n",
            "Imputing row 1501/15985 with 0 missing, elapsed time: 34.105\n",
            "Imputing row 1601/15985 with 0 missing, elapsed time: 34.105\n",
            "Imputing row 1701/15985 with 0 missing, elapsed time: 34.106\n",
            "Imputing row 1801/15985 with 0 missing, elapsed time: 34.106\n",
            "Imputing row 1901/15985 with 0 missing, elapsed time: 34.107\n",
            "Imputing row 2001/15985 with 0 missing, elapsed time: 34.108\n",
            "Imputing row 2101/15985 with 0 missing, elapsed time: 34.108\n",
            "Imputing row 2201/15985 with 0 missing, elapsed time: 34.108\n",
            "Imputing row 2301/15985 with 0 missing, elapsed time: 34.109\n",
            "Imputing row 2401/15985 with 0 missing, elapsed time: 34.109\n",
            "Imputing row 2501/15985 with 0 missing, elapsed time: 34.110\n",
            "Imputing row 2601/15985 with 0 missing, elapsed time: 34.110\n",
            "Imputing row 2701/15985 with 0 missing, elapsed time: 34.111\n",
            "Imputing row 2801/15985 with 0 missing, elapsed time: 34.111\n",
            "Imputing row 2901/15985 with 0 missing, elapsed time: 34.111\n",
            "Imputing row 3001/15985 with 0 missing, elapsed time: 34.111\n",
            "Imputing row 3101/15985 with 0 missing, elapsed time: 34.112\n",
            "Imputing row 3201/15985 with 0 missing, elapsed time: 34.112\n",
            "Imputing row 3301/15985 with 0 missing, elapsed time: 34.112\n",
            "Imputing row 3401/15985 with 0 missing, elapsed time: 34.113\n",
            "Imputing row 3501/15985 with 0 missing, elapsed time: 34.113\n",
            "Imputing row 3601/15985 with 0 missing, elapsed time: 34.113\n",
            "Imputing row 3701/15985 with 0 missing, elapsed time: 34.113\n",
            "Imputing row 3801/15985 with 0 missing, elapsed time: 34.114\n",
            "Imputing row 3901/15985 with 0 missing, elapsed time: 34.114\n",
            "Imputing row 4001/15985 with 0 missing, elapsed time: 34.114\n",
            "Imputing row 4101/15985 with 0 missing, elapsed time: 34.114\n",
            "Imputing row 4201/15985 with 0 missing, elapsed time: 34.115\n",
            "Imputing row 4301/15985 with 0 missing, elapsed time: 34.115\n",
            "Imputing row 4401/15985 with 0 missing, elapsed time: 34.115\n",
            "Imputing row 4501/15985 with 0 missing, elapsed time: 34.116\n",
            "Imputing row 4601/15985 with 0 missing, elapsed time: 34.116\n",
            "Imputing row 4701/15985 with 0 missing, elapsed time: 34.116\n",
            "Imputing row 4801/15985 with 0 missing, elapsed time: 34.116\n",
            "Imputing row 4901/15985 with 0 missing, elapsed time: 34.117\n",
            "Imputing row 5001/15985 with 0 missing, elapsed time: 34.117\n",
            "Imputing row 5101/15985 with 0 missing, elapsed time: 34.117\n",
            "Imputing row 5201/15985 with 0 missing, elapsed time: 34.118\n",
            "Imputing row 5301/15985 with 0 missing, elapsed time: 34.118\n",
            "Imputing row 5401/15985 with 0 missing, elapsed time: 34.118\n",
            "Imputing row 5501/15985 with 0 missing, elapsed time: 34.118\n",
            "Imputing row 5601/15985 with 0 missing, elapsed time: 34.119\n",
            "Imputing row 5701/15985 with 0 missing, elapsed time: 34.119\n",
            "Imputing row 5801/15985 with 0 missing, elapsed time: 34.119\n",
            "Imputing row 5901/15985 with 0 missing, elapsed time: 34.120\n",
            "Imputing row 6001/15985 with 0 missing, elapsed time: 34.120\n",
            "Imputing row 6101/15985 with 0 missing, elapsed time: 34.120\n",
            "Imputing row 6201/15985 with 0 missing, elapsed time: 34.120\n",
            "Imputing row 6301/15985 with 0 missing, elapsed time: 34.121\n",
            "Imputing row 6401/15985 with 0 missing, elapsed time: 34.121\n",
            "Imputing row 6501/15985 with 0 missing, elapsed time: 34.121\n",
            "Imputing row 6601/15985 with 0 missing, elapsed time: 34.122\n",
            "Imputing row 6701/15985 with 0 missing, elapsed time: 34.122\n",
            "Imputing row 6801/15985 with 0 missing, elapsed time: 34.122\n",
            "Imputing row 6901/15985 with 0 missing, elapsed time: 34.122\n",
            "Imputing row 7001/15985 with 0 missing, elapsed time: 34.123\n",
            "Imputing row 7101/15985 with 0 missing, elapsed time: 34.123\n",
            "Imputing row 7201/15985 with 0 missing, elapsed time: 34.123\n",
            "Imputing row 7301/15985 with 0 missing, elapsed time: 34.123\n",
            "Imputing row 7401/15985 with 0 missing, elapsed time: 34.124\n",
            "Imputing row 7501/15985 with 0 missing, elapsed time: 34.124\n",
            "Imputing row 7601/15985 with 0 missing, elapsed time: 34.124\n",
            "Imputing row 7701/15985 with 0 missing, elapsed time: 34.124\n",
            "Imputing row 7801/15985 with 0 missing, elapsed time: 34.129\n",
            "Imputing row 7901/15985 with 0 missing, elapsed time: 34.130\n",
            "Imputing row 8001/15985 with 0 missing, elapsed time: 34.130\n",
            "Imputing row 8101/15985 with 0 missing, elapsed time: 34.131\n",
            "Imputing row 8201/15985 with 0 missing, elapsed time: 34.131\n",
            "Imputing row 8301/15985 with 0 missing, elapsed time: 34.132\n",
            "Imputing row 8401/15985 with 0 missing, elapsed time: 34.132\n",
            "Imputing row 8501/15985 with 0 missing, elapsed time: 34.133\n",
            "Imputing row 8601/15985 with 0 missing, elapsed time: 34.133\n",
            "Imputing row 8701/15985 with 0 missing, elapsed time: 34.133\n",
            "Imputing row 8801/15985 with 0 missing, elapsed time: 34.133\n",
            "Imputing row 8901/15985 with 0 missing, elapsed time: 34.134\n",
            "Imputing row 9001/15985 with 0 missing, elapsed time: 34.134\n",
            "Imputing row 9101/15985 with 0 missing, elapsed time: 34.134\n",
            "Imputing row 9201/15985 with 0 missing, elapsed time: 34.134\n",
            "Imputing row 9301/15985 with 0 missing, elapsed time: 34.135\n",
            "Imputing row 9401/15985 with 0 missing, elapsed time: 34.135\n",
            "Imputing row 9501/15985 with 0 missing, elapsed time: 34.135\n",
            "Imputing row 9601/15985 with 0 missing, elapsed time: 34.135\n",
            "Imputing row 9701/15985 with 0 missing, elapsed time: 34.136\n",
            "Imputing row 9801/15985 with 0 missing, elapsed time: 34.136\n",
            "Imputing row 9901/15985 with 0 missing, elapsed time: 34.136\n",
            "Imputing row 10001/15985 with 0 missing, elapsed time: 34.137\n",
            "Imputing row 10101/15985 with 0 missing, elapsed time: 34.137\n",
            "Imputing row 10201/15985 with 0 missing, elapsed time: 34.137\n",
            "Imputing row 10301/15985 with 0 missing, elapsed time: 34.137\n",
            "Imputing row 10401/15985 with 0 missing, elapsed time: 34.138\n",
            "Imputing row 10501/15985 with 0 missing, elapsed time: 34.138\n",
            "Imputing row 10601/15985 with 0 missing, elapsed time: 34.138\n",
            "Imputing row 10701/15985 with 0 missing, elapsed time: 34.138\n",
            "Imputing row 10801/15985 with 0 missing, elapsed time: 34.139\n",
            "Imputing row 10901/15985 with 0 missing, elapsed time: 34.139\n",
            "Imputing row 11001/15985 with 0 missing, elapsed time: 34.139\n",
            "Imputing row 11101/15985 with 0 missing, elapsed time: 34.140\n",
            "Imputing row 11201/15985 with 0 missing, elapsed time: 34.140\n",
            "Imputing row 11301/15985 with 0 missing, elapsed time: 34.140\n",
            "Imputing row 11401/15985 with 0 missing, elapsed time: 34.141\n",
            "Imputing row 11501/15985 with 0 missing, elapsed time: 34.141\n",
            "Imputing row 11601/15985 with 0 missing, elapsed time: 34.141\n",
            "Imputing row 11701/15985 with 0 missing, elapsed time: 34.141\n",
            "Imputing row 11801/15985 with 0 missing, elapsed time: 34.142\n",
            "Imputing row 11901/15985 with 0 missing, elapsed time: 34.142\n",
            "Imputing row 12001/15985 with 0 missing, elapsed time: 34.142\n",
            "Imputing row 12101/15985 with 0 missing, elapsed time: 34.142\n",
            "Imputing row 12201/15985 with 0 missing, elapsed time: 34.143\n",
            "Imputing row 12301/15985 with 0 missing, elapsed time: 34.143\n",
            "Imputing row 12401/15985 with 0 missing, elapsed time: 34.143\n",
            "Imputing row 12501/15985 with 0 missing, elapsed time: 34.143\n",
            "Imputing row 12601/15985 with 0 missing, elapsed time: 34.144\n",
            "Imputing row 12701/15985 with 0 missing, elapsed time: 34.144\n",
            "Imputing row 12801/15985 with 0 missing, elapsed time: 34.144\n",
            "Imputing row 12901/15985 with 0 missing, elapsed time: 34.145\n",
            "Imputing row 13001/15985 with 0 missing, elapsed time: 34.145\n",
            "Imputing row 13101/15985 with 0 missing, elapsed time: 34.145\n",
            "Imputing row 13201/15985 with 0 missing, elapsed time: 34.145\n",
            "Imputing row 13301/15985 with 0 missing, elapsed time: 34.146\n",
            "Imputing row 13401/15985 with 0 missing, elapsed time: 34.146\n",
            "Imputing row 13501/15985 with 0 missing, elapsed time: 34.146\n",
            "Imputing row 13601/15985 with 0 missing, elapsed time: 34.146\n",
            "Imputing row 13701/15985 with 0 missing, elapsed time: 34.147\n",
            "Imputing row 13801/15985 with 0 missing, elapsed time: 34.147\n",
            "Imputing row 13901/15985 with 0 missing, elapsed time: 34.147\n",
            "Imputing row 14001/15985 with 0 missing, elapsed time: 34.147\n",
            "Imputing row 14101/15985 with 0 missing, elapsed time: 34.148\n",
            "Imputing row 14201/15985 with 0 missing, elapsed time: 34.148\n",
            "Imputing row 14301/15985 with 0 missing, elapsed time: 34.148\n",
            "Imputing row 14401/15985 with 0 missing, elapsed time: 34.148\n",
            "Imputing row 14501/15985 with 0 missing, elapsed time: 34.149\n",
            "Imputing row 14601/15985 with 0 missing, elapsed time: 34.149\n",
            "Imputing row 14701/15985 with 0 missing, elapsed time: 34.149\n",
            "Imputing row 14801/15985 with 0 missing, elapsed time: 34.149\n",
            "Imputing row 14901/15985 with 0 missing, elapsed time: 34.150\n",
            "Imputing row 15001/15985 with 0 missing, elapsed time: 34.150\n",
            "Imputing row 15101/15985 with 0 missing, elapsed time: 34.150\n",
            "Imputing row 15201/15985 with 0 missing, elapsed time: 34.151\n",
            "Imputing row 15301/15985 with 0 missing, elapsed time: 34.151\n",
            "Imputing row 15401/15985 with 0 missing, elapsed time: 34.151\n",
            "Imputing row 15501/15985 with 0 missing, elapsed time: 34.151\n",
            "Imputing row 15601/15985 with 0 missing, elapsed time: 34.152\n",
            "Imputing row 15701/15985 with 0 missing, elapsed time: 34.152\n",
            "Imputing row 15801/15985 with 0 missing, elapsed time: 34.152\n",
            "Imputing row 15901/15985 with 0 missing, elapsed time: 34.152\n"
          ],
          "name": "stdout"
        }
      ]
    },
    {
      "cell_type": "code",
      "metadata": {
        "id": "cZNG5AsNwc3p",
        "colab_type": "code",
        "outputId": "aefce5e4-8d65-4a6b-dab1-6d17646fcb02",
        "colab": {
          "base_uri": "https://localhost:8080/",
          "height": 204
        }
      },
      "source": [
        "# Checking for the above operation\n",
        "k.info()"
      ],
      "execution_count": 46,
      "outputs": [
        {
          "output_type": "stream",
          "text": [
            "<class 'pandas.core.frame.DataFrame'>\n",
            "RangeIndex: 15985 entries, 0 to 15984\n",
            "Data columns (total 6 columns):\n",
            "fare_amount          15985 non-null float64\n",
            "pickup_longitude     15985 non-null float64\n",
            "pickup_latitude      15985 non-null float64\n",
            "dropoff_longitude    15985 non-null float64\n",
            "dropoff_latitude     15985 non-null float64\n",
            "passenger_count      15985 non-null float64\n",
            "dtypes: float64(6)\n",
            "memory usage: 749.4 KB\n"
          ],
          "name": "stdout"
        }
      ]
    },
    {
      "cell_type": "code",
      "metadata": {
        "id": "o1YNmb_7w0Zz",
        "colab_type": "code",
        "outputId": "78eeec59-76ac-4ce8-b275-564d1797c35a",
        "colab": {
          "base_uri": "https://localhost:8080/",
          "height": 68
        }
      },
      "source": [
        "k.columns"
      ],
      "execution_count": 47,
      "outputs": [
        {
          "output_type": "execute_result",
          "data": {
            "text/plain": [
              "Index(['fare_amount', 'pickup_longitude', 'pickup_latitude',\n",
              "       'dropoff_longitude', 'dropoff_latitude', 'passenger_count'],\n",
              "      dtype='object')"
            ]
          },
          "metadata": {
            "tags": []
          },
          "execution_count": 47
        }
      ]
    },
    {
      "cell_type": "code",
      "metadata": {
        "id": "kI-jlfsxc7Hg",
        "colab_type": "code",
        "outputId": "a4c3eb13-4712-477e-ffa3-dd4ba1d3cf0a",
        "colab": {
          "base_uri": "https://localhost:8080/",
          "height": 142
        }
      },
      "source": [
        "k.head(3)"
      ],
      "execution_count": 48,
      "outputs": [
        {
          "output_type": "execute_result",
          "data": {
            "text/html": [
              "<div>\n",
              "<style scoped>\n",
              "    .dataframe tbody tr th:only-of-type {\n",
              "        vertical-align: middle;\n",
              "    }\n",
              "\n",
              "    .dataframe tbody tr th {\n",
              "        vertical-align: top;\n",
              "    }\n",
              "\n",
              "    .dataframe thead th {\n",
              "        text-align: right;\n",
              "    }\n",
              "</style>\n",
              "<table border=\"1\" class=\"dataframe\">\n",
              "  <thead>\n",
              "    <tr style=\"text-align: right;\">\n",
              "      <th></th>\n",
              "      <th>fare_amount</th>\n",
              "      <th>pickup_longitude</th>\n",
              "      <th>pickup_latitude</th>\n",
              "      <th>dropoff_longitude</th>\n",
              "      <th>dropoff_latitude</th>\n",
              "      <th>passenger_count</th>\n",
              "    </tr>\n",
              "  </thead>\n",
              "  <tbody>\n",
              "    <tr>\n",
              "      <th>0</th>\n",
              "      <td>8.046398</td>\n",
              "      <td>-73.844311</td>\n",
              "      <td>40.721319</td>\n",
              "      <td>-73.841610</td>\n",
              "      <td>40.712278</td>\n",
              "      <td>1.0</td>\n",
              "    </tr>\n",
              "    <tr>\n",
              "      <th>1</th>\n",
              "      <td>16.900000</td>\n",
              "      <td>-74.016048</td>\n",
              "      <td>40.711303</td>\n",
              "      <td>-73.979268</td>\n",
              "      <td>40.782004</td>\n",
              "      <td>1.0</td>\n",
              "    </tr>\n",
              "    <tr>\n",
              "      <th>2</th>\n",
              "      <td>5.700000</td>\n",
              "      <td>-73.982738</td>\n",
              "      <td>40.761270</td>\n",
              "      <td>-73.991242</td>\n",
              "      <td>40.750562</td>\n",
              "      <td>2.0</td>\n",
              "    </tr>\n",
              "  </tbody>\n",
              "</table>\n",
              "</div>"
            ],
            "text/plain": [
              "   fare_amount  pickup_longitude  ...  dropoff_latitude  passenger_count\n",
              "0     8.046398        -73.844311  ...         40.712278              1.0\n",
              "1    16.900000        -74.016048  ...         40.782004              1.0\n",
              "2     5.700000        -73.982738  ...         40.750562              2.0\n",
              "\n",
              "[3 rows x 6 columns]"
            ]
          },
          "metadata": {
            "tags": []
          },
          "execution_count": 48
        }
      ]
    },
    {
      "cell_type": "code",
      "metadata": {
        "id": "2n3WWMTs776A",
        "colab_type": "code",
        "outputId": "00ce1adc-5d73-4ec4-a31d-a101ccf29129",
        "colab": {
          "base_uri": "https://localhost:8080/",
          "height": 297
        }
      },
      "source": [
        "k.describe()"
      ],
      "execution_count": 49,
      "outputs": [
        {
          "output_type": "execute_result",
          "data": {
            "text/html": [
              "<div>\n",
              "<style scoped>\n",
              "    .dataframe tbody tr th:only-of-type {\n",
              "        vertical-align: middle;\n",
              "    }\n",
              "\n",
              "    .dataframe tbody tr th {\n",
              "        vertical-align: top;\n",
              "    }\n",
              "\n",
              "    .dataframe thead th {\n",
              "        text-align: right;\n",
              "    }\n",
              "</style>\n",
              "<table border=\"1\" class=\"dataframe\">\n",
              "  <thead>\n",
              "    <tr style=\"text-align: right;\">\n",
              "      <th></th>\n",
              "      <th>fare_amount</th>\n",
              "      <th>pickup_longitude</th>\n",
              "      <th>pickup_latitude</th>\n",
              "      <th>dropoff_longitude</th>\n",
              "      <th>dropoff_latitude</th>\n",
              "      <th>passenger_count</th>\n",
              "    </tr>\n",
              "  </thead>\n",
              "  <tbody>\n",
              "    <tr>\n",
              "      <th>count</th>\n",
              "      <td>15985.000000</td>\n",
              "      <td>15985.000000</td>\n",
              "      <td>15985.000000</td>\n",
              "      <td>15985.000000</td>\n",
              "      <td>15985.000000</td>\n",
              "      <td>15985.000000</td>\n",
              "    </tr>\n",
              "    <tr>\n",
              "      <th>mean</th>\n",
              "      <td>15.041784</td>\n",
              "      <td>-72.473549</td>\n",
              "      <td>39.898117</td>\n",
              "      <td>-72.463841</td>\n",
              "      <td>39.898642</td>\n",
              "      <td>1.650174</td>\n",
              "    </tr>\n",
              "    <tr>\n",
              "      <th>std</th>\n",
              "      <td>431.227469</td>\n",
              "      <td>10.542817</td>\n",
              "      <td>6.186941</td>\n",
              "      <td>10.570583</td>\n",
              "      <td>6.186568</td>\n",
              "      <td>1.265059</td>\n",
              "    </tr>\n",
              "    <tr>\n",
              "      <th>min</th>\n",
              "      <td>0.000000</td>\n",
              "      <td>-74.438233</td>\n",
              "      <td>-74.006893</td>\n",
              "      <td>-74.429332</td>\n",
              "      <td>-74.006377</td>\n",
              "      <td>0.120000</td>\n",
              "    </tr>\n",
              "    <tr>\n",
              "      <th>25%</th>\n",
              "      <td>6.000000</td>\n",
              "      <td>-73.992157</td>\n",
              "      <td>40.734945</td>\n",
              "      <td>-73.991182</td>\n",
              "      <td>40.734700</td>\n",
              "      <td>1.000000</td>\n",
              "    </tr>\n",
              "    <tr>\n",
              "      <th>50%</th>\n",
              "      <td>8.500000</td>\n",
              "      <td>-73.981696</td>\n",
              "      <td>40.752633</td>\n",
              "      <td>-73.980167</td>\n",
              "      <td>40.753577</td>\n",
              "      <td>1.000000</td>\n",
              "    </tr>\n",
              "    <tr>\n",
              "      <th>75%</th>\n",
              "      <td>12.500000</td>\n",
              "      <td>-73.966835</td>\n",
              "      <td>40.767392</td>\n",
              "      <td>-73.963643</td>\n",
              "      <td>40.768026</td>\n",
              "      <td>2.000000</td>\n",
              "    </tr>\n",
              "    <tr>\n",
              "      <th>max</th>\n",
              "      <td>54343.000000</td>\n",
              "      <td>40.766125</td>\n",
              "      <td>41.366138</td>\n",
              "      <td>40.802437</td>\n",
              "      <td>41.366138</td>\n",
              "      <td>6.000000</td>\n",
              "    </tr>\n",
              "  </tbody>\n",
              "</table>\n",
              "</div>"
            ],
            "text/plain": [
              "        fare_amount  pickup_longitude  ...  dropoff_latitude  passenger_count\n",
              "count  15985.000000      15985.000000  ...      15985.000000     15985.000000\n",
              "mean      15.041784        -72.473549  ...         39.898642         1.650174\n",
              "std      431.227469         10.542817  ...          6.186568         1.265059\n",
              "min        0.000000        -74.438233  ...        -74.006377         0.120000\n",
              "25%        6.000000        -73.992157  ...         40.734700         1.000000\n",
              "50%        8.500000        -73.981696  ...         40.753577         1.000000\n",
              "75%       12.500000        -73.966835  ...         40.768026         2.000000\n",
              "max    54343.000000         40.766125  ...         41.366138         6.000000\n",
              "\n",
              "[8 rows x 6 columns]"
            ]
          },
          "metadata": {
            "tags": []
          },
          "execution_count": 49
        }
      ]
    },
    {
      "cell_type": "code",
      "metadata": {
        "id": "JzCPWyrDdC8w",
        "colab_type": "code",
        "colab": {}
      },
      "source": [
        "k['pickup_datetime']=train['pickup_datetime']"
      ],
      "execution_count": 0,
      "outputs": []
    },
    {
      "cell_type": "code",
      "metadata": {
        "id": "aOf1HW0hFaQz",
        "colab_type": "code",
        "colab": {}
      },
      "source": [
        "# Saving the imputed values in the original dataset\n",
        "train.loc[:,['fare_amount', 'pickup_longitude', 'pickup_latitude','dropoff_longitude', 'dropoff_latitude', 'passenger_count']]=k.loc[:,['fare_amount', 'pickup_longitude', 'pickup_latitude',\n",
        "       'dropoff_longitude', 'dropoff_latitude', 'passenger_count']]"
      ],
      "execution_count": 0,
      "outputs": []
    },
    {
      "cell_type": "code",
      "metadata": {
        "id": "AngQ31wDGRb9",
        "colab_type": "code",
        "outputId": "e9dddf67-5bda-4af7-e223-920c753c502a",
        "colab": {
          "base_uri": "https://localhost:8080/",
          "height": 221
        }
      },
      "source": [
        "# Checking for the above operation\n",
        "train.info()"
      ],
      "execution_count": 52,
      "outputs": [
        {
          "output_type": "stream",
          "text": [
            "<class 'pandas.core.frame.DataFrame'>\n",
            "RangeIndex: 15985 entries, 0 to 15984\n",
            "Data columns (total 7 columns):\n",
            "fare_amount          15985 non-null float64\n",
            "pickup_datetime      15985 non-null object\n",
            "pickup_longitude     15985 non-null float64\n",
            "pickup_latitude      15985 non-null float64\n",
            "dropoff_longitude    15985 non-null float64\n",
            "dropoff_latitude     15985 non-null float64\n",
            "passenger_count      15985 non-null float64\n",
            "dtypes: float64(6), object(1)\n",
            "memory usage: 874.3+ KB\n"
          ],
          "name": "stdout"
        }
      ]
    },
    {
      "cell_type": "code",
      "metadata": {
        "id": "j6ABjztc8Gvz",
        "colab_type": "code",
        "colab": {}
      },
      "source": [
        "# Dropping all records containing fraction as passenger count as fractional passengers are not possible in a cab in a ride\n",
        "train = train.drop((train[train['passenger_count']==0.12]).index, axis=0)"
      ],
      "execution_count": 0,
      "outputs": []
    },
    {
      "cell_type": "code",
      "metadata": {
        "id": "yhHcBePb88a4",
        "colab_type": "code",
        "colab": {}
      },
      "source": [
        "# Resetting the row index for training set.\n",
        "train=train.reset_index(drop=True)"
      ],
      "execution_count": 0,
      "outputs": []
    },
    {
      "cell_type": "code",
      "metadata": {
        "id": "4LhzBHXM8-tv",
        "colab_type": "code",
        "outputId": "c1b4b0d1-a9c6-49e3-ced2-a69873139e85",
        "colab": {
          "base_uri": "https://localhost:8080/",
          "height": 297
        }
      },
      "source": [
        "train.describe()"
      ],
      "execution_count": 55,
      "outputs": [
        {
          "output_type": "execute_result",
          "data": {
            "text/html": [
              "<div>\n",
              "<style scoped>\n",
              "    .dataframe tbody tr th:only-of-type {\n",
              "        vertical-align: middle;\n",
              "    }\n",
              "\n",
              "    .dataframe tbody tr th {\n",
              "        vertical-align: top;\n",
              "    }\n",
              "\n",
              "    .dataframe thead th {\n",
              "        text-align: right;\n",
              "    }\n",
              "</style>\n",
              "<table border=\"1\" class=\"dataframe\">\n",
              "  <thead>\n",
              "    <tr style=\"text-align: right;\">\n",
              "      <th></th>\n",
              "      <th>fare_amount</th>\n",
              "      <th>pickup_longitude</th>\n",
              "      <th>pickup_latitude</th>\n",
              "      <th>dropoff_longitude</th>\n",
              "      <th>dropoff_latitude</th>\n",
              "      <th>passenger_count</th>\n",
              "    </tr>\n",
              "  </thead>\n",
              "  <tbody>\n",
              "    <tr>\n",
              "      <th>count</th>\n",
              "      <td>15984.000000</td>\n",
              "      <td>15984.000000</td>\n",
              "      <td>15984.000000</td>\n",
              "      <td>15984.000000</td>\n",
              "      <td>15984.000000</td>\n",
              "      <td>15984.00000</td>\n",
              "    </tr>\n",
              "    <tr>\n",
              "      <th>mean</th>\n",
              "      <td>15.042006</td>\n",
              "      <td>-72.473455</td>\n",
              "      <td>39.898064</td>\n",
              "      <td>-72.463745</td>\n",
              "      <td>39.898591</td>\n",
              "      <td>1.65027</td>\n",
              "    </tr>\n",
              "    <tr>\n",
              "      <th>std</th>\n",
              "      <td>431.240958</td>\n",
              "      <td>10.543141</td>\n",
              "      <td>6.187131</td>\n",
              "      <td>10.570907</td>\n",
              "      <td>6.186758</td>\n",
              "      <td>1.26504</td>\n",
              "    </tr>\n",
              "    <tr>\n",
              "      <th>min</th>\n",
              "      <td>0.000000</td>\n",
              "      <td>-74.438233</td>\n",
              "      <td>-74.006893</td>\n",
              "      <td>-74.429332</td>\n",
              "      <td>-74.006377</td>\n",
              "      <td>1.00000</td>\n",
              "    </tr>\n",
              "    <tr>\n",
              "      <th>25%</th>\n",
              "      <td>6.000000</td>\n",
              "      <td>-73.992157</td>\n",
              "      <td>40.734944</td>\n",
              "      <td>-73.991182</td>\n",
              "      <td>40.734701</td>\n",
              "      <td>1.00000</td>\n",
              "    </tr>\n",
              "    <tr>\n",
              "      <th>50%</th>\n",
              "      <td>8.500000</td>\n",
              "      <td>-73.981697</td>\n",
              "      <td>40.752633</td>\n",
              "      <td>-73.980166</td>\n",
              "      <td>40.753580</td>\n",
              "      <td>1.00000</td>\n",
              "    </tr>\n",
              "    <tr>\n",
              "      <th>75%</th>\n",
              "      <td>12.500000</td>\n",
              "      <td>-73.966834</td>\n",
              "      <td>40.767395</td>\n",
              "      <td>-73.963643</td>\n",
              "      <td>40.768027</td>\n",
              "      <td>2.00000</td>\n",
              "    </tr>\n",
              "    <tr>\n",
              "      <th>max</th>\n",
              "      <td>54343.000000</td>\n",
              "      <td>40.766125</td>\n",
              "      <td>41.366138</td>\n",
              "      <td>40.802437</td>\n",
              "      <td>41.366138</td>\n",
              "      <td>6.00000</td>\n",
              "    </tr>\n",
              "  </tbody>\n",
              "</table>\n",
              "</div>"
            ],
            "text/plain": [
              "        fare_amount  pickup_longitude  ...  dropoff_latitude  passenger_count\n",
              "count  15984.000000      15984.000000  ...      15984.000000      15984.00000\n",
              "mean      15.042006        -72.473455  ...         39.898591          1.65027\n",
              "std      431.240958         10.543141  ...          6.186758          1.26504\n",
              "min        0.000000        -74.438233  ...        -74.006377          1.00000\n",
              "25%        6.000000        -73.992157  ...         40.734701          1.00000\n",
              "50%        8.500000        -73.981697  ...         40.753580          1.00000\n",
              "75%       12.500000        -73.966834  ...         40.768027          2.00000\n",
              "max    54343.000000         40.766125  ...         41.366138          6.00000\n",
              "\n",
              "[8 rows x 6 columns]"
            ]
          },
          "metadata": {
            "tags": []
          },
          "execution_count": 55
        }
      ]
    },
    {
      "cell_type": "code",
      "metadata": {
        "id": "dVAAcHrawepp",
        "colab_type": "code",
        "colab": {}
      },
      "source": [
        "# Converting the pickup_datetime column into date time type\n",
        "train['pickup_datetime'] =  pd.to_datetime(train['pickup_datetime'], format='%Y-%m-%d %H:%M:%S UTC')\n",
        "# Extracting date, hour, month and year from the date time column and saving it into a new a column accordingly\n",
        "train['year'] = train['pickup_datetime'].dt.year\n",
        "train['Month'] = train['pickup_datetime'].dt.month\n",
        "train['Date'] = train['pickup_datetime'].dt.day\n",
        "train['Day'] = train['pickup_datetime'].dt.dayofweek\n",
        "train['Hour'] = train['pickup_datetime'].dt.hour"
      ],
      "execution_count": 0,
      "outputs": []
    },
    {
      "cell_type": "code",
      "metadata": {
        "id": "stVwH-vL5wMO",
        "colab_type": "code",
        "colab": {}
      },
      "source": [
        "# Extracting date, hour, month and year from the date time column and saving it into a new a column accordingly similarly for testing set.\n",
        "test['year'] = test['pickup_datetime'].dt.year\n",
        "test['Month'] = test['pickup_datetime'].dt.month\n",
        "test['Date'] = test['pickup_datetime'].dt.day\n",
        "test['Day'] = test['pickup_datetime'].dt.dayofweek\n",
        "test['Hour'] = test['pickup_datetime'].dt.hour"
      ],
      "execution_count": 0,
      "outputs": []
    },
    {
      "cell_type": "code",
      "metadata": {
        "id": "gDLGVcJTwmxa",
        "colab_type": "code",
        "outputId": "5936e282-f332-448e-d285-16dd6f69aaf9",
        "colab": {
          "base_uri": "https://localhost:8080/",
          "height": 306
        }
      },
      "source": [
        "# Checking for the above operation in training and testing sets respectively.\n",
        "train.info()"
      ],
      "execution_count": 58,
      "outputs": [
        {
          "output_type": "stream",
          "text": [
            "<class 'pandas.core.frame.DataFrame'>\n",
            "RangeIndex: 15984 entries, 0 to 15983\n",
            "Data columns (total 12 columns):\n",
            "fare_amount          15984 non-null float64\n",
            "pickup_datetime      15984 non-null datetime64[ns]\n",
            "pickup_longitude     15984 non-null float64\n",
            "pickup_latitude      15984 non-null float64\n",
            "dropoff_longitude    15984 non-null float64\n",
            "dropoff_latitude     15984 non-null float64\n",
            "passenger_count      15984 non-null float64\n",
            "year                 15984 non-null int64\n",
            "Month                15984 non-null int64\n",
            "Date                 15984 non-null int64\n",
            "Day                  15984 non-null int64\n",
            "Hour                 15984 non-null int64\n",
            "dtypes: datetime64[ns](1), float64(6), int64(5)\n",
            "memory usage: 1.5 MB\n"
          ],
          "name": "stdout"
        }
      ]
    },
    {
      "cell_type": "code",
      "metadata": {
        "id": "k1TM3suD59LU",
        "colab_type": "code",
        "outputId": "e8e9cccf-6b63-4481-b2da-e873b0317ad7",
        "colab": {
          "base_uri": "https://localhost:8080/",
          "height": 289
        }
      },
      "source": [
        "test.info()"
      ],
      "execution_count": 59,
      "outputs": [
        {
          "output_type": "stream",
          "text": [
            "<class 'pandas.core.frame.DataFrame'>\n",
            "RangeIndex: 9914 entries, 0 to 9913\n",
            "Data columns (total 11 columns):\n",
            "pickup_datetime      9914 non-null datetime64[ns]\n",
            "pickup_longitude     9914 non-null float64\n",
            "pickup_latitude      9914 non-null float64\n",
            "dropoff_longitude    9914 non-null float64\n",
            "dropoff_latitude     9914 non-null float64\n",
            "passenger_count      9914 non-null int64\n",
            "year                 9914 non-null int64\n",
            "Month                9914 non-null int64\n",
            "Date                 9914 non-null int64\n",
            "Day                  9914 non-null int64\n",
            "Hour                 9914 non-null int64\n",
            "dtypes: datetime64[ns](1), float64(4), int64(6)\n",
            "memory usage: 852.1 KB\n"
          ],
          "name": "stdout"
        }
      ]
    },
    {
      "cell_type": "code",
      "metadata": {
        "id": "peKmwSbhyxDS",
        "colab_type": "code",
        "colab": {}
      },
      "source": [
        "train['passenger_count']=train['passenger_count'].astype(int)\n",
        "test['passenger_count']=test['passenger_count'].astype(int)"
      ],
      "execution_count": 0,
      "outputs": []
    },
    {
      "cell_type": "code",
      "metadata": {
        "id": "2GKLQtj2zlc1",
        "colab_type": "code",
        "outputId": "1d864c8a-34e3-4d25-9800-c06401ba4fd0",
        "colab": {
          "base_uri": "https://localhost:8080/",
          "height": 306
        }
      },
      "source": [
        "train.info()"
      ],
      "execution_count": 61,
      "outputs": [
        {
          "output_type": "stream",
          "text": [
            "<class 'pandas.core.frame.DataFrame'>\n",
            "RangeIndex: 15984 entries, 0 to 15983\n",
            "Data columns (total 12 columns):\n",
            "fare_amount          15984 non-null float64\n",
            "pickup_datetime      15984 non-null datetime64[ns]\n",
            "pickup_longitude     15984 non-null float64\n",
            "pickup_latitude      15984 non-null float64\n",
            "dropoff_longitude    15984 non-null float64\n",
            "dropoff_latitude     15984 non-null float64\n",
            "passenger_count      15984 non-null int64\n",
            "year                 15984 non-null int64\n",
            "Month                15984 non-null int64\n",
            "Date                 15984 non-null int64\n",
            "Day                  15984 non-null int64\n",
            "Hour                 15984 non-null int64\n",
            "dtypes: datetime64[ns](1), float64(5), int64(6)\n",
            "memory usage: 1.5 MB\n"
          ],
          "name": "stdout"
        }
      ]
    },
    {
      "cell_type": "code",
      "metadata": {
        "id": "lFRERCSCmvdl",
        "colab_type": "code",
        "colab": {}
      },
      "source": [
        "# Converting the year, day, month columns to str type for both training and testing set as they are categorical type values.\n",
        "train['year']=train['year'].astype(str)\n",
        "train['Month']=train['Month'].astype(str)\n",
        "train['Day']=train['Day'].astype(str)\n",
        "test['year']=test['year'].astype(str)\n",
        "test['Month']=test['Month'].astype(str)\n",
        "test['Day']=test['Day'].astype(str)"
      ],
      "execution_count": 0,
      "outputs": []
    },
    {
      "cell_type": "code",
      "metadata": {
        "id": "jRt5AWMcUO0o",
        "colab_type": "code",
        "outputId": "55de4345-20f0-42b1-83b2-74fbcbc7f391",
        "colab": {
          "base_uri": "https://localhost:8080/",
          "height": 306
        }
      },
      "source": [
        "# Checking the remaining records in the dataset.\n",
        "train.info()"
      ],
      "execution_count": 63,
      "outputs": [
        {
          "output_type": "stream",
          "text": [
            "<class 'pandas.core.frame.DataFrame'>\n",
            "RangeIndex: 15984 entries, 0 to 15983\n",
            "Data columns (total 12 columns):\n",
            "fare_amount          15984 non-null float64\n",
            "pickup_datetime      15984 non-null datetime64[ns]\n",
            "pickup_longitude     15984 non-null float64\n",
            "pickup_latitude      15984 non-null float64\n",
            "dropoff_longitude    15984 non-null float64\n",
            "dropoff_latitude     15984 non-null float64\n",
            "passenger_count      15984 non-null int64\n",
            "year                 15984 non-null object\n",
            "Month                15984 non-null object\n",
            "Date                 15984 non-null int64\n",
            "Day                  15984 non-null object\n",
            "Hour                 15984 non-null int64\n",
            "dtypes: datetime64[ns](1), float64(5), int64(3), object(3)\n",
            "memory usage: 1.5+ MB\n"
          ],
          "name": "stdout"
        }
      ]
    },
    {
      "cell_type": "code",
      "metadata": {
        "id": "t4KskVE0_gaJ",
        "colab_type": "code",
        "colab": {}
      },
      "source": [
        "# Resetting the row index for testing set.\n",
        "test=test.reset_index(drop=True)"
      ],
      "execution_count": 0,
      "outputs": []
    },
    {
      "cell_type": "code",
      "metadata": {
        "id": "NvVoSPiT6ndQ",
        "colab_type": "code",
        "outputId": "1a715eb4-0bb7-49f6-f637-fa18f22f336d",
        "colab": {
          "base_uri": "https://localhost:8080/",
          "height": 289
        }
      },
      "source": [
        "test.info()"
      ],
      "execution_count": 65,
      "outputs": [
        {
          "output_type": "stream",
          "text": [
            "<class 'pandas.core.frame.DataFrame'>\n",
            "RangeIndex: 9914 entries, 0 to 9913\n",
            "Data columns (total 11 columns):\n",
            "pickup_datetime      9914 non-null datetime64[ns]\n",
            "pickup_longitude     9914 non-null float64\n",
            "pickup_latitude      9914 non-null float64\n",
            "dropoff_longitude    9914 non-null float64\n",
            "dropoff_latitude     9914 non-null float64\n",
            "passenger_count      9914 non-null int64\n",
            "year                 9914 non-null object\n",
            "Month                9914 non-null object\n",
            "Date                 9914 non-null int64\n",
            "Day                  9914 non-null object\n",
            "Hour                 9914 non-null int64\n",
            "dtypes: datetime64[ns](1), float64(4), int64(3), object(3)\n",
            "memory usage: 852.1+ KB\n"
          ],
          "name": "stdout"
        }
      ]
    },
    {
      "cell_type": "code",
      "metadata": {
        "id": "LS6-iLA572e3",
        "colab_type": "code",
        "colab": {}
      },
      "source": [
        "# Creating list of continuous columns\n",
        "cnames=['fare_amount','pickup_latitude','pickup_longitude','dropoff_longitude','dropoff_latitude']"
      ],
      "execution_count": 0,
      "outputs": []
    },
    {
      "cell_type": "markdown",
      "metadata": {
        "id": "mFJOa_2DxnYk",
        "colab_type": "text"
      },
      "source": [
        "> Below boxplot for every continuous variable has been plotted so as to determine outliers if any."
      ]
    },
    {
      "cell_type": "code",
      "metadata": {
        "id": "Fo_mkMeosYRV",
        "colab_type": "code",
        "outputId": "dbff4f32-098e-4c96-ed4b-0688fb2423ce",
        "colab": {
          "base_uri": "https://localhost:8080/",
          "height": 312
        }
      },
      "source": [
        "plt.boxplot(train['fare_amount'])\n",
        "plt.xlabel(['fare amount'])\n",
        "plt.title(\"BoxPlot of fare amount\")\n",
        "plt.ylabel('Values')"
      ],
      "execution_count": 67,
      "outputs": [
        {
          "output_type": "execute_result",
          "data": {
            "text/plain": [
              "Text(0, 0.5, 'Values')"
            ]
          },
          "metadata": {
            "tags": []
          },
          "execution_count": 67
        },
        {
          "output_type": "display_data",
          "data": {
            "image/png": "[encoded data removed]",
            "text/plain": [
              "<Figure size 432x288 with 1 Axes>"
            ]
          },
          "metadata": {
            "tags": []
          }
        }
      ]
    },
    {
      "cell_type": "code",
      "metadata": {
        "id": "CKBoy1XAsYI9",
        "colab_type": "code",
        "outputId": "5d5b8d90-9bca-4010-82e5-5731799258ce",
        "colab": {
          "base_uri": "https://localhost:8080/",
          "height": 312
        }
      },
      "source": [
        "plt.boxplot(train['pickup_latitude'])\n",
        "plt.xlabel(['Pickup latitude'])\n",
        "plt.title(\"BoxPlot of Pickup latitude\")\n",
        "plt.ylabel('Values')"
      ],
      "execution_count": 68,
      "outputs": [
        {
          "output_type": "execute_result",
          "data": {
            "text/plain": [
              "Text(0, 0.5, 'Values')"
            ]
          },
          "metadata": {
            "tags": []
          },
          "execution_count": 68
        },
        {
          "output_type": "display_data",
          "data": {
            "image/png": "[encoded data removed]",
            "text/plain": [
              "<Figure size 432x288 with 1 Axes>"
            ]
          },
          "metadata": {
            "tags": []
          }
        }
      ]
    },
    {
      "cell_type": "code",
      "metadata": {
        "id": "OkxrgQS4sYEj",
        "colab_type": "code",
        "outputId": "0f122bff-4f1f-4a9e-fc9f-e38566923eff",
        "colab": {
          "base_uri": "https://localhost:8080/",
          "height": 312
        }
      },
      "source": [
        "plt.boxplot(train['pickup_longitude'])\n",
        "plt.xlabel(['Pickup longitude'])\n",
        "plt.title(\"BoxPlot of Pickup longitude\")\n",
        "plt.ylabel('Values')"
      ],
      "execution_count": 69,
      "outputs": [
        {
          "output_type": "execute_result",
          "data": {
            "text/plain": [
              "Text(0, 0.5, 'Values')"
            ]
          },
          "metadata": {
            "tags": []
          },
          "execution_count": 69
        },
        {
          "output_type": "display_data",
          "data": {
            "image/png": "[encoded data removed]",
            "text/plain": [
              "<Figure size 432x288 with 1 Axes>"
            ]
          },
          "metadata": {
            "tags": []
          }
        }
      ]
    },
    {
      "cell_type": "code",
      "metadata": {
        "id": "p808jXtqsX6v",
        "colab_type": "code",
        "outputId": "69ae603a-104a-44ef-fdf7-f6e2b4433fda",
        "colab": {
          "base_uri": "https://localhost:8080/",
          "height": 312
        }
      },
      "source": [
        "plt.boxplot(train['dropoff_latitude'])\n",
        "plt.xlabel(['Dropoff latitude'])\n",
        "plt.title(\"BoxPlot of Dropoff latitude\")\n",
        "plt.ylabel('Values')"
      ],
      "execution_count": 70,
      "outputs": [
        {
          "output_type": "execute_result",
          "data": {
            "text/plain": [
              "Text(0, 0.5, 'Values')"
            ]
          },
          "metadata": {
            "tags": []
          },
          "execution_count": 70
        },
        {
          "output_type": "display_data",
          "data": {
            "image/png": "[encoded data removed]",
            "text/plain": [
              "<Figure size 432x288 with 1 Axes>"
            ]
          },
          "metadata": {
            "tags": []
          }
        }
      ]
    },
    {
      "cell_type": "code",
      "metadata": {
        "id": "uH74Mz-AsX26",
        "colab_type": "code",
        "outputId": "74886913-53f4-4979-8608-ccb80204f933",
        "colab": {
          "base_uri": "https://localhost:8080/",
          "height": 312
        }
      },
      "source": [
        "plt.boxplot(train['dropoff_longitude'])\n",
        "plt.xlabel(['dropoff longitude'])\n",
        "plt.title(\"BoxPlot of dropoff longitude\")\n",
        "plt.ylabel('Values')"
      ],
      "execution_count": 71,
      "outputs": [
        {
          "output_type": "execute_result",
          "data": {
            "text/plain": [
              "Text(0, 0.5, 'Values')"
            ]
          },
          "metadata": {
            "tags": []
          },
          "execution_count": 71
        },
        {
          "output_type": "display_data",
          "data": {
            "image/png": "[encoded data removed]",
            "text/plain": [
              "<Figure size 432x288 with 1 Axes>"
            ]
          },
          "metadata": {
            "tags": []
          }
        }
      ]
    },
    {
      "cell_type": "markdown",
      "metadata": {
        "id": "o2R_JG4Xx3kE",
        "colab_type": "text"
      },
      "source": [
        "> Boxplot for every continuous column in the testing set"
      ]
    },
    {
      "cell_type": "code",
      "metadata": {
        "id": "i0SnFN44q5SB",
        "colab_type": "code",
        "outputId": "6af58c9c-b9ff-487d-b77e-d0e153f4a96f",
        "colab": {
          "base_uri": "https://localhost:8080/",
          "height": 312
        }
      },
      "source": [
        "plt.boxplot(test['pickup_latitude'])\n",
        "plt.xlabel(['Pickup latitude'])\n",
        "plt.title(\"BoxPlot of Pickup latitude\")\n",
        "plt.ylabel('Values')"
      ],
      "execution_count": 72,
      "outputs": [
        {
          "output_type": "execute_result",
          "data": {
            "text/plain": [
              "Text(0, 0.5, 'Values')"
            ]
          },
          "metadata": {
            "tags": []
          },
          "execution_count": 72
        },
        {
          "output_type": "display_data",
          "data": {
            "image/png": "[encoded data removed]",
            "text/plain": [
              "<Figure size 432x288 with 1 Axes>"
            ]
          },
          "metadata": {
            "tags": []
          }
        }
      ]
    },
    {
      "cell_type": "code",
      "metadata": {
        "id": "Gd2hBPxvq5QY",
        "colab_type": "code",
        "outputId": "33487fad-1c3c-4a72-9da7-b91e03acc470",
        "colab": {
          "base_uri": "https://localhost:8080/",
          "height": 312
        }
      },
      "source": [
        "plt.boxplot(test['pickup_longitude'])\n",
        "plt.xlabel(['pickup longitude'])\n",
        "plt.title(\"BoxPlot of pickup longitude\")\n",
        "plt.ylabel('Values')"
      ],
      "execution_count": 73,
      "outputs": [
        {
          "output_type": "execute_result",
          "data": {
            "text/plain": [
              "Text(0, 0.5, 'Values')"
            ]
          },
          "metadata": {
            "tags": []
          },
          "execution_count": 73
        },
        {
          "output_type": "display_data",
          "data": {
            "image/png": "[encoded data removed]",
            "text/plain": [
              "<Figure size 432x288 with 1 Axes>"
            ]
          },
          "metadata": {
            "tags": []
          }
        }
      ]
    },
    {
      "cell_type": "code",
      "metadata": {
        "id": "kzOEORWAq5L3",
        "colab_type": "code",
        "outputId": "4bed9378-5439-4a5f-9b1d-8f2d3e6e4823",
        "colab": {
          "base_uri": "https://localhost:8080/",
          "height": 312
        }
      },
      "source": [
        "plt.boxplot(test['dropoff_latitude'])\n",
        "plt.xlabel(['dropoff latitude'])\n",
        "plt.title(\"BoxPlot of dropoff latitude\")\n",
        "plt.ylabel('Values')"
      ],
      "execution_count": 74,
      "outputs": [
        {
          "output_type": "execute_result",
          "data": {
            "text/plain": [
              "Text(0, 0.5, 'Values')"
            ]
          },
          "metadata": {
            "tags": []
          },
          "execution_count": 74
        },
        {
          "output_type": "display_data",
          "data": {
            "image/png": "[encoded data removed]",
            "text/plain": [
              "<Figure size 432x288 with 1 Axes>"
            ]
          },
          "metadata": {
            "tags": []
          }
        }
      ]
    },
    {
      "cell_type": "code",
      "metadata": {
        "id": "AVEv89Kuq5J_",
        "colab_type": "code",
        "outputId": "f0e93fce-0d8a-4b79-abe8-3c84d15abf9b",
        "colab": {
          "base_uri": "https://localhost:8080/",
          "height": 312
        }
      },
      "source": [
        "plt.boxplot(test['dropoff_longitude'])\n",
        "plt.xlabel(['dropoff longitude'])\n",
        "plt.title(\"BoxPlot of dropoff_longitude\")\n",
        "plt.ylabel('Values')"
      ],
      "execution_count": 75,
      "outputs": [
        {
          "output_type": "execute_result",
          "data": {
            "text/plain": [
              "Text(0, 0.5, 'Values')"
            ]
          },
          "metadata": {
            "tags": []
          },
          "execution_count": 75
        },
        {
          "output_type": "display_data",
          "data": {
            "image/png": "[encoded data removed]",
            "text/plain": [
              "<Figure size 432x288 with 1 Axes>"
            ]
          },
          "metadata": {
            "tags": []
          }
        }
      ]
    },
    {
      "cell_type": "markdown",
      "metadata": {
        "id": "QnbWBIJPyACW",
        "colab_type": "text"
      },
      "source": [
        "### Outlier Analysis Using Capping and Flooring method\n",
        "> Here we have defined outliers as some value which is greater than q75+1.5*iqr or less than q25-1.5*iqr, where q75,q25 is the 75th and 25th percentile of the given continnuous variable,iqr the inter-quartile range of that variable.\n",
        "\n",
        "> In the flooring and capping method of outliers analysis we replace those values exceeding q75+1.5*iqr with q75+1.5*iqr and those below q25-1.5*iqr with q25-1.5*iqr."
      ]
    },
    {
      "cell_type": "code",
      "metadata": {
        "id": "no0EIoKkl9UT",
        "colab_type": "code",
        "colab": {}
      },
      "source": [
        "def outlier_analysis(t,c):\n",
        "    q75,q25=np.percentile(t[c],[75,25])\n",
        "    iqr=q75-q25\n",
        "    min=q25-(iqr*1.5)\n",
        "    max=q75+(iqr*1.5)\n",
        "    for i in range(t.shape[0]):\n",
        "        if(t.loc[i,c] > max):\n",
        "            t.loc[i,c]=max\n",
        "        elif(t.loc[i,c] < min):\n",
        "            t.loc[i,c]=min  \n",
        "    return(t)"
      ],
      "execution_count": 0,
      "outputs": []
    },
    {
      "cell_type": "code",
      "metadata": {
        "colab_type": "code",
        "id": "b3lQsCJbpTRT",
        "colab": {}
      },
      "source": [
        "# Creating a list of variables having outliers.\n",
        "out_var=['dropoff_latitude', 'dropoff_longitude', 'fare_amount', 'pickup_latitude', 'pickup_longitude']"
      ],
      "execution_count": 0,
      "outputs": []
    },
    {
      "cell_type": "code",
      "metadata": {
        "colab_type": "code",
        "id": "qg1bIXDBpTRY",
        "colab": {}
      },
      "source": [
        "# Removing outliers form the training set.\n",
        "for i in out_var:\n",
        "    train=outlier_analysis(train,i)"
      ],
      "execution_count": 0,
      "outputs": []
    },
    {
      "cell_type": "code",
      "metadata": {
        "id": "iNwzDWF1tgUt",
        "colab_type": "code",
        "outputId": "3f305969-3966-40b4-cca2-ae747b6fbe87",
        "colab": {
          "base_uri": "https://localhost:8080/",
          "height": 306
        }
      },
      "source": [
        "train.info()"
      ],
      "execution_count": 79,
      "outputs": [
        {
          "output_type": "stream",
          "text": [
            "<class 'pandas.core.frame.DataFrame'>\n",
            "RangeIndex: 15984 entries, 0 to 15983\n",
            "Data columns (total 12 columns):\n",
            "fare_amount          15984 non-null float64\n",
            "pickup_datetime      15984 non-null datetime64[ns]\n",
            "pickup_longitude     15984 non-null float64\n",
            "pickup_latitude      15984 non-null float64\n",
            "dropoff_longitude    15984 non-null float64\n",
            "dropoff_latitude     15984 non-null float64\n",
            "passenger_count      15984 non-null int64\n",
            "year                 15984 non-null object\n",
            "Month                15984 non-null object\n",
            "Date                 15984 non-null int64\n",
            "Day                  15984 non-null object\n",
            "Hour                 15984 non-null int64\n",
            "dtypes: datetime64[ns](1), float64(5), int64(3), object(3)\n",
            "memory usage: 1.5+ MB\n"
          ],
          "name": "stdout"
        }
      ]
    },
    {
      "cell_type": "code",
      "metadata": {
        "colab_type": "code",
        "id": "kxoYBERBpTRa",
        "colab": {}
      },
      "source": [
        "# List of variables containing outliers in the testing set.\n",
        "out_var=['dropoff_latitude', 'dropoff_longitude', 'pickup_latitude', 'pickup_longitude']"
      ],
      "execution_count": 0,
      "outputs": []
    },
    {
      "cell_type": "code",
      "metadata": {
        "colab_type": "code",
        "id": "awrOdrTSpTRb",
        "colab": {}
      },
      "source": [
        "# Removing outliers form the training set.\n",
        "for i in out_var:\n",
        "    test=outlier_analysis(test,i)"
      ],
      "execution_count": 0,
      "outputs": []
    },
    {
      "cell_type": "code",
      "metadata": {
        "id": "jOS8fx8rtjpm",
        "colab_type": "code",
        "outputId": "2f845c26-0045-41ab-d614-c684c0975b0f",
        "colab": {
          "base_uri": "https://localhost:8080/",
          "height": 289
        }
      },
      "source": [
        "test.info()"
      ],
      "execution_count": 82,
      "outputs": [
        {
          "output_type": "stream",
          "text": [
            "<class 'pandas.core.frame.DataFrame'>\n",
            "RangeIndex: 9914 entries, 0 to 9913\n",
            "Data columns (total 11 columns):\n",
            "pickup_datetime      9914 non-null datetime64[ns]\n",
            "pickup_longitude     9914 non-null float64\n",
            "pickup_latitude      9914 non-null float64\n",
            "dropoff_longitude    9914 non-null float64\n",
            "dropoff_latitude     9914 non-null float64\n",
            "passenger_count      9914 non-null int64\n",
            "year                 9914 non-null object\n",
            "Month                9914 non-null object\n",
            "Date                 9914 non-null int64\n",
            "Day                  9914 non-null object\n",
            "Hour                 9914 non-null int64\n",
            "dtypes: datetime64[ns](1), float64(4), int64(3), object(3)\n",
            "memory usage: 852.1+ KB\n"
          ],
          "name": "stdout"
        }
      ]
    },
    {
      "cell_type": "markdown",
      "metadata": {
        "id": "EbzekATvyyzc",
        "colab_type": "text"
      },
      "source": [
        "## Feature Engineering"
      ]
    },
    {
      "cell_type": "markdown",
      "metadata": {
        "id": "i0hEkxgazMAO",
        "colab_type": "text"
      },
      "source": [
        "> Here using the the four latitudes and longitudes distance travelled in meters has been calculated by the cab. Haversine formula has been used."
      ]
    },
    {
      "cell_type": "code",
      "metadata": {
        "colab_type": "code",
        "id": "VSqX_BAH-wJ2",
        "colab": {}
      },
      "source": [
        "# Importing relevant libraries\n",
        "from math import radians, cos, sin, asin, sqrt"
      ],
      "execution_count": 0,
      "outputs": []
    },
    {
      "cell_type": "code",
      "metadata": {
        "colab_type": "code",
        "id": "l9ZbmjpJ-wJ_",
        "colab": {}
      },
      "source": [
        "# Function for calculating distance using two set of latitudes and longitudes.\n",
        "def distance(lat1, lat2, lon1, lon2): \n",
        "    lon1 = radians(lon1) \n",
        "    lon2 = radians(lon2) \n",
        "    lat1 = radians(lat1) \n",
        "    lat2 = radians(lat2) \n",
        "       \n",
        "    # Haversine formula  \n",
        "    dlon = lon2 - lon1  \n",
        "    dlat = lat2 - lat1 \n",
        "    a = sin(dlat / 2)**2 + cos(lat1) * cos(lat2) * sin(dlon / 2)**2\n",
        "    c = 2 * asin(sqrt(a))  \n",
        "    # Radius of earth in kilometers. \n",
        "    r = 6371 \n",
        "    return(c * r)"
      ],
      "execution_count": 0,
      "outputs": []
    },
    {
      "cell_type": "code",
      "metadata": {
        "id": "oIJwvVAR6f2y",
        "colab_type": "code",
        "colab": {}
      },
      "source": [
        "# Calculating distance for training set records\n",
        "for i in range(train.shape[0]):\n",
        "    train.loc[i,'distance']=distance(train.loc[i,'pickup_latitude'],train.loc[i,'dropoff_latitude'],train.loc[i,'pickup_longitude'],train.loc[i,'dropoff_longitude'])"
      ],
      "execution_count": 0,
      "outputs": []
    },
    {
      "cell_type": "code",
      "metadata": {
        "id": "U0CMV_zg6ugM",
        "colab_type": "code",
        "colab": {}
      },
      "source": [
        "# Calculating distance for testing set records\n",
        "for i in range(test.shape[0]):\n",
        "    test.loc[i,'distance']=distance(test.loc[i,'pickup_latitude'],test.loc[i,'dropoff_latitude'],test.loc[i,'pickup_longitude'],test.loc[i,'dropoff_longitude'])"
      ],
      "execution_count": 0,
      "outputs": []
    },
    {
      "cell_type": "code",
      "metadata": {
        "id": "SmCZlcRfYvQa",
        "colab_type": "code",
        "colab": {}
      },
      "source": [
        "# Dropping the four columns of latitude and longitude from both training and testing sets.\n",
        "train=train.drop(['dropoff_latitude', 'dropoff_longitude', 'pickup_latitude', 'pickup_longitude'],axis=1)"
      ],
      "execution_count": 0,
      "outputs": []
    },
    {
      "cell_type": "code",
      "metadata": {
        "id": "SFtkKV3MZRop",
        "colab_type": "code",
        "colab": {}
      },
      "source": [
        "test=test.drop(['dropoff_latitude', 'dropoff_longitude', 'pickup_latitude', 'pickup_longitude'],axis=1)"
      ],
      "execution_count": 0,
      "outputs": []
    },
    {
      "cell_type": "code",
      "metadata": {
        "id": "R6AR2zneZNDD",
        "colab_type": "code",
        "outputId": "276dde9d-94ec-47bd-a294-a0f46300bc8e",
        "colab": {
          "base_uri": "https://localhost:8080/",
          "height": 255
        }
      },
      "source": [
        "# Checking for the above operation\n",
        "train.info()"
      ],
      "execution_count": 89,
      "outputs": [
        {
          "output_type": "stream",
          "text": [
            "<class 'pandas.core.frame.DataFrame'>\n",
            "RangeIndex: 15984 entries, 0 to 15983\n",
            "Data columns (total 9 columns):\n",
            "fare_amount        15984 non-null float64\n",
            "pickup_datetime    15984 non-null datetime64[ns]\n",
            "passenger_count    15984 non-null int64\n",
            "year               15984 non-null object\n",
            "Month              15984 non-null object\n",
            "Date               15984 non-null int64\n",
            "Day                15984 non-null object\n",
            "Hour               15984 non-null int64\n",
            "distance           15984 non-null float64\n",
            "dtypes: datetime64[ns](1), float64(2), int64(3), object(3)\n",
            "memory usage: 1.1+ MB\n"
          ],
          "name": "stdout"
        }
      ]
    },
    {
      "cell_type": "code",
      "metadata": {
        "id": "ApXSQN6N67m7",
        "colab_type": "code",
        "outputId": "79e0f136-a61b-494a-b578-9b5be7346130",
        "colab": {
          "base_uri": "https://localhost:8080/",
          "height": 238
        }
      },
      "source": [
        "test.info()"
      ],
      "execution_count": 90,
      "outputs": [
        {
          "output_type": "stream",
          "text": [
            "<class 'pandas.core.frame.DataFrame'>\n",
            "RangeIndex: 9914 entries, 0 to 9913\n",
            "Data columns (total 8 columns):\n",
            "pickup_datetime    9914 non-null datetime64[ns]\n",
            "passenger_count    9914 non-null int64\n",
            "year               9914 non-null object\n",
            "Month              9914 non-null object\n",
            "Date               9914 non-null int64\n",
            "Day                9914 non-null object\n",
            "Hour               9914 non-null int64\n",
            "distance           9914 non-null float64\n",
            "dtypes: datetime64[ns](1), float64(1), int64(3), object(3)\n",
            "memory usage: 619.8+ KB\n"
          ],
          "name": "stdout"
        }
      ]
    },
    {
      "cell_type": "markdown",
      "metadata": {
        "id": "WPy5nzaS1Hcf",
        "colab_type": "text"
      },
      "source": [
        "> Adding a new column Time of day in both training and testing set. Here I have divided the entire day in four sections depending upon the pickup hour of the passenger\n",
        "\n",
        "> 3am to 9am: Morning\n",
        "\n",
        "> 9am to 3pm: Day\n",
        "\n",
        "> 3pm to 9pm: Evening\n",
        "\n",
        "> 9pm to 2am: Night"
      ]
    },
    {
      "cell_type": "code",
      "metadata": {
        "id": "TF0_gREz0HK0",
        "colab_type": "code",
        "colab": {}
      },
      "source": [
        "# Adding a new column time of day in training set\n",
        "for i in range(train.shape[0]):\n",
        "    if(train.loc[i,'Hour']>3 and train.loc[i,'Hour']<=9):\n",
        "        train.loc[i,'Time_of_day']='Morning'\n",
        "    elif(train.loc[i,'Hour']>9 and train.loc[i,'Hour']<=15):\n",
        "        train.loc[i,'Time_of_day']='Day'\n",
        "    elif(train.loc[i,'Hour']>15 and train.loc[i,'Hour']<=21):\n",
        "        train.loc[i,'Time_of_day']='Evening'\n",
        "    elif(train.loc[i,'Hour']>21 or train.loc[i,'Hour']<=3):\n",
        "        train.loc[i,'Time_of_day']='Night'    "
      ],
      "execution_count": 0,
      "outputs": []
    },
    {
      "cell_type": "code",
      "metadata": {
        "id": "Dgnl6Ujn6Us1",
        "colab_type": "code",
        "colab": {}
      },
      "source": [
        "# Adding a new column time of day in testing set\n",
        "for i in range(test.shape[0]):\n",
        "    if(test.loc[i,'Hour']>3 and test.loc[i,'Hour']<=9):\n",
        "        test.loc[i,'Time_of_day']='Morning'\n",
        "    elif(test.loc[i,'Hour']>9 and test.loc[i,'Hour']<=15):\n",
        "        test.loc[i,'Time_of_day']='Day'\n",
        "    elif(test.loc[i,'Hour']>15 and test.loc[i,'Hour']<=21):\n",
        "        test.loc[i,'Time_of_day']='Evening'\n",
        "    elif(test.loc[i,'Hour']>21 or test.loc[i,'Hour']<=3):\n",
        "        test.loc[i,'Time_of_day']='Night'  "
      ],
      "execution_count": 0,
      "outputs": []
    },
    {
      "cell_type": "markdown",
      "metadata": {
        "id": "tqkXUJKk3HWR",
        "colab_type": "text"
      },
      "source": [
        "## Exploratory Analysis"
      ]
    },
    {
      "cell_type": "code",
      "metadata": {
        "id": "686pSGfB3MMy",
        "colab_type": "code",
        "outputId": "a6a54d40-1f53-435a-afb8-85b60a26621f",
        "colab": {
          "base_uri": "https://localhost:8080/",
          "height": 575
        }
      },
      "source": [
        "k=train['year'].value_counts()\n",
        "k.plot(kind='pie',figsize=(20,10),legend=True)\n",
        "plt.legend(loc=0,bbox_to_anchor=(1.5,0.5));"
      ],
      "execution_count": 93,
      "outputs": [
        {
          "output_type": "display_data",
          "data": {
            "image/png": "[encoded data removed]",
            "text/plain": [
              "<Figure size 1440x720 with 1 Axes>"
            ]
          },
          "metadata": {
            "tags": []
          }
        }
      ]
    },
    {
      "cell_type": "markdown",
      "metadata": {
        "id": "yB9HsogQ3jj5",
        "colab_type": "text"
      },
      "source": [
        "> From the above pie of year ir is clear that the data set contains approximately equal proportion of data from every year."
      ]
    },
    {
      "cell_type": "code",
      "metadata": {
        "id": "E8AyqdLy3MK6",
        "colab_type": "code",
        "outputId": "c198d2c1-eb82-4ee6-e244-de6f4c876802",
        "colab": {
          "base_uri": "https://localhost:8080/",
          "height": 575
        }
      },
      "source": [
        "k=train['Month'].value_counts()\n",
        "k.plot(kind='pie',figsize=(20,10),legend=True)\n",
        "plt.legend(loc=0,bbox_to_anchor=(1.5,0.5));"
      ],
      "execution_count": 94,
      "outputs": [
        {
          "output_type": "display_data",
          "data": {
            "image/png": "[encoded data removed]",
            "text/plain": [
              "<Figure size 1440x720 with 1 Axes>"
            ]
          },
          "metadata": {
            "tags": []
          }
        }
      ]
    },
    {
      "cell_type": "markdown",
      "metadata": {
        "id": "UF24bFXt315n",
        "colab_type": "text"
      },
      "source": [
        "> From the above pie chart it is clear that approximately every month has equal contribution."
      ]
    },
    {
      "cell_type": "code",
      "metadata": {
        "id": "0hu6GGwd3MIW",
        "colab_type": "code",
        "outputId": "9765d3fa-ebb2-4199-8bf1-9e4193fdcfba",
        "colab": {
          "base_uri": "https://localhost:8080/",
          "height": 575
        }
      },
      "source": [
        "k=train['Day'].value_counts()\n",
        "k.plot(kind='pie',figsize=(20,10),legend=True)\n",
        "plt.legend(loc=0,bbox_to_anchor=(1.5,0.5));"
      ],
      "execution_count": 95,
      "outputs": [
        {
          "output_type": "display_data",
          "data": {
            "image/png": "[encoded data removed]",
            "text/plain": [
              "<Figure size 1440x720 with 1 Axes>"
            ]
          },
          "metadata": {
            "tags": []
          }
        }
      ]
    },
    {
      "cell_type": "markdown",
      "metadata": {
        "id": "MQ52wYoc4FVv",
        "colab_type": "text"
      },
      "source": [
        "> From the above pie chart every day of the appears to be in almost same proportion in the dataset."
      ]
    },
    {
      "cell_type": "code",
      "metadata": {
        "id": "iBMkNct_3MEx",
        "colab_type": "code",
        "outputId": "c56c5acd-f3b8-4e10-a8b4-83efe9b65823",
        "colab": {
          "base_uri": "https://localhost:8080/",
          "height": 575
        }
      },
      "source": [
        "k=train['Time_of_day'].value_counts()\n",
        "k.plot(kind='pie',figsize=(20,10),legend=True)\n",
        "plt.legend(loc=0,bbox_to_anchor=(1.5,0.5));"
      ],
      "execution_count": 96,
      "outputs": [
        {
          "output_type": "display_data",
          "data": {
            "image/png": "[encoded data removed]",
            "text/plain": [
              "<Figure size 1440x720 with 1 Axes>"
            ]
          },
          "metadata": {
            "tags": []
          }
        }
      ]
    },
    {
      "cell_type": "markdown",
      "metadata": {
        "id": "qUvYZauE4gTk",
        "colab_type": "text"
      },
      "source": [
        "> From the above pie chart it is clear that majority rides took place in the evening, followed by Day and Night."
      ]
    },
    {
      "cell_type": "code",
      "metadata": {
        "id": "pokjeo0ASoWL",
        "colab_type": "code",
        "outputId": "ca7d18ac-0062-4a79-a9f0-6ceba7f890cc",
        "colab": {
          "base_uri": "https://localhost:8080/",
          "height": 320
        }
      },
      "source": [
        "plt.figure(figsize=[10,5])\n",
        "plt.hist(x='fare_amount',data=train);"
      ],
      "execution_count": 97,
      "outputs": [
        {
          "output_type": "display_data",
          "data": {
            "image/png": "[encoded data removed]",
            "text/plain": [
              "<Figure size 720x360 with 1 Axes>"
            ]
          },
          "metadata": {
            "tags": []
          }
        }
      ]
    },
    {
      "cell_type": "markdown",
      "metadata": {
        "id": "CvZjoVEx5xJh",
        "colab_type": "text"
      },
      "source": [
        "> From above histogram of fare amonut is is clear that it varies between 2 to more than 20 approximately."
      ]
    },
    {
      "cell_type": "code",
      "metadata": {
        "id": "Rkbgbculx4c_",
        "colab_type": "code",
        "outputId": "0c8ac815-f376-4685-b093-2df9e7815505",
        "colab": {
          "base_uri": "https://localhost:8080/",
          "height": 320
        }
      },
      "source": [
        "plt.figure(figsize=[10,5])\n",
        "plt.hist(x='distance',data=train);"
      ],
      "execution_count": 98,
      "outputs": [
        {
          "output_type": "display_data",
          "data": {
            "image/png": "[encoded data removed]",
            "text/plain": [
              "<Figure size 720x360 with 1 Axes>"
            ]
          },
          "metadata": {
            "tags": []
          }
        }
      ]
    },
    {
      "cell_type": "markdown",
      "metadata": {
        "id": "QMyXFxj66Ppb",
        "colab_type": "text"
      },
      "source": [
        "> From above histogram it is clear that the distance column is right skewed."
      ]
    },
    {
      "cell_type": "code",
      "metadata": {
        "id": "U11-LsR-MWI0",
        "colab_type": "code",
        "outputId": "0e0f076e-286f-4bf6-9694-47e37e58af19",
        "colab": {
          "base_uri": "https://localhost:8080/",
          "height": 272
        }
      },
      "source": [
        "train.info()"
      ],
      "execution_count": 99,
      "outputs": [
        {
          "output_type": "stream",
          "text": [
            "<class 'pandas.core.frame.DataFrame'>\n",
            "RangeIndex: 15984 entries, 0 to 15983\n",
            "Data columns (total 10 columns):\n",
            "fare_amount        15984 non-null float64\n",
            "pickup_datetime    15984 non-null datetime64[ns]\n",
            "passenger_count    15984 non-null int64\n",
            "year               15984 non-null object\n",
            "Month              15984 non-null object\n",
            "Date               15984 non-null int64\n",
            "Day                15984 non-null object\n",
            "Hour               15984 non-null int64\n",
            "distance           15984 non-null float64\n",
            "Time_of_day        15984 non-null object\n",
            "dtypes: datetime64[ns](1), float64(2), int64(3), object(4)\n",
            "memory usage: 1.2+ MB\n"
          ],
          "name": "stdout"
        }
      ]
    },
    {
      "cell_type": "markdown",
      "metadata": {
        "id": "kxitsAHy-BI-",
        "colab_type": "text"
      },
      "source": [
        "> As both the above continuous variable has skewed data thus normalising it."
      ]
    },
    {
      "cell_type": "code",
      "metadata": {
        "id": "2ZdDjv_yKfwc",
        "colab_type": "code",
        "outputId": "d72c2dd6-540f-4da5-e922-cfab5e4f505d",
        "colab": {
          "base_uri": "https://localhost:8080/",
          "height": 606
        }
      },
      "source": [
        "plt.figure(figsize=[15,10])\n",
        "sb.scatterplot(x='fare_amount',y='distance',hue='Time_of_day',data=train)\n",
        "plt.legend(loc='best');"
      ],
      "execution_count": 100,
      "outputs": [
        {
          "output_type": "display_data",
          "data": {
            "image/png": "[encoded data removed]",
            "text/plain": [
              "<Figure size 1080x720 with 1 Axes>"
            ]
          },
          "metadata": {
            "tags": []
          }
        }
      ]
    },
    {
      "cell_type": "markdown",
      "metadata": {
        "id": "5cQtLQGANAY6",
        "colab_type": "text"
      },
      "source": [
        "> The figure above shows scatter plot between distance and fare amount with hue as time of day. It is clear that majority of cab rides occur in Evening followed by Day and Night."
      ]
    },
    {
      "cell_type": "code",
      "metadata": {
        "id": "YIc1RP1rzWUj",
        "colab_type": "code",
        "colab": {}
      },
      "source": [
        "# Creating a list of continuous variables\n",
        "cnames=['distance']"
      ],
      "execution_count": 0,
      "outputs": []
    },
    {
      "cell_type": "code",
      "metadata": {
        "id": "T1pH18ZYufBn",
        "colab_type": "code",
        "colab": {}
      },
      "source": [
        "for i in cnames:\n",
        "    train[i] = (train[i] - train[i].min())/(train[i].max()-train[i].min())"
      ],
      "execution_count": 0,
      "outputs": []
    },
    {
      "cell_type": "code",
      "metadata": {
        "id": "p6zcl9mCbvW8",
        "colab_type": "code",
        "colab": {}
      },
      "source": [
        "for i in cnames:\n",
        "    test[i] = (test[i] - test[i].min())/(test[i].max()-test[i].min())"
      ],
      "execution_count": 0,
      "outputs": []
    },
    {
      "cell_type": "markdown",
      "metadata": {
        "id": "oWp4_yw62Tsd",
        "colab_type": "text"
      },
      "source": [
        "## Feature Selection\n",
        "> Here  correlation plot has been drawn among all the continuous variables"
      ]
    },
    {
      "cell_type": "code",
      "metadata": {
        "id": "8X8fUAn2-Dsl",
        "colab_type": "code",
        "colab": {}
      },
      "source": [
        "d1=train[['distance','fare_amount','passenger_count']]"
      ],
      "execution_count": 0,
      "outputs": []
    },
    {
      "cell_type": "code",
      "metadata": {
        "id": "ByPelHAG4B6L",
        "colab_type": "code",
        "outputId": "88dffb4b-9cc2-4790-90c4-1e2212c22d4f",
        "colab": {
          "base_uri": "https://localhost:8080/",
          "height": 153
        }
      },
      "source": [
        "d1.info()"
      ],
      "execution_count": 105,
      "outputs": [
        {
          "output_type": "stream",
          "text": [
            "<class 'pandas.core.frame.DataFrame'>\n",
            "RangeIndex: 15984 entries, 0 to 15983\n",
            "Data columns (total 3 columns):\n",
            "distance           15984 non-null float64\n",
            "fare_amount        15984 non-null float64\n",
            "passenger_count    15984 non-null int64\n",
            "dtypes: float64(2), int64(1)\n",
            "memory usage: 374.8 KB\n"
          ],
          "name": "stdout"
        }
      ]
    },
    {
      "cell_type": "code",
      "metadata": {
        "id": "tlQe0xPF9vx3",
        "colab_type": "code",
        "outputId": "46e25d66-0b84-4d14-9a0e-837d76964a58",
        "colab": {
          "base_uri": "https://localhost:8080/",
          "height": 488
        }
      },
      "source": [
        "import seaborn as sb\n",
        "f, ax = plt.subplots(figsize=(20, 8))\n",
        "corr = d1.corr()\n",
        "sb.heatmap(corr, mask=np.zeros_like(corr,dtype=np.bool),cmap=sb.diverging_palette(220, 10, as_cmap=True),annot=True,ax=ax,);"
      ],
      "execution_count": 106,
      "outputs": [
        {
          "output_type": "display_data",
          "data": {
            "image/png": "[encoded data removed]",
            "text/plain": [
              "<Figure size 1440x576 with 2 Axes>"
            ]
          },
          "metadata": {
            "tags": []
          }
        }
      ]
    },
    {
      "cell_type": "markdown",
      "metadata": {
        "id": "RLmvrPeG4OAT",
        "colab_type": "text"
      },
      "source": [
        "> From the above heatmap it is clear that fare amount has a high correlation coefficient of 0.79 with distance. "
      ]
    },
    {
      "cell_type": "code",
      "metadata": {
        "id": "3Sgc6yOENxEt",
        "colab_type": "code",
        "colab": {}
      },
      "source": [
        "# Replacing string with integers for calculating anova with fare amount\n",
        "train['Time_of_day']=train['Time_of_day'].map({'Morning':0,'Day':1,'Evening':2,'Night':3})"
      ],
      "execution_count": 0,
      "outputs": []
    },
    {
      "cell_type": "code",
      "metadata": {
        "id": "FZ5efF0d7lbf",
        "colab_type": "code",
        "colab": {}
      },
      "source": [
        "test['Time_of_day']=test['Time_of_day'].map({'Morning':0,'Day':1,'Evening':2,'Night':3})"
      ],
      "execution_count": 0,
      "outputs": []
    },
    {
      "cell_type": "code",
      "metadata": {
        "id": "U_5UbsuO59Dq",
        "colab_type": "code",
        "outputId": "b4ba54bd-3404-4b90-8ea5-583207ac05aa",
        "colab": {
          "base_uri": "https://localhost:8080/",
          "height": 606
        }
      },
      "source": [
        "plt.figure(figsize=[15,10])\n",
        "sb.barplot(y='fare_amount',x='year',hue='Time_of_day',data=train)\n",
        "plt.legend(loc='best');"
      ],
      "execution_count": 109,
      "outputs": [
        {
          "output_type": "display_data",
          "data": {
            "image/png": "[encoded data removed]",
            "text/plain": [
              "<Figure size 1080x720 with 1 Axes>"
            ]
          },
          "metadata": {
            "tags": []
          }
        }
      ]
    },
    {
      "cell_type": "code",
      "metadata": {
        "id": "U9LWSPX1KfRV",
        "colab_type": "code",
        "outputId": "44d44dd5-cae2-4dc3-ccec-4036132785d9",
        "colab": {
          "base_uri": "https://localhost:8080/",
          "height": 419
        }
      },
      "source": [
        "plt.figure(figsize=[15,10])\n",
        "sb.factorplot(data=train, x='Time_of_day', kind= 'count',size=4,aspect=2)\n",
        "plt.legend(loc='best');"
      ],
      "execution_count": 110,
      "outputs": [
        {
          "output_type": "stream",
          "text": [
            "/usr/local/lib/python3.6/dist-packages/seaborn/categorical.py:3666: UserWarning: The `factorplot` function has been renamed to `catplot`. The original name will be removed in a future release. Please update your code. Note that the default `kind` in `factorplot` (`'point'`) has changed `'strip'` in `catplot`.\n",
            "  warnings.warn(msg)\n",
            "/usr/local/lib/python3.6/dist-packages/seaborn/categorical.py:3672: UserWarning: The `size` paramter has been renamed to `height`; please update your code.\n",
            "  warnings.warn(msg, UserWarning)\n",
            "No handles with labels found to put in legend.\n"
          ],
          "name": "stderr"
        },
        {
          "output_type": "display_data",
          "data": {
            "text/plain": [
              "<Figure size 1080x720 with 0 Axes>"
            ]
          },
          "metadata": {
            "tags": []
          }
        },
        {
          "output_type": "display_data",
          "data": {
            "image/png": "[encoded data removed]",
            "text/plain": [
              "<Figure size 576x288 with 1 Axes>"
            ]
          },
          "metadata": {
            "tags": []
          }
        }
      ]
    },
    {
      "cell_type": "code",
      "metadata": {
        "id": "iCY7Zx_TPr_7",
        "colab_type": "code",
        "colab": {}
      },
      "source": [
        "train['Time_of_day']=train['Time_of_day'].astype(str)\n",
        "test['Time_of_day']=test['Time_of_day'].astype(str)"
      ],
      "execution_count": 0,
      "outputs": []
    },
    {
      "cell_type": "code",
      "metadata": {
        "id": "cwLPm-v3-VaA",
        "colab_type": "code",
        "outputId": "d362c9a8-10ef-436d-dfae-3a95ba14a4c9",
        "colab": {
          "base_uri": "https://localhost:8080/",
          "height": 85
        }
      },
      "source": [
        "# Calculating one-way anova for categorical variables with fare amount\n",
        "from scipy import stats\n",
        "cat_names=['Month','Day','Time_of_day','year']\n",
        "for i in cat_names:\n",
        "    f, p = stats.f_oneway(train[i], train['fare_amount'])\n",
        "    print(\"P value for variable \"+str(i)+\" is \"+str(p))"
      ],
      "execution_count": 112,
      "outputs": [
        {
          "output_type": "stream",
          "text": [
            "P value for variable Month is 0.0\n",
            "P value for variable Day is 0.0\n",
            "P value for variable Time_of_day is 0.0\n",
            "P value for variable year is 0.0\n"
          ],
          "name": "stdout"
        }
      ]
    },
    {
      "cell_type": "markdown",
      "metadata": {
        "id": "XYrEYNvQ7PqA",
        "colab_type": "text"
      },
      "source": [
        "> From above it is clear that all the categorical variables have p-value as zero this null hypothesis for each of them is rejected."
      ]
    },
    {
      "cell_type": "code",
      "metadata": {
        "id": "oswFNyujRUMb",
        "colab_type": "code",
        "outputId": "0314d198-96fb-4c5b-b205-df675b6133f2",
        "colab": {
          "base_uri": "https://localhost:8080/",
          "height": 68
        }
      },
      "source": [
        "train.columns"
      ],
      "execution_count": 113,
      "outputs": [
        {
          "output_type": "execute_result",
          "data": {
            "text/plain": [
              "Index(['fare_amount', 'pickup_datetime', 'passenger_count', 'year', 'Month',\n",
              "       'Date', 'Day', 'Hour', 'distance', 'Time_of_day'],\n",
              "      dtype='object')"
            ]
          },
          "metadata": {
            "tags": []
          },
          "execution_count": 113
        }
      ]
    },
    {
      "cell_type": "code",
      "metadata": {
        "id": "5VO3448pbFZb",
        "colab_type": "code",
        "outputId": "cba5121c-2948-4dca-e009-52ae18fe92a2",
        "colab": {
          "base_uri": "https://localhost:8080/",
          "height": 272
        }
      },
      "source": [
        "train.info()"
      ],
      "execution_count": 114,
      "outputs": [
        {
          "output_type": "stream",
          "text": [
            "<class 'pandas.core.frame.DataFrame'>\n",
            "RangeIndex: 15984 entries, 0 to 15983\n",
            "Data columns (total 10 columns):\n",
            "fare_amount        15984 non-null float64\n",
            "pickup_datetime    15984 non-null datetime64[ns]\n",
            "passenger_count    15984 non-null int64\n",
            "year               15984 non-null object\n",
            "Month              15984 non-null object\n",
            "Date               15984 non-null int64\n",
            "Day                15984 non-null object\n",
            "Hour               15984 non-null int64\n",
            "distance           15984 non-null float64\n",
            "Time_of_day        15984 non-null object\n",
            "dtypes: datetime64[ns](1), float64(2), int64(3), object(4)\n",
            "memory usage: 1.2+ MB\n"
          ],
          "name": "stdout"
        }
      ]
    },
    {
      "cell_type": "code",
      "metadata": {
        "id": "DTNGeSU0BY3t",
        "colab_type": "code",
        "outputId": "8537b8be-3d5d-48f5-d0c0-51570e622af2",
        "colab": {
          "base_uri": "https://localhost:8080/",
          "height": 297
        }
      },
      "source": [
        "train.describe()"
      ],
      "execution_count": 115,
      "outputs": [
        {
          "output_type": "execute_result",
          "data": {
            "text/html": [
              "<div>\n",
              "<style scoped>\n",
              "    .dataframe tbody tr th:only-of-type {\n",
              "        vertical-align: middle;\n",
              "    }\n",
              "\n",
              "    .dataframe tbody tr th {\n",
              "        vertical-align: top;\n",
              "    }\n",
              "\n",
              "    .dataframe thead th {\n",
              "        text-align: right;\n",
              "    }\n",
              "</style>\n",
              "<table border=\"1\" class=\"dataframe\">\n",
              "  <thead>\n",
              "    <tr style=\"text-align: right;\">\n",
              "      <th></th>\n",
              "      <th>fare_amount</th>\n",
              "      <th>passenger_count</th>\n",
              "      <th>Date</th>\n",
              "      <th>Hour</th>\n",
              "      <th>distance</th>\n",
              "    </tr>\n",
              "  </thead>\n",
              "  <tbody>\n",
              "    <tr>\n",
              "      <th>count</th>\n",
              "      <td>15984.000000</td>\n",
              "      <td>15984.000000</td>\n",
              "      <td>15984.000000</td>\n",
              "      <td>15984.000000</td>\n",
              "      <td>15984.000000</td>\n",
              "    </tr>\n",
              "    <tr>\n",
              "      <th>mean</th>\n",
              "      <td>10.069763</td>\n",
              "      <td>1.648836</td>\n",
              "      <td>15.667042</td>\n",
              "      <td>13.494620</td>\n",
              "      <td>0.189116</td>\n",
              "    </tr>\n",
              "    <tr>\n",
              "      <th>std</th>\n",
              "      <td>5.461179</td>\n",
              "      <td>1.264889</td>\n",
              "      <td>8.685082</td>\n",
              "      <td>6.520565</td>\n",
              "      <td>0.151879</td>\n",
              "    </tr>\n",
              "    <tr>\n",
              "      <th>min</th>\n",
              "      <td>0.000000</td>\n",
              "      <td>0.000000</td>\n",
              "      <td>1.000000</td>\n",
              "      <td>0.000000</td>\n",
              "      <td>0.000000</td>\n",
              "    </tr>\n",
              "    <tr>\n",
              "      <th>25%</th>\n",
              "      <td>6.000000</td>\n",
              "      <td>1.000000</td>\n",
              "      <td>8.000000</td>\n",
              "      <td>9.000000</td>\n",
              "      <td>0.081402</td>\n",
              "    </tr>\n",
              "    <tr>\n",
              "      <th>50%</th>\n",
              "      <td>8.500000</td>\n",
              "      <td>1.000000</td>\n",
              "      <td>16.000000</td>\n",
              "      <td>14.000000</td>\n",
              "      <td>0.142080</td>\n",
              "    </tr>\n",
              "    <tr>\n",
              "      <th>75%</th>\n",
              "      <td>12.500000</td>\n",
              "      <td>2.000000</td>\n",
              "      <td>23.000000</td>\n",
              "      <td>19.000000</td>\n",
              "      <td>0.251688</td>\n",
              "    </tr>\n",
              "    <tr>\n",
              "      <th>max</th>\n",
              "      <td>22.250000</td>\n",
              "      <td>6.000000</td>\n",
              "      <td>31.000000</td>\n",
              "      <td>23.000000</td>\n",
              "      <td>1.000000</td>\n",
              "    </tr>\n",
              "  </tbody>\n",
              "</table>\n",
              "</div>"
            ],
            "text/plain": [
              "        fare_amount  passenger_count          Date          Hour      distance\n",
              "count  15984.000000     15984.000000  15984.000000  15984.000000  15984.000000\n",
              "mean      10.069763         1.648836     15.667042     13.494620      0.189116\n",
              "std        5.461179         1.264889      8.685082      6.520565      0.151879\n",
              "min        0.000000         0.000000      1.000000      0.000000      0.000000\n",
              "25%        6.000000         1.000000      8.000000      9.000000      0.081402\n",
              "50%        8.500000         1.000000     16.000000     14.000000      0.142080\n",
              "75%       12.500000         2.000000     23.000000     19.000000      0.251688\n",
              "max       22.250000         6.000000     31.000000     23.000000      1.000000"
            ]
          },
          "metadata": {
            "tags": []
          },
          "execution_count": 115
        }
      ]
    },
    {
      "cell_type": "code",
      "metadata": {
        "id": "uGFnjmrFBezm",
        "colab_type": "code",
        "colab": {}
      },
      "source": [
        "# Dropping all records containing 0 passengers as zero passengers are not possible in a cab in a ride\n",
        "train = train.drop((train[train['passenger_count']==0]).index, axis=0)"
      ],
      "execution_count": 0,
      "outputs": []
    },
    {
      "cell_type": "code",
      "metadata": {
        "id": "CKllWsNLBev8",
        "colab_type": "code",
        "colab": {}
      },
      "source": [
        "# Resetting the row index for training set.\n",
        "train=train.reset_index(drop=True)"
      ],
      "execution_count": 0,
      "outputs": []
    },
    {
      "cell_type": "code",
      "metadata": {
        "id": "Kt12pjwJBelU",
        "colab_type": "code",
        "outputId": "536cbae1-3b64-476a-9cd8-9d573ea3ec87",
        "colab": {
          "base_uri": "https://localhost:8080/",
          "height": 297
        }
      },
      "source": [
        "train.describe()"
      ],
      "execution_count": 118,
      "outputs": [
        {
          "output_type": "execute_result",
          "data": {
            "text/html": [
              "<div>\n",
              "<style scoped>\n",
              "    .dataframe tbody tr th:only-of-type {\n",
              "        vertical-align: middle;\n",
              "    }\n",
              "\n",
              "    .dataframe tbody tr th {\n",
              "        vertical-align: top;\n",
              "    }\n",
              "\n",
              "    .dataframe thead th {\n",
              "        text-align: right;\n",
              "    }\n",
              "</style>\n",
              "<table border=\"1\" class=\"dataframe\">\n",
              "  <thead>\n",
              "    <tr style=\"text-align: right;\">\n",
              "      <th></th>\n",
              "      <th>fare_amount</th>\n",
              "      <th>passenger_count</th>\n",
              "      <th>Date</th>\n",
              "      <th>Hour</th>\n",
              "      <th>distance</th>\n",
              "    </tr>\n",
              "  </thead>\n",
              "  <tbody>\n",
              "    <tr>\n",
              "      <th>count</th>\n",
              "      <td>15980.000000</td>\n",
              "      <td>15980.000000</td>\n",
              "      <td>15980.000000</td>\n",
              "      <td>15980.000000</td>\n",
              "      <td>15980.000000</td>\n",
              "    </tr>\n",
              "    <tr>\n",
              "      <th>mean</th>\n",
              "      <td>10.069699</td>\n",
              "      <td>1.649249</td>\n",
              "      <td>15.666959</td>\n",
              "      <td>13.494556</td>\n",
              "      <td>0.189117</td>\n",
              "    </tr>\n",
              "    <tr>\n",
              "      <th>std</th>\n",
              "      <td>5.461799</td>\n",
              "      <td>1.264778</td>\n",
              "      <td>8.685555</td>\n",
              "      <td>6.521012</td>\n",
              "      <td>0.151892</td>\n",
              "    </tr>\n",
              "    <tr>\n",
              "      <th>min</th>\n",
              "      <td>0.000000</td>\n",
              "      <td>1.000000</td>\n",
              "      <td>1.000000</td>\n",
              "      <td>0.000000</td>\n",
              "      <td>0.000000</td>\n",
              "    </tr>\n",
              "    <tr>\n",
              "      <th>25%</th>\n",
              "      <td>6.000000</td>\n",
              "      <td>1.000000</td>\n",
              "      <td>8.000000</td>\n",
              "      <td>9.000000</td>\n",
              "      <td>0.081399</td>\n",
              "    </tr>\n",
              "    <tr>\n",
              "      <th>50%</th>\n",
              "      <td>8.500000</td>\n",
              "      <td>1.000000</td>\n",
              "      <td>16.000000</td>\n",
              "      <td>14.000000</td>\n",
              "      <td>0.142080</td>\n",
              "    </tr>\n",
              "    <tr>\n",
              "      <th>75%</th>\n",
              "      <td>12.500000</td>\n",
              "      <td>2.000000</td>\n",
              "      <td>23.000000</td>\n",
              "      <td>19.000000</td>\n",
              "      <td>0.251684</td>\n",
              "    </tr>\n",
              "    <tr>\n",
              "      <th>max</th>\n",
              "      <td>22.250000</td>\n",
              "      <td>6.000000</td>\n",
              "      <td>31.000000</td>\n",
              "      <td>23.000000</td>\n",
              "      <td>1.000000</td>\n",
              "    </tr>\n",
              "  </tbody>\n",
              "</table>\n",
              "</div>"
            ],
            "text/plain": [
              "        fare_amount  passenger_count          Date          Hour      distance\n",
              "count  15980.000000     15980.000000  15980.000000  15980.000000  15980.000000\n",
              "mean      10.069699         1.649249     15.666959     13.494556      0.189117\n",
              "std        5.461799         1.264778      8.685555      6.521012      0.151892\n",
              "min        0.000000         1.000000      1.000000      0.000000      0.000000\n",
              "25%        6.000000         1.000000      8.000000      9.000000      0.081399\n",
              "50%        8.500000         1.000000     16.000000     14.000000      0.142080\n",
              "75%       12.500000         2.000000     23.000000     19.000000      0.251684\n",
              "max       22.250000         6.000000     31.000000     23.000000      1.000000"
            ]
          },
          "metadata": {
            "tags": []
          },
          "execution_count": 118
        }
      ]
    },
    {
      "cell_type": "markdown",
      "metadata": {
        "id": "wRRNX8Ba7sfU",
        "colab_type": "text"
      },
      "source": [
        "## Building the Model"
      ]
    },
    {
      "cell_type": "code",
      "metadata": {
        "id": "4DC7OOOXbI2o",
        "colab_type": "code",
        "colab": {}
      },
      "source": [
        "# Creating list of categorical variables\n",
        "cat_names=['Month','Day','Time_of_day','year']"
      ],
      "execution_count": 0,
      "outputs": []
    },
    {
      "cell_type": "code",
      "metadata": {
        "id": "kBXIxScFSueP",
        "colab_type": "code",
        "colab": {}
      },
      "source": [
        "# Adding dummies for categorical variables and simlutaneously deleting the first dummy variable so as to avoid\n",
        "# linear dependency for both training and testing set.\n",
        "d1=pd.get_dummies(data=train,columns=cat_names,drop_first=True)"
      ],
      "execution_count": 0,
      "outputs": []
    },
    {
      "cell_type": "code",
      "metadata": {
        "id": "aNRYTia98kn0",
        "colab_type": "code",
        "colab": {}
      },
      "source": [
        "d2=pd.get_dummies(data=test,columns=cat_names,drop_first=True)"
      ],
      "execution_count": 0,
      "outputs": []
    },
    {
      "cell_type": "code",
      "metadata": {
        "id": "72-0RFgCYsSU",
        "colab_type": "code",
        "colab": {}
      },
      "source": [
        "# Splitting the the dataset into training and testing set.\n",
        "from sklearn.model_selection import train_test_split"
      ],
      "execution_count": 0,
      "outputs": []
    },
    {
      "cell_type": "code",
      "metadata": {
        "id": "aDq2Z8tvYsOh",
        "colab_type": "code",
        "outputId": "3b4f8382-02e3-4398-ca77-d34b2944d9b8",
        "colab": {
          "base_uri": "https://localhost:8080/",
          "height": 136
        }
      },
      "source": [
        "d1.columns"
      ],
      "execution_count": 123,
      "outputs": [
        {
          "output_type": "execute_result",
          "data": {
            "text/plain": [
              "Index(['fare_amount', 'pickup_datetime', 'passenger_count', 'Date', 'Hour',\n",
              "       'distance', 'Month_10', 'Month_11', 'Month_12', 'Month_2', 'Month_3',\n",
              "       'Month_4', 'Month_5', 'Month_6', 'Month_7', 'Month_8', 'Month_9',\n",
              "       'Day_1', 'Day_2', 'Day_3', 'Day_4', 'Day_5', 'Day_6', 'Time_of_day_1',\n",
              "       'Time_of_day_2', 'Time_of_day_3', 'year_2010', 'year_2011', 'year_2012',\n",
              "       'year_2013', 'year_2014', 'year_2015'],\n",
              "      dtype='object')"
            ]
          },
          "metadata": {
            "tags": []
          },
          "execution_count": 123
        }
      ]
    },
    {
      "cell_type": "code",
      "metadata": {
        "id": "57NtFOTycEsF",
        "colab_type": "code",
        "outputId": "e0858970-768c-477e-feec-1a65dbc13989",
        "colab": {
          "base_uri": "https://localhost:8080/",
          "height": 646
        }
      },
      "source": [
        "d1.info()"
      ],
      "execution_count": 124,
      "outputs": [
        {
          "output_type": "stream",
          "text": [
            "<class 'pandas.core.frame.DataFrame'>\n",
            "RangeIndex: 15980 entries, 0 to 15979\n",
            "Data columns (total 32 columns):\n",
            "fare_amount        15980 non-null float64\n",
            "pickup_datetime    15980 non-null datetime64[ns]\n",
            "passenger_count    15980 non-null int64\n",
            "Date               15980 non-null int64\n",
            "Hour               15980 non-null int64\n",
            "distance           15980 non-null float64\n",
            "Month_10           15980 non-null uint8\n",
            "Month_11           15980 non-null uint8\n",
            "Month_12           15980 non-null uint8\n",
            "Month_2            15980 non-null uint8\n",
            "Month_3            15980 non-null uint8\n",
            "Month_4            15980 non-null uint8\n",
            "Month_5            15980 non-null uint8\n",
            "Month_6            15980 non-null uint8\n",
            "Month_7            15980 non-null uint8\n",
            "Month_8            15980 non-null uint8\n",
            "Month_9            15980 non-null uint8\n",
            "Day_1              15980 non-null uint8\n",
            "Day_2              15980 non-null uint8\n",
            "Day_3              15980 non-null uint8\n",
            "Day_4              15980 non-null uint8\n",
            "Day_5              15980 non-null uint8\n",
            "Day_6              15980 non-null uint8\n",
            "Time_of_day_1      15980 non-null uint8\n",
            "Time_of_day_2      15980 non-null uint8\n",
            "Time_of_day_3      15980 non-null uint8\n",
            "year_2010          15980 non-null uint8\n",
            "year_2011          15980 non-null uint8\n",
            "year_2012          15980 non-null uint8\n",
            "year_2013          15980 non-null uint8\n",
            "year_2014          15980 non-null uint8\n",
            "year_2015          15980 non-null uint8\n",
            "dtypes: datetime64[ns](1), float64(2), int64(3), uint8(26)\n",
            "memory usage: 1.1 MB\n"
          ],
          "name": "stdout"
        }
      ]
    },
    {
      "cell_type": "code",
      "metadata": {
        "id": "-YssIfF49m8k",
        "colab_type": "code",
        "outputId": "7d099a7e-cbd5-42ba-bef8-efe94b4809bb",
        "colab": {
          "base_uri": "https://localhost:8080/",
          "height": 136
        }
      },
      "source": [
        "d1.columns"
      ],
      "execution_count": 125,
      "outputs": [
        {
          "output_type": "execute_result",
          "data": {
            "text/plain": [
              "Index(['fare_amount', 'pickup_datetime', 'passenger_count', 'Date', 'Hour',\n",
              "       'distance', 'Month_10', 'Month_11', 'Month_12', 'Month_2', 'Month_3',\n",
              "       'Month_4', 'Month_5', 'Month_6', 'Month_7', 'Month_8', 'Month_9',\n",
              "       'Day_1', 'Day_2', 'Day_3', 'Day_4', 'Day_5', 'Day_6', 'Time_of_day_1',\n",
              "       'Time_of_day_2', 'Time_of_day_3', 'year_2010', 'year_2011', 'year_2012',\n",
              "       'year_2013', 'year_2014', 'year_2015'],\n",
              "      dtype='object')"
            ]
          },
          "metadata": {
            "tags": []
          },
          "execution_count": 125
        }
      ]
    },
    {
      "cell_type": "code",
      "metadata": {
        "id": "S3SsHTA0Zru_",
        "colab_type": "code",
        "outputId": "bacc3b65-c032-4fc5-fa59-b7344098bfb3",
        "colab": {
          "base_uri": "https://localhost:8080/",
          "height": 136
        }
      },
      "source": [
        "d2.columns"
      ],
      "execution_count": 126,
      "outputs": [
        {
          "output_type": "execute_result",
          "data": {
            "text/plain": [
              "Index(['pickup_datetime', 'passenger_count', 'Date', 'Hour', 'distance',\n",
              "       'Month_10', 'Month_11', 'Month_12', 'Month_2', 'Month_3', 'Month_4',\n",
              "       'Month_5', 'Month_6', 'Month_7', 'Month_8', 'Month_9', 'Day_1', 'Day_2',\n",
              "       'Day_3', 'Day_4', 'Day_5', 'Day_6', 'Time_of_day_1', 'Time_of_day_2',\n",
              "       'Time_of_day_3', 'year_2010', 'year_2011', 'year_2012', 'year_2013',\n",
              "       'year_2014', 'year_2015'],\n",
              "      dtype='object')"
            ]
          },
          "metadata": {
            "tags": []
          },
          "execution_count": 126
        }
      ]
    },
    {
      "cell_type": "code",
      "metadata": {
        "id": "UpEzhuwrbbSW",
        "colab_type": "code",
        "outputId": "9053a872-17fa-4f7a-dd60-0b80b5de9866",
        "colab": {
          "base_uri": "https://localhost:8080/",
          "height": 68
        }
      },
      "source": [
        "test.columns"
      ],
      "execution_count": 127,
      "outputs": [
        {
          "output_type": "execute_result",
          "data": {
            "text/plain": [
              "Index(['pickup_datetime', 'passenger_count', 'year', 'Month', 'Date', 'Day',\n",
              "       'Hour', 'distance', 'Time_of_day'],\n",
              "      dtype='object')"
            ]
          },
          "metadata": {
            "tags": []
          },
          "execution_count": 127
        }
      ]
    },
    {
      "cell_type": "code",
      "metadata": {
        "id": "H-nCTffpZzBX",
        "colab_type": "code",
        "colab": {}
      },
      "source": [
        "test_data=d2[['passenger_count', 'Date','Hour', 'distance', 'Month_10', 'Month_11', 'Month_12', 'Month_2','Month_3', 'Month_4', 'Month_5', 'Month_6', 'Month_7', 'Month_8',\n",
        "       'Month_9', 'Day_1', 'Day_2', 'Day_3', 'Day_4', 'Day_5', 'Day_6','Time_of_day_1', 'Time_of_day_2', 'Time_of_day_3', 'year_2010',\n",
        "       'year_2011', 'year_2012', 'year_2013', 'year_2014', 'year_2015']]"
      ],
      "execution_count": 0,
      "outputs": []
    },
    {
      "cell_type": "code",
      "metadata": {
        "id": "XwYKDTjeYsIA",
        "colab_type": "code",
        "colab": {}
      },
      "source": [
        "# Declaring Inependent and Dependent variables.\n",
        "X=d1[['passenger_count', 'Date','Hour', 'distance', 'Month_10','Month_11', 'Month_12', 'Month_2','Month_3', 'Month_4', 'Month_5', 'Month_6', 'Month_7','Month_8','Month_9', 'Day_1', 'Day_2', 'Day_3', 'Day_4',\n",
        "      'Day_5', 'Day_6','Time_of_day_1', 'Time_of_day_2', 'Time_of_day_3', 'year_2010','year_2011', 'year_2012', 'year_2013', 'year_2014', 'year_2015']]\n",
        "y=d1['fare_amount']          "
      ],
      "execution_count": 0,
      "outputs": []
    },
    {
      "cell_type": "code",
      "metadata": {
        "id": "Q_2luEzVYcao",
        "colab_type": "code",
        "colab": {}
      },
      "source": [
        "# Splitting the training set into training and testing set.\n",
        "X_train, X_test, y_train, y_test = train_test_split( X,y, test_size = 0.20, random_state = 1)"
      ],
      "execution_count": 0,
      "outputs": []
    },
    {
      "cell_type": "code",
      "metadata": {
        "id": "7FT0CtJdYcWi",
        "colab_type": "code",
        "colab": {}
      },
      "source": [
        "# Decision Tree Algorithm\n",
        "from sklearn.tree import DecisionTreeRegressor"
      ],
      "execution_count": 0,
      "outputs": []
    },
    {
      "cell_type": "code",
      "metadata": {
        "id": "Jd6A9CjQYcTr",
        "colab_type": "code",
        "outputId": "be1ef47c-47b7-40f7-932d-903eb5acb1b7",
        "colab": {
          "base_uri": "https://localhost:8080/",
          "height": 34
        }
      },
      "source": [
        "X_train.shape"
      ],
      "execution_count": 132,
      "outputs": [
        {
          "output_type": "execute_result",
          "data": {
            "text/plain": [
              "(12784, 30)"
            ]
          },
          "metadata": {
            "tags": []
          },
          "execution_count": 132
        }
      ]
    },
    {
      "cell_type": "code",
      "metadata": {
        "id": "k41QBcSPYcRd",
        "colab_type": "code",
        "outputId": "3d0719f9-4997-4756-f012-6b8a1095e017",
        "colab": {
          "base_uri": "https://localhost:8080/",
          "height": 102
        }
      },
      "source": [
        "reg_DT = DecisionTreeRegressor(random_state = 1,max_depth=2)\n",
        "reg_DT.fit(X_train, y_train)"
      ],
      "execution_count": 133,
      "outputs": [
        {
          "output_type": "execute_result",
          "data": {
            "text/plain": [
              "DecisionTreeRegressor(criterion='mse', max_depth=2, max_features=None,\n",
              "                      max_leaf_nodes=None, min_impurity_decrease=0.0,\n",
              "                      min_impurity_split=None, min_samples_leaf=1,\n",
              "                      min_samples_split=2, min_weight_fraction_leaf=0.0,\n",
              "                      presort=False, random_state=1, splitter='best')"
            ]
          },
          "metadata": {
            "tags": []
          },
          "execution_count": 133
        }
      ]
    },
    {
      "cell_type": "code",
      "metadata": {
        "id": "5mZPqmCOYcOY",
        "colab_type": "code",
        "colab": {}
      },
      "source": [
        "# Importing the error metric\n",
        "from sklearn.metrics import mean_squared_error"
      ],
      "execution_count": 0,
      "outputs": []
    },
    {
      "cell_type": "code",
      "metadata": {
        "id": "lStu8PA4YcLf",
        "colab_type": "code",
        "colab": {}
      },
      "source": [
        "# Predicting on training and testing set\n",
        "pred_DT_test=reg_DT.predict(X_test)\n",
        "pred_DT_train=reg_DT.predict(X_train)"
      ],
      "execution_count": 0,
      "outputs": []
    },
    {
      "cell_type": "code",
      "metadata": {
        "id": "-j3J5qFTYcHq",
        "colab_type": "code",
        "outputId": "948b6f6d-f146-493c-f7eb-53cb3625ac4d",
        "colab": {
          "base_uri": "https://localhost:8080/",
          "height": 34
        }
      },
      "source": [
        "# RMSE for training set\n",
        "np.sqrt(mean_squared_error(y_train,pred_DT_train))"
      ],
      "execution_count": 136,
      "outputs": [
        {
          "output_type": "execute_result",
          "data": {
            "text/plain": [
              "3.374464194995072"
            ]
          },
          "metadata": {
            "tags": []
          },
          "execution_count": 136
        }
      ]
    },
    {
      "cell_type": "code",
      "metadata": {
        "id": "wDb-gHJtelr0",
        "colab_type": "code",
        "outputId": "cbe14a2c-a7f6-4cf1-d645-1d4eaaae0c49",
        "colab": {
          "base_uri": "https://localhost:8080/",
          "height": 34
        }
      },
      "source": [
        "# RMSE for testing set\n",
        "np.sqrt(mean_squared_error(y_test,pred_DT_test))"
      ],
      "execution_count": 137,
      "outputs": [
        {
          "output_type": "execute_result",
          "data": {
            "text/plain": [
              "3.281943425183674"
            ]
          },
          "metadata": {
            "tags": []
          },
          "execution_count": 137
        }
      ]
    },
    {
      "cell_type": "code",
      "metadata": {
        "id": "dFbtwWvsepYe",
        "colab_type": "code",
        "colab": {}
      },
      "source": [
        "from sklearn.metrics import r2_score"
      ],
      "execution_count": 0,
      "outputs": []
    },
    {
      "cell_type": "code",
      "metadata": {
        "id": "efNwwUiOevsO",
        "colab_type": "code",
        "outputId": "e2fb9803-fac9-432f-ee01-47d43923ba8d",
        "colab": {
          "base_uri": "https://localhost:8080/",
          "height": 34
        }
      },
      "source": [
        "# R-squared for DT\n",
        "r2_score(y_test, pred_DT_test)"
      ],
      "execution_count": 139,
      "outputs": [
        {
          "output_type": "execute_result",
          "data": {
            "text/plain": [
              "0.6323852240640604"
            ]
          },
          "metadata": {
            "tags": []
          },
          "execution_count": 139
        }
      ]
    },
    {
      "cell_type": "code",
      "metadata": {
        "id": "o1fKus84e1Uu",
        "colab_type": "code",
        "outputId": "f0d43648-1696-4077-b1f9-4f023b1d8b5a",
        "colab": {
          "base_uri": "https://localhost:8080/",
          "height": 136
        }
      },
      "source": [
        "# Random Forest \n",
        "from sklearn.ensemble import RandomForestRegressor\n",
        "reg_RF=RandomForestRegressor(n_estimators=1000,random_state=1)\n",
        "reg_RF.fit(X_train,y_train)"
      ],
      "execution_count": 140,
      "outputs": [
        {
          "output_type": "execute_result",
          "data": {
            "text/plain": [
              "RandomForestRegressor(bootstrap=True, criterion='mse', max_depth=None,\n",
              "                      max_features='auto', max_leaf_nodes=None,\n",
              "                      min_impurity_decrease=0.0, min_impurity_split=None,\n",
              "                      min_samples_leaf=1, min_samples_split=2,\n",
              "                      min_weight_fraction_leaf=0.0, n_estimators=1000,\n",
              "                      n_jobs=None, oob_score=False, random_state=1, verbose=0,\n",
              "                      warm_start=False)"
            ]
          },
          "metadata": {
            "tags": []
          },
          "execution_count": 140
        }
      ]
    },
    {
      "cell_type": "code",
      "metadata": {
        "id": "t3rF7MOHflUF",
        "colab_type": "code",
        "colab": {}
      },
      "source": [
        "# Predicting on training and testing set\n",
        "pred_RF_train=reg_RF.predict(X_train)\n",
        "pred_RF_test=reg_RF.predict(X_test)"
      ],
      "execution_count": 0,
      "outputs": []
    },
    {
      "cell_type": "code",
      "metadata": {
        "id": "5SZ25uYTfsZa",
        "colab_type": "code",
        "outputId": "feacfeea-f6ed-4ce7-ce39-484fe0d209aa",
        "colab": {
          "base_uri": "https://localhost:8080/",
          "height": 34
        }
      },
      "source": [
        "# RMSE on training set\n",
        "np.sqrt(mean_squared_error(y_train,pred_RF_train))"
      ],
      "execution_count": 142,
      "outputs": [
        {
          "output_type": "execute_result",
          "data": {
            "text/plain": [
              "1.1596073645107947"
            ]
          },
          "metadata": {
            "tags": []
          },
          "execution_count": 142
        }
      ]
    },
    {
      "cell_type": "code",
      "metadata": {
        "id": "liLDBt18fsUy",
        "colab_type": "code",
        "outputId": "88230187-fa28-4c40-b334-87050c0131a8",
        "colab": {
          "base_uri": "https://localhost:8080/",
          "height": 34
        }
      },
      "source": [
        "# RMSE on testing set\n",
        "np.sqrt(mean_squared_error(y_test,pred_RF_test))"
      ],
      "execution_count": 143,
      "outputs": [
        {
          "output_type": "execute_result",
          "data": {
            "text/plain": [
              "2.94881111029796"
            ]
          },
          "metadata": {
            "tags": []
          },
          "execution_count": 143
        }
      ]
    },
    {
      "cell_type": "code",
      "metadata": {
        "id": "iITHrTZTfsR-",
        "colab_type": "code",
        "outputId": "3681c9a2-236a-4827-ee9f-1e337ad64614",
        "colab": {
          "base_uri": "https://localhost:8080/",
          "height": 34
        }
      },
      "source": [
        "# R-squared for Random forest\n",
        "r2_score(y_test, pred_RF_test)"
      ],
      "execution_count": 144,
      "outputs": [
        {
          "output_type": "execute_result",
          "data": {
            "text/plain": [
              "0.7032267950301556"
            ]
          },
          "metadata": {
            "tags": []
          },
          "execution_count": 144
        }
      ]
    },
    {
      "cell_type": "code",
      "metadata": {
        "id": "gQeYDIbafsPp",
        "colab_type": "code",
        "outputId": "89f6d001-0a2e-46ff-9182-bc9ec386bca3",
        "colab": {
          "base_uri": "https://localhost:8080/",
          "height": 34
        }
      },
      "source": [
        "# Linear regression\n",
        "from sklearn.linear_model import LinearRegression\n",
        "reg_LR=LinearRegression()\n",
        "reg_LR.fit(X_train,y_train)"
      ],
      "execution_count": 145,
      "outputs": [
        {
          "output_type": "execute_result",
          "data": {
            "text/plain": [
              "LinearRegression(copy_X=True, fit_intercept=True, n_jobs=None, normalize=False)"
            ]
          },
          "metadata": {
            "tags": []
          },
          "execution_count": 145
        }
      ]
    },
    {
      "cell_type": "code",
      "metadata": {
        "id": "cfRypXPgfsMD",
        "colab_type": "code",
        "colab": {}
      },
      "source": [
        "# Predicting on training and testing set\n",
        "pred_LR_test=reg_LR.predict(X_test)\n",
        "pred_LR_train=reg_LR.predict(X_train)"
      ],
      "execution_count": 0,
      "outputs": []
    },
    {
      "cell_type": "code",
      "metadata": {
        "id": "al8EZoqwgkmF",
        "colab_type": "code",
        "outputId": "31fbca0f-0195-4617-c968-04a18c44335c",
        "colab": {
          "base_uri": "https://localhost:8080/",
          "height": 34
        }
      },
      "source": [
        "# R squared for Linear Regression\n",
        "r2_score(y_test, pred_LR_test)"
      ],
      "execution_count": 147,
      "outputs": [
        {
          "output_type": "execute_result",
          "data": {
            "text/plain": [
              "0.6730139948254714"
            ]
          },
          "metadata": {
            "tags": []
          },
          "execution_count": 147
        }
      ]
    },
    {
      "cell_type": "code",
      "metadata": {
        "id": "IGvyiMwZgnCK",
        "colab_type": "code",
        "outputId": "cd448257-6697-416a-81dc-a7b436b0a865",
        "colab": {
          "base_uri": "https://localhost:8080/",
          "height": 34
        }
      },
      "source": [
        "# RMSE on Training set\n",
        "np.sqrt(mean_squared_error(y_train,pred_LR_train))"
      ],
      "execution_count": 148,
      "outputs": [
        {
          "output_type": "execute_result",
          "data": {
            "text/plain": [
              "3.267904908993835"
            ]
          },
          "metadata": {
            "tags": []
          },
          "execution_count": 148
        }
      ]
    },
    {
      "cell_type": "code",
      "metadata": {
        "id": "kwPsRioFgpp1",
        "colab_type": "code",
        "outputId": "3f3985fe-3756-4985-9e37-d1647d49ff3f",
        "colab": {
          "base_uri": "https://localhost:8080/",
          "height": 34
        }
      },
      "source": [
        "# RMSE on testing set\n",
        "np.sqrt(mean_squared_error(y_test,pred_LR_test))"
      ],
      "execution_count": 149,
      "outputs": [
        {
          "output_type": "execute_result",
          "data": {
            "text/plain": [
              "3.0952746685744326"
            ]
          },
          "metadata": {
            "tags": []
          },
          "execution_count": 149
        }
      ]
    },
    {
      "cell_type": "code",
      "metadata": {
        "colab_type": "code",
        "id": "3tx97codbKOC",
        "colab": {}
      },
      "source": [
        "pred_test_LR=reg_LR.predict(test_data)"
      ],
      "execution_count": 0,
      "outputs": []
    },
    {
      "cell_type": "code",
      "metadata": {
        "colab_type": "code",
        "id": "20-F2EpxbKOF",
        "colab": {}
      },
      "source": [
        "df1['pred_test_LR']=pred_test_LR"
      ],
      "execution_count": 0,
      "outputs": []
    },
    {
      "cell_type": "code",
      "metadata": {
        "id": "08wrh5LvgsbW",
        "colab_type": "code",
        "colab": {}
      },
      "source": [
        "# XGBoost Regressor\n",
        "from sklearn.ensemble import GradientBoostingRegressor"
      ],
      "execution_count": 0,
      "outputs": []
    },
    {
      "cell_type": "code",
      "metadata": {
        "id": "KPKTr24Ugw7G",
        "colab_type": "code",
        "colab": {}
      },
      "source": [
        "# Training the algorithm\n",
        "fit_GB = GradientBoostingRegressor(n_estimators=1000,learning_rate=0.01,).fit(X_train, y_train)"
      ],
      "execution_count": 0,
      "outputs": []
    },
    {
      "cell_type": "code",
      "metadata": {
        "id": "cgumimQogzLW",
        "colab_type": "code",
        "colab": {}
      },
      "source": [
        "# Predicting and calculating RMSE on training set\n",
        "pred_train = fit_GB.predict(X_train)\n",
        "rmse_for_train = np.sqrt(mean_squared_error(y_train,pred_train))"
      ],
      "execution_count": 0,
      "outputs": []
    },
    {
      "cell_type": "code",
      "metadata": {
        "id": "KcU_jOwcg1c2",
        "colab_type": "code",
        "outputId": "7e940b5c-36ee-4975-d8eb-01728a65d291",
        "colab": {
          "base_uri": "https://localhost:8080/",
          "height": 34
        }
      },
      "source": [
        "# RMSE on training set\n",
        "rmse_for_train"
      ],
      "execution_count": 153,
      "outputs": [
        {
          "output_type": "execute_result",
          "data": {
            "text/plain": [
              "2.9198067025234473"
            ]
          },
          "metadata": {
            "tags": []
          },
          "execution_count": 153
        }
      ]
    },
    {
      "cell_type": "code",
      "metadata": {
        "id": "wnD_NMeRg3hG",
        "colab_type": "code",
        "colab": {}
      },
      "source": [
        "# Predicting on test set\n",
        "pred_test = fit_GB.predict(X_test)\n",
        "rmse_for_test =np.sqrt(mean_squared_error(y_test,pred_test))"
      ],
      "execution_count": 0,
      "outputs": []
    },
    {
      "cell_type": "code",
      "metadata": {
        "id": "za5K2FzFg59m",
        "colab_type": "code",
        "outputId": "48be6b8f-8a0d-488f-b3d0-f266a44295d2",
        "colab": {
          "base_uri": "https://localhost:8080/",
          "height": 34
        }
      },
      "source": [
        "# RMSE on testing set\n",
        "rmse_for_test"
      ],
      "execution_count": 155,
      "outputs": [
        {
          "output_type": "execute_result",
          "data": {
            "text/plain": [
              "2.844680591073699"
            ]
          },
          "metadata": {
            "tags": []
          },
          "execution_count": 155
        }
      ]
    },
    {
      "cell_type": "code",
      "metadata": {
        "id": "CxEQsexFg8in",
        "colab_type": "code",
        "outputId": "bc49a698-6dbc-46a3-a103-51178924c2e4",
        "colab": {
          "base_uri": "https://localhost:8080/",
          "height": 34
        }
      },
      "source": [
        "# R squared for XGBoost Regressor\n",
        "r2_score(y_test,pred_test)"
      ],
      "execution_count": 156,
      "outputs": [
        {
          "output_type": "execute_result",
          "data": {
            "text/plain": [
              "0.7238164562864587"
            ]
          },
          "metadata": {
            "tags": []
          },
          "execution_count": 156
        }
      ]
    },
    {
      "cell_type": "code",
      "metadata": {
        "colab_type": "code",
        "id": "7T5JtrQTd3t8",
        "colab": {}
      },
      "source": [
        "pred_test_XGB=fit_GB.predict(test_data)"
      ],
      "execution_count": 0,
      "outputs": []
    },
    {
      "cell_type": "code",
      "metadata": {
        "colab_type": "code",
        "id": "Fyt05noVd3uN",
        "colab": {}
      },
      "source": [
        "df1['pred_test_XGB']=pred_test_XGB"
      ],
      "execution_count": 0,
      "outputs": []
    },
    {
      "cell_type": "code",
      "metadata": {
        "id": "ZhA86GQkg-xG",
        "colab_type": "code",
        "outputId": "7846e071-90f9-4746-ff9b-b58ef93a9321",
        "colab": {
          "base_uri": "https://localhost:8080/",
          "height": 71
        }
      },
      "source": [
        "# Support Vector Regressor\n",
        "from sklearn.svm import SVR\n",
        "reg_SVR=SVR(kernel='rbf',C=100)\n",
        "reg_SVR.fit(X_train,y_train)\n",
        "y_pred_train=reg_SVR.predict(X_train)\n",
        "y_pred_test=reg_SVR.predict(X_test)"
      ],
      "execution_count": 157,
      "outputs": [
        {
          "output_type": "stream",
          "text": [
            "/usr/local/lib/python3.6/dist-packages/sklearn/svm/base.py:193: FutureWarning: The default value of gamma will change from 'auto' to 'scale' in version 0.22 to account better for unscaled features. Set gamma explicitly to 'auto' or 'scale' to avoid this warning.\n",
            "  \"avoid this warning.\", FutureWarning)\n"
          ],
          "name": "stderr"
        }
      ]
    },
    {
      "cell_type": "code",
      "metadata": {
        "id": "IyeKhIbkhFPH",
        "colab_type": "code",
        "colab": {}
      },
      "source": [
        "# RMSE on training set\n",
        "rmse_for_train =np.sqrt(mean_squared_error(y_train,y_pred_train))"
      ],
      "execution_count": 0,
      "outputs": []
    },
    {
      "cell_type": "code",
      "metadata": {
        "id": "ykFrQTsShJZI",
        "colab_type": "code",
        "colab": {}
      },
      "source": [
        "# RMSE on testing set\n",
        "rmse_for_test =np.sqrt(mean_squared_error(y_test,y_pred_test))"
      ],
      "execution_count": 0,
      "outputs": []
    },
    {
      "cell_type": "code",
      "metadata": {
        "id": "uM230q4FhJXH",
        "colab_type": "code",
        "outputId": "d1f73b89-936d-4681-f99c-a9fb7b5168bb",
        "colab": {
          "base_uri": "https://localhost:8080/",
          "height": 34
        }
      },
      "source": [
        "# R squared for SVR\n",
        "r2_score(y_test,y_pred_test)"
      ],
      "execution_count": 160,
      "outputs": [
        {
          "output_type": "execute_result",
          "data": {
            "text/plain": [
              "0.6303993648737266"
            ]
          },
          "metadata": {
            "tags": []
          },
          "execution_count": 160
        }
      ]
    },
    {
      "cell_type": "code",
      "metadata": {
        "id": "9QoldMSqhOcd",
        "colab_type": "code",
        "outputId": "76a7a064-ee0b-4945-f399-669d4b32ee06",
        "colab": {
          "base_uri": "https://localhost:8080/",
          "height": 34
        }
      },
      "source": [
        "# RMSE on training set\n",
        "rmse_for_train"
      ],
      "execution_count": 161,
      "outputs": [
        {
          "output_type": "execute_result",
          "data": {
            "text/plain": [
              "2.8968336586523344"
            ]
          },
          "metadata": {
            "tags": []
          },
          "execution_count": 161
        }
      ]
    },
    {
      "cell_type": "code",
      "metadata": {
        "id": "8UEFY5kzhOYe",
        "colab_type": "code",
        "outputId": "e4bcd19d-453d-448c-a71a-729902323a30",
        "colab": {
          "base_uri": "https://localhost:8080/",
          "height": 34
        }
      },
      "source": [
        "# RMSE on testing set\n",
        "rmse_for_test"
      ],
      "execution_count": 162,
      "outputs": [
        {
          "output_type": "execute_result",
          "data": {
            "text/plain": [
              "3.2907960336221675"
            ]
          },
          "metadata": {
            "tags": []
          },
          "execution_count": 162
        }
      ]
    },
    {
      "cell_type": "code",
      "metadata": {
        "colab_type": "code",
        "id": "IdWYg7Zva4BQ",
        "colab": {}
      },
      "source": [
        "pred_test_SVR=reg_SVR.predict(test_data)"
      ],
      "execution_count": 0,
      "outputs": []
    },
    {
      "cell_type": "code",
      "metadata": {
        "colab_type": "code",
        "id": "rjzfKNt4a4CH",
        "colab": {}
      },
      "source": [
        "df1['pred_test_SVR']=pred_test_SVR"
      ],
      "execution_count": 0,
      "outputs": []
    },
    {
      "cell_type": "markdown",
      "metadata": {
        "id": "nAjDs3Fr8ben",
        "colab_type": "text"
      },
      "source": [
        "> Tuning the hyperparameters of above models using RandomSearchCV"
      ]
    },
    {
      "cell_type": "code",
      "metadata": {
        "id": "7pjzw2HAfI3o",
        "colab_type": "code",
        "colab": {}
      },
      "source": [
        "# Importing relevant libraries\n",
        "from sklearn.model_selection import RandomizedSearchCV"
      ],
      "execution_count": 0,
      "outputs": []
    },
    {
      "cell_type": "code",
      "metadata": {
        "id": "mziweY4m44Oi",
        "colab_type": "code",
        "colab": {}
      },
      "source": [
        "# Creating a dictionary of parameters for tuning Decision Tree\n",
        "z={'max_depth':[2,3,5,7,10],'min_samples_leaf':[2,5,7,10,15],'min_samples_split':[2,5,7,10],'max_features':\n",
        "   ['auto','sqrt','log2']}"
      ],
      "execution_count": 0,
      "outputs": []
    },
    {
      "cell_type": "code",
      "metadata": {
        "id": "LUlsszVu6fEZ",
        "colab_type": "code",
        "colab": {}
      },
      "source": [
        "regression = RandomizedSearchCV(reg_DT,param_distributions=z, random_state=1)"
      ],
      "execution_count": 0,
      "outputs": []
    },
    {
      "cell_type": "code",
      "metadata": {
        "id": "GCnY6o938cRY",
        "colab_type": "code",
        "outputId": "af52008f-4261-48b9-a575-6bfff0792655",
        "colab": {
          "base_uri": "https://localhost:8080/",
          "height": 71
        }
      },
      "source": [
        "best_model = regression.fit(X_train, y_train)"
      ],
      "execution_count": 171,
      "outputs": [
        {
          "output_type": "stream",
          "text": [
            "/usr/local/lib/python3.6/dist-packages/sklearn/model_selection/_split.py:1978: FutureWarning: The default value of cv will change from 3 to 5 in version 0.22. Specify it explicitly to silence this warning.\n",
            "  warnings.warn(CV_WARNING, FutureWarning)\n"
          ],
          "name": "stderr"
        }
      ]
    },
    {
      "cell_type": "code",
      "metadata": {
        "id": "FgVif1DUWNSj",
        "colab_type": "code",
        "outputId": "58047290-8795-444f-e5f9-6541db9742ac",
        "colab": {
          "base_uri": "https://localhost:8080/",
          "height": 85
        }
      },
      "source": [
        "best_model.best_params_"
      ],
      "execution_count": 172,
      "outputs": [
        {
          "output_type": "execute_result",
          "data": {
            "text/plain": [
              "{'max_depth': 5,\n",
              " 'max_features': 'auto',\n",
              " 'min_samples_leaf': 2,\n",
              " 'min_samples_split': 10}"
            ]
          },
          "metadata": {
            "tags": []
          },
          "execution_count": 172
        }
      ]
    },
    {
      "cell_type": "code",
      "metadata": {
        "id": "3kru8_N7W41B",
        "colab_type": "code",
        "outputId": "99bb5628-267e-4e3e-b724-a44b5bbd13d4",
        "colab": {
          "base_uri": "https://localhost:8080/",
          "height": 102
        }
      },
      "source": [
        "reg_DT=DecisionTreeRegressor(max_depth=7,min_samples_leaf=7,min_samples_split=5,max_features='auto')\n",
        "reg_DT.fit(X_train,y_train)"
      ],
      "execution_count": 173,
      "outputs": [
        {
          "output_type": "execute_result",
          "data": {
            "text/plain": [
              "DecisionTreeRegressor(criterion='mse', max_depth=7, max_features='auto',\n",
              "                      max_leaf_nodes=None, min_impurity_decrease=0.0,\n",
              "                      min_impurity_split=None, min_samples_leaf=7,\n",
              "                      min_samples_split=5, min_weight_fraction_leaf=0.0,\n",
              "                      presort=False, random_state=None, splitter='best')"
            ]
          },
          "metadata": {
            "tags": []
          },
          "execution_count": 173
        }
      ]
    },
    {
      "cell_type": "code",
      "metadata": {
        "id": "Y69EyHN7ZI2C",
        "colab_type": "code",
        "colab": {}
      },
      "source": [
        "pred_DT_train=reg_DT.predict(X_train)\n",
        "pred_DT_test=reg_DT.predict(X_test)"
      ],
      "execution_count": 0,
      "outputs": []
    },
    {
      "cell_type": "code",
      "metadata": {
        "id": "ysCUSprNZI0Q",
        "colab_type": "code",
        "outputId": "c7e25a0b-074e-41c0-9920-0b35bf60e3ac",
        "colab": {
          "base_uri": "https://localhost:8080/",
          "height": 34
        }
      },
      "source": [
        "np.sqrt(mean_squared_error(y_train,pred_DT_train))"
      ],
      "execution_count": 175,
      "outputs": [
        {
          "output_type": "execute_result",
          "data": {
            "text/plain": [
              "2.9615993370594675"
            ]
          },
          "metadata": {
            "tags": []
          },
          "execution_count": 175
        }
      ]
    },
    {
      "cell_type": "code",
      "metadata": {
        "id": "L1Fqb-WfZIvu",
        "colab_type": "code",
        "outputId": "712e85fd-a907-41ff-d91d-5d77941529cc",
        "colab": {
          "base_uri": "https://localhost:8080/",
          "height": 34
        }
      },
      "source": [
        "np.sqrt(mean_squared_error(y_test,pred_DT_test))"
      ],
      "execution_count": 176,
      "outputs": [
        {
          "output_type": "execute_result",
          "data": {
            "text/plain": [
              "2.9789752615711014"
            ]
          },
          "metadata": {
            "tags": []
          },
          "execution_count": 176
        }
      ]
    },
    {
      "cell_type": "code",
      "metadata": {
        "id": "j5D32j6IZIkg",
        "colab_type": "code",
        "outputId": "64a6c415-1a19-4428-a01b-96acdae1779e",
        "colab": {
          "base_uri": "https://localhost:8080/",
          "height": 34
        }
      },
      "source": [
        "r2_score(y_test, pred_DT_test)"
      ],
      "execution_count": 177,
      "outputs": [
        {
          "output_type": "execute_result",
          "data": {
            "text/plain": [
              "0.6971242016646277"
            ]
          },
          "metadata": {
            "tags": []
          },
          "execution_count": 177
        }
      ]
    },
    {
      "cell_type": "code",
      "metadata": {
        "id": "D5ET0uvkkppt",
        "colab_type": "code",
        "colab": {}
      },
      "source": [
        "pred_test_DT=reg_DT.predict(test_data)"
      ],
      "execution_count": 0,
      "outputs": []
    },
    {
      "cell_type": "code",
      "metadata": {
        "id": "kD2hxNApkplj",
        "colab_type": "code",
        "colab": {}
      },
      "source": [
        "df1['pred_test_DT']=pred_test_DT"
      ],
      "execution_count": 0,
      "outputs": []
    },
    {
      "cell_type": "markdown",
      "metadata": {
        "id": "S9XGYxD2kQOZ",
        "colab_type": "text"
      },
      "source": [
        "> Random Forest Tuning"
      ]
    },
    {
      "cell_type": "code",
      "metadata": {
        "colab_type": "code",
        "id": "1EjouzPiJXNl",
        "colab": {}
      },
      "source": [
        "# Creating a dictionary of parameters for tuning Random Forest\n",
        "z={'n_estimators':[1000,5000,10000,50000],'max_depth':[2,3,5,7,10,15],'min_samples_leaf':[2,3,5,7,10,15],'min_samples_split':[2,3,5,7,10,15],'max_features':\n",
        "   ['auto','sqrt','log2'],'oob_score':[True],'n_jobs':[-1]}"
      ],
      "execution_count": 0,
      "outputs": []
    },
    {
      "cell_type": "code",
      "metadata": {
        "colab_type": "code",
        "id": "QPqF5nIWJXN0",
        "colab": {}
      },
      "source": [
        "regression = RandomizedSearchCV(reg_RF,param_distributions=z, random_state=1)"
      ],
      "execution_count": 0,
      "outputs": []
    },
    {
      "cell_type": "code",
      "metadata": {
        "colab_type": "code",
        "outputId": "edc15f58-927a-4bd5-e8aa-3b11f67b85d0",
        "id": "u8_oEwnFJXN3",
        "colab": {
          "base_uri": "https://localhost:8080/",
          "height": 71
        }
      },
      "source": [
        "best_model = regression.fit(X_train, y_train)"
      ],
      "execution_count": 183,
      "outputs": [
        {
          "output_type": "stream",
          "text": [
            "/usr/local/lib/python3.6/dist-packages/sklearn/model_selection/_split.py:1978: FutureWarning: The default value of cv will change from 3 to 5 in version 0.22. Specify it explicitly to silence this warning.\n",
            "  warnings.warn(CV_WARNING, FutureWarning)\n"
          ],
          "name": "stderr"
        }
      ]
    },
    {
      "cell_type": "code",
      "metadata": {
        "colab_type": "code",
        "outputId": "7fa73b66-fdd3-48f6-a63f-f0bb77b31aa7",
        "id": "bYwWi1MIJXN8",
        "colab": {
          "base_uri": "https://localhost:8080/",
          "height": 136
        }
      },
      "source": [
        "best_model.best_params_"
      ],
      "execution_count": 184,
      "outputs": [
        {
          "output_type": "execute_result",
          "data": {
            "text/plain": [
              "{'max_depth': 7,\n",
              " 'max_features': 'auto',\n",
              " 'min_samples_leaf': 2,\n",
              " 'min_samples_split': 3,\n",
              " 'n_estimators': 1000,\n",
              " 'n_jobs': -1,\n",
              " 'oob_score': True}"
            ]
          },
          "metadata": {
            "tags": []
          },
          "execution_count": 184
        }
      ]
    },
    {
      "cell_type": "code",
      "metadata": {
        "colab_type": "code",
        "outputId": "5babc922-df44-4602-cff6-4c38423d11bd",
        "id": "uEcxJCgHJXN-",
        "colab": {
          "base_uri": "https://localhost:8080/",
          "height": 136
        }
      },
      "source": [
        "reg_RF=RandomForestRegressor(n_estimators=1000,max_depth=7,min_samples_leaf=2,min_samples_split=3,n_jobs=-1,oob_score=True)\n",
        "reg_RF.fit(X_train,y_train)"
      ],
      "execution_count": 185,
      "outputs": [
        {
          "output_type": "execute_result",
          "data": {
            "text/plain": [
              "RandomForestRegressor(bootstrap=True, criterion='mse', max_depth=7,\n",
              "                      max_features='auto', max_leaf_nodes=None,\n",
              "                      min_impurity_decrease=0.0, min_impurity_split=None,\n",
              "                      min_samples_leaf=2, min_samples_split=3,\n",
              "                      min_weight_fraction_leaf=0.0, n_estimators=1000,\n",
              "                      n_jobs=-1, oob_score=True, random_state=None, verbose=0,\n",
              "                      warm_start=False)"
            ]
          },
          "metadata": {
            "tags": []
          },
          "execution_count": 185
        }
      ]
    },
    {
      "cell_type": "code",
      "metadata": {
        "colab_type": "code",
        "id": "sLzwNjnLJXOF",
        "colab": {}
      },
      "source": [
        "pred_RF_train=reg_RF.predict(X_train)\n",
        "pred_RF_test=reg_RF.predict(X_test)"
      ],
      "execution_count": 0,
      "outputs": []
    },
    {
      "cell_type": "code",
      "metadata": {
        "colab_type": "code",
        "outputId": "9ebda88e-04e4-4b56-e320-fe03a6a091d8",
        "id": "hSVW1fh9JXOJ",
        "colab": {
          "base_uri": "https://localhost:8080/",
          "height": 34
        }
      },
      "source": [
        "np.sqrt(mean_squared_error(y_train,pred_RF_train))"
      ],
      "execution_count": 187,
      "outputs": [
        {
          "output_type": "execute_result",
          "data": {
            "text/plain": [
              "2.8593489582444005"
            ]
          },
          "metadata": {
            "tags": []
          },
          "execution_count": 187
        }
      ]
    },
    {
      "cell_type": "code",
      "metadata": {
        "colab_type": "code",
        "outputId": "9541230b-563a-4455-90a5-77d6b73798d2",
        "id": "f20xtrsXJXOM",
        "colab": {
          "base_uri": "https://localhost:8080/",
          "height": 34
        }
      },
      "source": [
        "np.sqrt(mean_squared_error(y_test,pred_RF_test))"
      ],
      "execution_count": 188,
      "outputs": [
        {
          "output_type": "execute_result",
          "data": {
            "text/plain": [
              "2.8908197690074027"
            ]
          },
          "metadata": {
            "tags": []
          },
          "execution_count": 188
        }
      ]
    },
    {
      "cell_type": "code",
      "metadata": {
        "colab_type": "code",
        "outputId": "ffd4b9ad-b633-45c8-f20e-cbb58c0013f9",
        "id": "FbgLt3BrJXOP",
        "colab": {
          "base_uri": "https://localhost:8080/",
          "height": 34
        }
      },
      "source": [
        "r2_score(y_test, pred_RF_test)"
      ],
      "execution_count": 189,
      "outputs": [
        {
          "output_type": "execute_result",
          "data": {
            "text/plain": [
              "0.7147847055694747"
            ]
          },
          "metadata": {
            "tags": []
          },
          "execution_count": 189
        }
      ]
    },
    {
      "cell_type": "code",
      "metadata": {
        "id": "i9KBvKaKk27d",
        "colab_type": "code",
        "colab": {}
      },
      "source": [
        "pred_test_RF=reg_RF.predict(test_data)"
      ],
      "execution_count": 0,
      "outputs": []
    },
    {
      "cell_type": "code",
      "metadata": {
        "id": "KVpKhbu4k2ko",
        "colab_type": "code",
        "colab": {}
      },
      "source": [
        "df1['pred_test_RF']=pred_test_RF"
      ],
      "execution_count": 0,
      "outputs": []
    },
    {
      "cell_type": "code",
      "metadata": {
        "id": "Wz5a4BjaeHCf",
        "colab_type": "code",
        "colab": {
          "base_uri": "https://localhost:8080/",
          "height": 289
        },
        "outputId": "afd2bf56-9e15-435e-c30d-cebbb6422169"
      },
      "source": [
        "df1=df1.drop(['pred_test_GB'],axis=1)\n",
        "df1.info()"
      ],
      "execution_count": 226,
      "outputs": [
        {
          "output_type": "stream",
          "text": [
            "<class 'pandas.core.frame.DataFrame'>\n",
            "RangeIndex: 9914 entries, 0 to 9913\n",
            "Data columns (total 11 columns):\n",
            "pickup_datetime      9914 non-null object\n",
            "pickup_longitude     9914 non-null float64\n",
            "pickup_latitude      9914 non-null float64\n",
            "dropoff_longitude    9914 non-null float64\n",
            "dropoff_latitude     9914 non-null float64\n",
            "passenger_count      9914 non-null int64\n",
            "pred_test_DT         9914 non-null float64\n",
            "pred_test_RF         9914 non-null float64\n",
            "pred_test_LR         9914 non-null float64\n",
            "pred_test_XGB        9914 non-null float64\n",
            "pred_test_SVR        9914 non-null float64\n",
            "dtypes: float64(9), int64(1), object(1)\n",
            "memory usage: 852.1+ KB\n"
          ],
          "name": "stdout"
        }
      ]
    },
    {
      "cell_type": "code",
      "metadata": {
        "id": "VYtcZgBGA3DZ",
        "colab_type": "code",
        "colab": {}
      },
      "source": [
        "df1.to_csv('Output.csv')\n",
        "files.download('Output.csv')"
      ],
      "execution_count": 0,
      "outputs": []
    }
  ]
}